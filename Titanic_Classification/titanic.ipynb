{
 "cells": [
  {
   "cell_type": "code",
   "execution_count": 12,
   "metadata": {
    "collapsed": true
   },
   "outputs": [],
   "source": [
    "# import packages\n",
    "import numpy as np\n",
    "import pandas as pd\n",
    "from sklearn import preprocessing\n",
    "from sklearn import tree\n",
    "from sklearn.metrics import accuracy_score\n",
    "import matplotlib.pyplot as plt"
   ]
  },
  {
   "cell_type": "code",
   "execution_count": 13,
   "metadata": {
    "collapsed": true
   },
   "outputs": [],
   "source": [
    "# Import data\n",
    "train = pd.read_csv(\"train.csv\", index_col='PassengerId')\n",
    "test = pd.read_csv(\"test.csv\", index_col='PassengerId')\n",
    "test_survived = pd.read_csv(\"gender_submission.csv\", index_col='PassengerId')"
   ]
  },
  {
   "cell_type": "code",
   "execution_count": 14,
   "metadata": {},
   "outputs": [
    {
     "data": {
      "text/html": [
       "<div>\n",
       "<style>\n",
       "    .dataframe thead tr:only-child th {\n",
       "        text-align: right;\n",
       "    }\n",
       "\n",
       "    .dataframe thead th {\n",
       "        text-align: left;\n",
       "    }\n",
       "\n",
       "    .dataframe tbody tr th {\n",
       "        vertical-align: top;\n",
       "    }\n",
       "</style>\n",
       "<table border=\"1\" class=\"dataframe\">\n",
       "  <thead>\n",
       "    <tr style=\"text-align: right;\">\n",
       "      <th></th>\n",
       "      <th></th>\n",
       "      <th>Survived</th>\n",
       "      <th>Age</th>\n",
       "      <th>SibSp</th>\n",
       "      <th>Parch</th>\n",
       "      <th>Fare</th>\n",
       "    </tr>\n",
       "    <tr>\n",
       "      <th>Pclass</th>\n",
       "      <th>Sex</th>\n",
       "      <th></th>\n",
       "      <th></th>\n",
       "      <th></th>\n",
       "      <th></th>\n",
       "      <th></th>\n",
       "    </tr>\n",
       "  </thead>\n",
       "  <tbody>\n",
       "    <tr>\n",
       "      <th rowspan=\"2\" valign=\"top\">1</th>\n",
       "      <th>female</th>\n",
       "      <td>0.968085</td>\n",
       "      <td>34.611765</td>\n",
       "      <td>0.553191</td>\n",
       "      <td>0.457447</td>\n",
       "      <td>106.125798</td>\n",
       "    </tr>\n",
       "    <tr>\n",
       "      <th>male</th>\n",
       "      <td>0.368852</td>\n",
       "      <td>41.281386</td>\n",
       "      <td>0.311475</td>\n",
       "      <td>0.278689</td>\n",
       "      <td>67.226127</td>\n",
       "    </tr>\n",
       "    <tr>\n",
       "      <th rowspan=\"2\" valign=\"top\">2</th>\n",
       "      <th>female</th>\n",
       "      <td>0.921053</td>\n",
       "      <td>28.722973</td>\n",
       "      <td>0.486842</td>\n",
       "      <td>0.605263</td>\n",
       "      <td>21.970121</td>\n",
       "    </tr>\n",
       "    <tr>\n",
       "      <th>male</th>\n",
       "      <td>0.157407</td>\n",
       "      <td>30.740707</td>\n",
       "      <td>0.342593</td>\n",
       "      <td>0.222222</td>\n",
       "      <td>19.741782</td>\n",
       "    </tr>\n",
       "    <tr>\n",
       "      <th rowspan=\"2\" valign=\"top\">3</th>\n",
       "      <th>female</th>\n",
       "      <td>0.500000</td>\n",
       "      <td>21.750000</td>\n",
       "      <td>0.895833</td>\n",
       "      <td>0.798611</td>\n",
       "      <td>16.118810</td>\n",
       "    </tr>\n",
       "    <tr>\n",
       "      <th>male</th>\n",
       "      <td>0.135447</td>\n",
       "      <td>26.507589</td>\n",
       "      <td>0.498559</td>\n",
       "      <td>0.224784</td>\n",
       "      <td>12.661633</td>\n",
       "    </tr>\n",
       "  </tbody>\n",
       "</table>\n",
       "</div>"
      ],
      "text/plain": [
       "               Survived        Age     SibSp     Parch        Fare\n",
       "Pclass Sex                                                        \n",
       "1      female  0.968085  34.611765  0.553191  0.457447  106.125798\n",
       "       male    0.368852  41.281386  0.311475  0.278689   67.226127\n",
       "2      female  0.921053  28.722973  0.486842  0.605263   21.970121\n",
       "       male    0.157407  30.740707  0.342593  0.222222   19.741782\n",
       "3      female  0.500000  21.750000  0.895833  0.798611   16.118810\n",
       "       male    0.135447  26.507589  0.498559  0.224784   12.661633"
      ]
     },
     "execution_count": 14,
     "metadata": {},
     "output_type": "execute_result"
    }
   ],
   "source": [
    "# EDA - average value of attributes based on different Pclass-Sex combination\n",
    "train.groupby(['Pclass','Sex']).mean()"
   ]
  },
  {
   "cell_type": "code",
   "execution_count": 15,
   "metadata": {},
   "outputs": [
    {
     "data": {
      "text/html": [
       "<div>\n",
       "<style>\n",
       "    .dataframe thead tr:only-child th {\n",
       "        text-align: right;\n",
       "    }\n",
       "\n",
       "    .dataframe thead th {\n",
       "        text-align: left;\n",
       "    }\n",
       "\n",
       "    .dataframe tbody tr th {\n",
       "        vertical-align: top;\n",
       "    }\n",
       "</style>\n",
       "<table border=\"1\" class=\"dataframe\">\n",
       "  <thead>\n",
       "    <tr style=\"text-align: right;\">\n",
       "      <th></th>\n",
       "      <th>Survived</th>\n",
       "      <th>Pclass</th>\n",
       "      <th>Age</th>\n",
       "      <th>SibSp</th>\n",
       "      <th>Parch</th>\n",
       "      <th>Fare</th>\n",
       "    </tr>\n",
       "    <tr>\n",
       "      <th>Age</th>\n",
       "      <th></th>\n",
       "      <th></th>\n",
       "      <th></th>\n",
       "      <th></th>\n",
       "      <th></th>\n",
       "      <th></th>\n",
       "    </tr>\n",
       "  </thead>\n",
       "  <tbody>\n",
       "    <tr>\n",
       "      <th>(0, 10]</th>\n",
       "      <td>0.593750</td>\n",
       "      <td>2.640625</td>\n",
       "      <td>4.268281</td>\n",
       "      <td>1.843750</td>\n",
       "      <td>1.421875</td>\n",
       "      <td>30.434439</td>\n",
       "    </tr>\n",
       "    <tr>\n",
       "      <th>(10, 20]</th>\n",
       "      <td>0.382609</td>\n",
       "      <td>2.530435</td>\n",
       "      <td>17.317391</td>\n",
       "      <td>0.591304</td>\n",
       "      <td>0.391304</td>\n",
       "      <td>29.529531</td>\n",
       "    </tr>\n",
       "    <tr>\n",
       "      <th>(20, 30]</th>\n",
       "      <td>0.365217</td>\n",
       "      <td>2.386957</td>\n",
       "      <td>25.423913</td>\n",
       "      <td>0.321739</td>\n",
       "      <td>0.239130</td>\n",
       "      <td>28.306719</td>\n",
       "    </tr>\n",
       "    <tr>\n",
       "      <th>(30, 40]</th>\n",
       "      <td>0.445161</td>\n",
       "      <td>2.090323</td>\n",
       "      <td>35.051613</td>\n",
       "      <td>0.374194</td>\n",
       "      <td>0.393548</td>\n",
       "      <td>42.496100</td>\n",
       "    </tr>\n",
       "    <tr>\n",
       "      <th>(40, 50]</th>\n",
       "      <td>0.383721</td>\n",
       "      <td>1.918605</td>\n",
       "      <td>45.372093</td>\n",
       "      <td>0.372093</td>\n",
       "      <td>0.430233</td>\n",
       "      <td>41.163181</td>\n",
       "    </tr>\n",
       "    <tr>\n",
       "      <th>(50, 60]</th>\n",
       "      <td>0.404762</td>\n",
       "      <td>1.523810</td>\n",
       "      <td>54.892857</td>\n",
       "      <td>0.309524</td>\n",
       "      <td>0.309524</td>\n",
       "      <td>44.774802</td>\n",
       "    </tr>\n",
       "    <tr>\n",
       "      <th>(60, 70]</th>\n",
       "      <td>0.235294</td>\n",
       "      <td>1.529412</td>\n",
       "      <td>63.882353</td>\n",
       "      <td>0.176471</td>\n",
       "      <td>0.352941</td>\n",
       "      <td>45.910782</td>\n",
       "    </tr>\n",
       "    <tr>\n",
       "      <th>(70, 80]</th>\n",
       "      <td>0.200000</td>\n",
       "      <td>1.800000</td>\n",
       "      <td>73.300000</td>\n",
       "      <td>0.000000</td>\n",
       "      <td>0.000000</td>\n",
       "      <td>25.936680</td>\n",
       "    </tr>\n",
       "  </tbody>\n",
       "</table>\n",
       "</div>"
      ],
      "text/plain": [
       "          Survived    Pclass        Age     SibSp     Parch       Fare\n",
       "Age                                                                   \n",
       "(0, 10]   0.593750  2.640625   4.268281  1.843750  1.421875  30.434439\n",
       "(10, 20]  0.382609  2.530435  17.317391  0.591304  0.391304  29.529531\n",
       "(20, 30]  0.365217  2.386957  25.423913  0.321739  0.239130  28.306719\n",
       "(30, 40]  0.445161  2.090323  35.051613  0.374194  0.393548  42.496100\n",
       "(40, 50]  0.383721  1.918605  45.372093  0.372093  0.430233  41.163181\n",
       "(50, 60]  0.404762  1.523810  54.892857  0.309524  0.309524  44.774802\n",
       "(60, 70]  0.235294  1.529412  63.882353  0.176471  0.352941  45.910782\n",
       "(70, 80]  0.200000  1.800000  73.300000  0.000000  0.000000  25.936680"
      ]
     },
     "execution_count": 15,
     "metadata": {},
     "output_type": "execute_result"
    }
   ],
   "source": [
    "# EDA - average value of attributes based on different age range\n",
    "age_range = pd.cut(train.Age, np.arange(0,90,10))\n",
    "train.groupby(age_range).mean()"
   ]
  },
  {
   "cell_type": "code",
   "execution_count": 16,
   "metadata": {},
   "outputs": [
    {
     "name": "stdout",
     "output_type": "stream",
     "text": [
      "Train Dataset:\n",
      "Survived    891\n",
      "Pclass      891\n",
      "Name        891\n",
      "Sex         891\n",
      "Age         714\n",
      "SibSp       891\n",
      "Parch       891\n",
      "Ticket      891\n",
      "Fare        891\n",
      "Cabin       204\n",
      "Embarked    889\n",
      "dtype: int64\n",
      "\n",
      "Test Dataset:\n",
      "Pclass      418\n",
      "Name        418\n",
      "Sex         418\n",
      "Age         332\n",
      "SibSp       418\n",
      "Parch       418\n",
      "Ticket      418\n",
      "Fare        417\n",
      "Cabin        91\n",
      "Embarked    418\n",
      "dtype: int64\n"
     ]
    }
   ],
   "source": [
    "# EDA - volume of test and train data\n",
    "print(f\"Train Dataset:\\n{train.count()}\\n\")\n",
    "print(f\"Test Dataset:\\n{test.count()}\")"
   ]
  },
  {
   "cell_type": "markdown",
   "metadata": {
    "collapsed": true
   },
   "source": [
    "Train dataset has missing data on \"Age\", \"Cabin\", \"Embarked\"\n",
    "\n",
    "Test dataset has missing data on \"Age\", \"Fare\", \"Cabin\"\n",
    "\n",
    "Conclusion:\n",
    "\n",
    "* drop \"Cabin\" (too little data, not a good category variable)\n",
    "\n",
    "* drop \"Ticket\" (not a category variable)\n",
    "\n",
    "* drop \"Name\" (not a category variable)\n",
    "\n",
    "* impute missing value for \"Age\", \"Embarked\", \"Fare\""
   ]
  },
  {
   "cell_type": "code",
   "execution_count": 17,
   "metadata": {},
   "outputs": [
    {
     "data": {
      "image/png": "[encoded data removed]",
      "text/plain": [
       "<matplotlib.figure.Figure at 0x10f082b38>"
      ]
     },
     "metadata": {},
     "output_type": "display_data"
    }
   ],
   "source": [
    "# handle missing values of Age\n",
    "train.Age.hist()\n",
    "plt.show()"
   ]
  },
  {
   "cell_type": "markdown",
   "metadata": {},
   "source": [
    "The distribution of Age is not normal. Therefore, impute missing values with median age"
   ]
  },
  {
   "cell_type": "code",
   "execution_count": 18,
   "metadata": {},
   "outputs": [
    {
     "data": {
      "image/png": "[encoded data removed]",
      "text/plain": [
       "<matplotlib.figure.Figure at 0x10f88fd68>"
      ]
     },
     "metadata": {},
     "output_type": "display_data"
    }
   ],
   "source": [
    "# handle missing values of Embarked\n",
    "train.Embarked.hist()\n",
    "plt.show()"
   ]
  },
  {
   "cell_type": "markdown",
   "metadata": {},
   "source": [
    "Impute missing values with \"S\" (mode), because:\n",
    "\n",
    "* only very few missing data\n",
    "* S is the majority"
   ]
  },
  {
   "cell_type": "code",
   "execution_count": 19,
   "metadata": {},
   "outputs": [
    {
     "data": {
      "image/png": "[encoded data removed]",
      "text/plain": [
       "<matplotlib.figure.Figure at 0x10f82f3c8>"
      ]
     },
     "metadata": {},
     "output_type": "display_data"
    }
   ],
   "source": [
    "# handle missing values of Fare\n",
    "train.Fare.hist()\n",
    "plt.show()"
   ]
  },
  {
   "cell_type": "markdown",
   "metadata": {},
   "source": [
    "The distribution of Fare is not normal. Therefore, impute missing values with median Fare"
   ]
  },
  {
   "cell_type": "code",
   "execution_count": 20,
   "metadata": {
    "collapsed": true
   },
   "outputs": [],
   "source": [
    "# Combine train x and test x\n",
    "train_x = train.drop(['Survived'],axis=1)\n",
    "test_x = test.copy()\n",
    "attr = pd.concat([train_x, test_x])\n",
    "\n",
    "# Preparing data for machine learning algorithm\n",
    "attr = attr.drop(['Name','Cabin','Ticket'],axis=1)\n",
    "attr.Age = attr.Age.fillna(attr.Age.median(skipna=True))\n",
    "attr.Fare = attr.Fare.fillna(attr.Fare.median(skipna=True))\n",
    "attr.Embarked = attr.Embarked.fillna(attr.Embarked.mode()[0])\n",
    "le = preprocessing.LabelEncoder()\n",
    "attr.Sex = le.fit_transform(attr.Sex)\n",
    "attr.Embarked = le.fit_transform(attr.Embarked)\n",
    "\n",
    "# split train x and test x\n",
    "train_x = attr[:len(train_x)].copy()\n",
    "test_x = attr[-len(test_x):].copy()\n",
    "\n",
    "# extract train y and test y\n",
    "train_y = train['Survived']\n",
    "test_y = test_survived.copy()"
   ]
  },
  {
   "cell_type": "code",
   "execution_count": 31,
   "metadata": {},
   "outputs": [
    {
     "data": {
      "text/plain": [
       "0.80622009569377995"
      ]
     },
     "execution_count": 31,
     "metadata": {},
     "output_type": "execute_result"
    }
   ],
   "source": [
    "# Decision Tree Model\n",
    "dt = tree.DecisionTreeClassifier()\n",
    "dt = dt.fit(train_x, train_y)\n",
    "pred_y = pd.DataFrame(dt.predict(test_x), index=test_y.index, columns=['Survived'])\n",
    "accuracy_score(test_y, pred_y)"
   ]
  },
  {
   "cell_type": "code",
   "execution_count": 22,
   "metadata": {
    "collapsed": true
   },
   "outputs": [],
   "source": [
    "# Export prediction\n",
    "pred_y.to_csv('prediction.csv')"
   ]
  }
 ],
 "metadata": {
  "kernelspec": {
   "display_name": "Python 3",
   "language": "python",
   "name": "python3"
  },
  "language_info": {
   "codemirror_mode": {
    "name": "ipython",
    "version": 3
   },
   "file_extension": ".py",
   "mimetype": "text/x-python",
   "name": "python",
   "nbconvert_exporter": "python",
   "pygments_lexer": "ipython3",
   "version": "3.6.3"
  }
 },
 "nbformat": 4,
 "nbformat_minor": 2
}
