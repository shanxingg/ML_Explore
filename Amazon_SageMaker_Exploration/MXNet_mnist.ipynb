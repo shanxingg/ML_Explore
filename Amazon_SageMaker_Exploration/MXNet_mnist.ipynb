{
 "cells": [
  {
   "cell_type": "markdown",
   "metadata": {},
   "source": [
    "## Introduction\n",
    "\n",
    "This is my first SageMaker exploration: Improve clustering accuracy by modifing K-means to MXNet.\n",
    "\n",
    "Welcome to our first end-to-end example! Today, we're working through a classification problem, specifically of images of handwritten digits, from zero to nine. Let's imagine that this dataset doesn't have labels, so we don't know for sure what the true answer is. In later examples, we'll show the value of \"ground truth\", as it's commonly known.\n",
    "\n",
    "Today, however, we need to get these digits classified without ground truth. A common method for doing this is a set of methods known as \"clustering\", and in particular, the method that we'll look at today is called k-means clustering. In this method, each point belongs to the cluster with the closest mean, and the data is partitioned into a number of clusters that is specified when framing the problem. In this case, since we know there are 10 clusters, and we have no labeled data (in the way we framed the problem), this is a good fit.\n",
    "\n",
    "To get started, we need to set up the environment with a few prerequisite steps, for permissions, configurations, and so on."
   ]
  },
  {
   "cell_type": "markdown",
   "metadata": {},
   "source": [
    "## Prequisites and Preprocessing\n",
    "\n",
    "### Permissions and environment variables\n",
    "\n",
    "Here we set up the linkage and authentication to AWS services. There are two parts to this:\n",
    "\n",
    "1. The role(s) used to give learning and hosting access to your data. Here we extract the role you created earlier for accessing your notebook.  See the documentation if you want to specify  a different role\n",
    "1. The S3 bucket name and locations that you want to use for training and model data."
   ]
  },
  {
   "cell_type": "code",
   "execution_count": 1,
   "metadata": {
    "collapsed": true,
    "isConfigCell": true
   },
   "outputs": [],
   "source": [
    "from sagemaker import get_execution_role\n",
    "\n",
    "role = get_execution_role()\n",
    "bucket='shanxingprojects'"
   ]
  },
  {
   "cell_type": "markdown",
   "metadata": {},
   "source": [
    "### Data ingestion\n",
    "\n",
    "Next, we read the dataset from the existing repository into memory, for preprocessing prior to training.  In this case we'll use the MNIST dataset, which contains 70K 28 x 28 pixel images of handwritten digits.  For more details, please see [here](http://yann.lecun.com/exdb/mnist/).\n",
    "\n",
    "This processing could be done *in situ* by Amazon Athena, Apache Spark in Amazon EMR, Amazon Redshift, etc., assuming the dataset is present in the appropriate location. Then, the next step would be to transfer the data to S3 for use in training. For small datasets, such as this one, reading into memory isn't onerous, though it would be for larger datasets."
   ]
  },
  {
   "cell_type": "code",
   "execution_count": 2,
   "metadata": {},
   "outputs": [
    {
     "name": "stdout",
     "output_type": "stream",
     "text": [
      "CPU times: user 900 ms, sys: 276 ms, total: 1.18 s\n",
      "Wall time: 4.49 s\n"
     ]
    }
   ],
   "source": [
    "%%time\n",
    "import pickle, gzip, numpy, urllib.request, json\n",
    "\n",
    "# Load the dataset\n",
    "urllib.request.urlretrieve(\"http://deeplearning.net/data/mnist/mnist.pkl.gz\", \"mnist.pkl.gz\")\n",
    "with gzip.open('mnist.pkl.gz', 'rb') as f:\n",
    "    train_set, valid_set, test_set = pickle.load(f, encoding='latin1')"
   ]
  },
  {
   "cell_type": "markdown",
   "metadata": {},
   "source": [
    "### Data inspection\n",
    "\n",
    "Once the dataset is imported, it's typical as part of the machine learning process to inspect the data, understand the distributions, and determine what type(s) of preprocessing might be needed. You can perform those tasks right here in the notebook. As an example, let's go ahead and look at one of the digits that is part of the dataset."
   ]
  },
  {
   "cell_type": "code",
   "execution_count": 3,
   "metadata": {},
   "outputs": [
    {
     "data": {
      "image/png": "[encoded data removed]",
      "text/plain": [
       "<matplotlib.figure.Figure at 0x7fb039eba0b8>"
      ]
     },
     "metadata": {},
     "output_type": "display_data"
    }
   ],
   "source": [
    "%matplotlib inline\n",
    "import matplotlib.pyplot as plt\n",
    "plt.rcParams[\"figure.figsize\"] = (2,10)\n",
    "\n",
    "\n",
    "def show_digit(img, caption='', subplot=None):\n",
    "    if subplot==None:\n",
    "        _,(subplot)=plt.subplots(1,1)\n",
    "    imgr=img.reshape((28,28))\n",
    "    subplot.axis('off')\n",
    "    subplot.imshow(imgr, cmap='gray')\n",
    "    plt.title(caption)\n",
    "\n",
    "show_digit(train_set[0][30], 'This is a {}'.format(train_set[1][30]))"
   ]
  },
  {
   "cell_type": "markdown",
   "metadata": {},
   "source": [
    "## Training the MXNet model\n",
    "\n",
    "Once we have the data preprocessed and available in the correct format for training, the next step is to actually train the model using the data. \n",
    "\n",
    "After setting training parameters, we kick off training, and poll for status until training is completed, which in this example, takes between 7 and 11 minutes."
   ]
  },
  {
   "cell_type": "code",
   "execution_count": 4,
   "metadata": {},
   "outputs": [
    {
     "name": "stdout",
     "output_type": "stream",
     "text": [
      "training data will be uploaded to: s3://shanxingprojects/mxnet/code_output\n",
      "training artifacts will be uploaded to: s3://shanxingprojects/model_result\n"
     ]
    }
   ],
   "source": [
    "#Bucket location to save your custom code in tar.gz format.\n",
    "custom_code_upload_location = 's3://shanxingprojects/mxnet/code_output'\n",
    "\n",
    "#Bucket location where results of model training are saved.\n",
    "model_artifacts_location = 's3://shanxingprojects/model_result'\n",
    "\n",
    "#IAM execution role that gives SageMaker access to resources in your AWS account.\n",
    "#We can use the SageMaker Python SDK to get the role from our notebook environment. \n",
    "role = get_execution_role()\n",
    "print('training data will be uploaded to: {}'.format(custom_code_upload_location))\n",
    "print('training artifacts will be uploaded to: {}'.format(model_artifacts_location))"
   ]
  },
  {
   "cell_type": "code",
   "execution_count": 5,
   "metadata": {
    "collapsed": true
   },
   "outputs": [],
   "source": [
    "#!cat mnist.py"
   ]
  },
  {
   "cell_type": "code",
   "execution_count": 6,
   "metadata": {},
   "outputs": [
    {
     "name": "stdout",
     "output_type": "stream",
     "text": [
      "CPU times: user 20 ms, sys: 8 ms, total: 28 ms\n",
      "Wall time: 28.4 ms\n"
     ]
    }
   ],
   "source": [
    "%%time\n",
    "from sagemaker.mxnet import MXNet\n",
    "\n",
    "mnist_estimator = MXNet(entry_point='mnist.py',\n",
    "                        role=role,\n",
    "                        output_path=model_artifacts_location,\n",
    "                        code_location=custom_code_upload_location,\n",
    "                        train_instance_count=1, \n",
    "                        train_instance_type='ml.m4.xlarge',\n",
    "                        hyperparameters={'learning_rate': 0.1})"
   ]
  },
  {
   "cell_type": "code",
   "execution_count": 7,
   "metadata": {
    "scrolled": false
   },
   "outputs": [
    {
     "name": "stderr",
     "output_type": "stream",
     "text": [
      "INFO:sagemaker:Creating training-job with name: sagemaker-mxnet-py2-cpu-2018-03-10-00-10-24-018\n"
     ]
    },
    {
     "name": "stdout",
     "output_type": "stream",
     "text": [
      ".....................................................................\n",
      "\u001b[31mexecuting startup script (first run)\u001b[0m\n",
      "\u001b[31m2018-03-10 00:15:44,823 INFO - root - running container entrypoint\u001b[0m\n",
      "\u001b[31m2018-03-10 00:15:44,823 INFO - root - starting train task\u001b[0m\n",
      "\u001b[31m2018-03-10 00:15:46,709 INFO - mxnet_container.train - MXNetTrainingEnvironment: {'enable_cloudwatch_metrics': False, 'available_gpus': 0, 'channels': {u'test': {u'TrainingInputMode': u'File', u'RecordWrapperType': u'None', u'S3DistributionType': u'FullyReplicated'}, u'train': {u'TrainingInputMode': u'File', u'RecordWrapperType': u'None', u'S3DistributionType': u'FullyReplicated'}}, '_ps_verbose': 0, 'resource_config': {u'current_host': u'algo-1', u'hosts': [u'algo-1']}, 'user_script_name': u'mnist.py', 'input_config_dir': '/opt/ml/input/config', 'channel_dirs': {u'test': u'/opt/ml/input/data/test', u'train': u'/opt/ml/input/data/train'}, 'code_dir': '/opt/ml/code', 'output_data_dir': '/opt/ml/output/data/', 'output_dir': '/opt/ml/output', 'model_dir': '/opt/ml/model', 'hyperparameters': {u'sagemaker_program': u'mnist.py', u'learning_rate': 0.1, u'sagemaker_submit_directory': u's3://shanxingprojects/mxnet/code_output/sagemaker-mxnet-py2-cpu-2018-03-10-00-10-24-018/source/sourcedir.tar.gz', u'sagemaker_region': u'us-east-1', u'sagemaker_enable_cloudwatch_metrics': False, u'sagemaker_job_name': u'sagemaker-mxnet-py2-cpu-2018-03-10-00-10-24-018', u'sagemaker_container_log_level': 20}, 'hosts': [u'algo-1'], '_scheduler_ip': '10.32.0.4', '_ps_port': 8000, 'user_script_archive': u's3://shanxingprojects/mxnet/code_output/sagemaker-mxnet-py2-cpu-2018-03-10-00-10-24-018/source/sourcedir.tar.gz', '_scheduler_host': u'algo-1', 'sagemaker_region': u'us-east-1', 'input_dir': '/opt/ml/input', 'user_requirements_file': None, 'current_host': u'algo-1', 'container_log_level': 20, 'available_cpus': 4, 'base_dir': '/opt/ml'}\u001b[0m\n",
      "\u001b[31mDownloading s3://shanxingprojects/mxnet/code_output/sagemaker-mxnet-py2-cpu-2018-03-10-00-10-24-018/source/sourcedir.tar.gz to /tmp/script.tar.gz\u001b[0m\n",
      "\u001b[31m2018-03-10 00:15:46,816 INFO - botocore.vendored.requests.packages.urllib3.connectionpool - Starting new HTTP connection (1): 169.254.170.2\u001b[0m\n",
      "\u001b[31m2018-03-10 00:15:46,924 INFO - botocore.vendored.requests.packages.urllib3.connectionpool - Starting new HTTPS connection (1): s3.amazonaws.com\u001b[0m\n",
      "\u001b[31m2018-03-10 00:15:47,094 INFO - mxnet_container.train - Starting distributed training task\u001b[0m\n",
      "\u001b[31m2018-03-10 00:15:48,737 INFO - root - Epoch[0] Batch [100]#011Speed: 23605.12 samples/sec#011accuracy=0.111683\u001b[0m\n",
      "\u001b[31m2018-03-10 00:15:49,087 INFO - root - Epoch[0] Batch [200]#011Speed: 28545.75 samples/sec#011accuracy=0.116400\u001b[0m\n",
      "\u001b[31m2018-03-10 00:15:49,425 INFO - root - Epoch[0] Batch [300]#011Speed: 29605.95 samples/sec#011accuracy=0.107500\u001b[0m\n",
      "\u001b[31m2018-03-10 00:15:49,797 INFO - root - Epoch[0] Batch [400]#011Speed: 26949.81 samples/sec#011accuracy=0.118600\u001b[0m\n",
      "\u001b[31m2018-03-10 00:15:50,106 INFO - root - Epoch[0] Batch [500]#011Speed: 32391.80 samples/sec#011accuracy=0.111200\u001b[0m\n",
      "\u001b[31m2018-03-10 00:15:50,380 INFO - root - Epoch[0] Train-accuracy=0.269293\u001b[0m\n",
      "\u001b[31m2018-03-10 00:15:50,380 INFO - root - Epoch[0] Time cost=2.102\u001b[0m\n",
      "\u001b[31m2018-03-10 00:15:50,527 INFO - root - Epoch[0] Validation-accuracy=0.377800\u001b[0m\n",
      "\u001b[31m2018-03-10 00:15:50,914 INFO - root - Epoch[1] Batch [100]#011Speed: 26050.96 samples/sec#011accuracy=0.461089\u001b[0m\n",
      "\u001b[31m2018-03-10 00:15:51,255 INFO - root - Epoch[1] Batch [200]#011Speed: 29347.19 samples/sec#011accuracy=0.585200\u001b[0m\n",
      "\u001b[31m2018-03-10 00:15:51,557 INFO - root - Epoch[1] Batch [300]#011Speed: 33140.23 samples/sec#011accuracy=0.742500\u001b[0m\n",
      "\u001b[31m2018-03-10 00:15:51,996 INFO - root - Epoch[1] Batch [400]#011Speed: 22788.75 samples/sec#011accuracy=0.795500\u001b[0m\n",
      "\u001b[31m2018-03-10 00:15:52,367 INFO - root - Epoch[1] Batch [500]#011Speed: 27002.00 samples/sec#011accuracy=0.819500\u001b[0m\n",
      "\u001b[31m2018-03-10 00:15:52,724 INFO - root - Epoch[1] Train-accuracy=0.839091\u001b[0m\n",
      "\u001b[31m2018-03-10 00:15:52,725 INFO - root - Epoch[1] Time cost=2.197\u001b[0m\n",
      "\u001b[31m2018-03-10 00:15:52,878 INFO - root - Epoch[1] Validation-accuracy=0.853000\u001b[0m\n",
      "\u001b[31m2018-03-10 00:15:53,229 INFO - root - Epoch[2] Batch [100]#011Speed: 28645.43 samples/sec#011accuracy=0.863366\u001b[0m\n",
      "\u001b[31m2018-03-10 00:15:53,542 INFO - root - Epoch[2] Batch [200]#011Speed: 31964.71 samples/sec#011accuracy=0.871600\u001b[0m\n",
      "\u001b[31m2018-03-10 00:15:53,920 INFO - root - Epoch[2] Batch [300]#011Speed: 26500.52 samples/sec#011accuracy=0.888600\u001b[0m\n",
      "\u001b[31m2018-03-10 00:15:54,228 INFO - root - Epoch[2] Batch [400]#011Speed: 32533.66 samples/sec#011accuracy=0.896000\u001b[0m\n",
      "\u001b[31m2018-03-10 00:15:54,567 INFO - root - Epoch[2] Batch [500]#011Speed: 29539.74 samples/sec#011accuracy=0.904500\u001b[0m\n",
      "\u001b[31m2018-03-10 00:15:54,941 INFO - root - Epoch[2] Train-accuracy=0.909394\u001b[0m\n",
      "\u001b[31m2018-03-10 00:15:54,941 INFO - root - Epoch[2] Time cost=2.063\u001b[0m\n",
      "\u001b[31m2018-03-10 00:15:55,083 INFO - root - Epoch[2] Validation-accuracy=0.919000\u001b[0m\n",
      "\u001b[31m2018-03-10 00:15:55,417 INFO - root - Epoch[3] Batch [100]#011Speed: 30194.33 samples/sec#011accuracy=0.920891\u001b[0m\n",
      "\u001b[31m2018-03-10 00:15:55,770 INFO - root - Epoch[3] Batch [200]#011Speed: 28371.70 samples/sec#011accuracy=0.919200\u001b[0m\n",
      "\u001b[31m2018-03-10 00:15:56,075 INFO - root - Epoch[3] Batch [300]#011Speed: 32831.56 samples/sec#011accuracy=0.930700\u001b[0m\n",
      "\u001b[31m2018-03-10 00:15:56,361 INFO - root - Epoch[3] Batch [400]#011Speed: 34980.58 samples/sec#011accuracy=0.932000\u001b[0m\n",
      "\u001b[31m2018-03-10 00:15:56,703 INFO - root - Epoch[3] Batch [500]#011Speed: 29255.16 samples/sec#011accuracy=0.935000\u001b[0m\n",
      "\u001b[31m2018-03-10 00:15:57,011 INFO - root - Epoch[3] Train-accuracy=0.937374\u001b[0m\n",
      "\u001b[31m2018-03-10 00:15:57,011 INFO - root - Epoch[3] Time cost=1.928\u001b[0m\n",
      "\u001b[31m2018-03-10 00:15:57,146 INFO - root - Epoch[3] Validation-accuracy=0.943500\u001b[0m\n",
      "\u001b[31m2018-03-10 00:15:57,456 INFO - root - Epoch[4] Batch [100]#011Speed: 32525.18 samples/sec#011accuracy=0.943465\u001b[0m\n",
      "\u001b[31m2018-03-10 00:15:57,871 INFO - root - Epoch[4] Batch [200]#011Speed: 24133.96 samples/sec#011accuracy=0.942600\u001b[0m\n",
      "\u001b[31m2018-03-10 00:15:58,186 INFO - root - Epoch[4] Batch [300]#011Speed: 31695.50 samples/sec#011accuracy=0.949800\u001b[0m\n",
      "\u001b[31m2018-03-10 00:15:58,481 INFO - root - Epoch[4] Batch [400]#011Speed: 34010.14 samples/sec#011accuracy=0.947600\u001b[0m\n",
      "\u001b[31m2018-03-10 00:15:58,831 INFO - root - Epoch[4] Batch [500]#011Speed: 28551.11 samples/sec#011accuracy=0.952700\u001b[0m\n",
      "\u001b[31m2018-03-10 00:15:59,149 INFO - root - Epoch[4] Train-accuracy=0.952222\u001b[0m\n",
      "\u001b[31m2018-03-10 00:15:59,149 INFO - root - Epoch[4] Time cost=2.003\u001b[0m\n",
      "\u001b[31m2018-03-10 00:15:59,300 INFO - root - Epoch[4] Validation-accuracy=0.952700\u001b[0m\n",
      "\u001b[31m2018-03-10 00:15:59,636 INFO - root - Epoch[5] Batch [100]#011Speed: 30034.10 samples/sec#011accuracy=0.954554\u001b[0m\n",
      "\u001b[31m2018-03-10 00:15:59,937 INFO - root - Epoch[5] Batch [200]#011Speed: 33212.87 samples/sec#011accuracy=0.956300\u001b[0m\n",
      "\u001b[31m2018-03-10 00:16:00,218 INFO - root - Epoch[5] Batch [300]#011Speed: 35639.97 samples/sec#011accuracy=0.961000\u001b[0m\n",
      "\u001b[31m2018-03-10 00:16:00,463 INFO - root - Epoch[5] Batch [400]#011Speed: 40847.15 samples/sec#011accuracy=0.958100\u001b[0m\n",
      "\u001b[31m2018-03-10 00:16:00,748 INFO - root - Epoch[5] Batch [500]#011Speed: 35179.91 samples/sec#011accuracy=0.959300\u001b[0m\n",
      "\u001b[31m2018-03-10 00:16:01,040 INFO - root - Epoch[5] Train-accuracy=0.962020\u001b[0m\n",
      "\u001b[31m2018-03-10 00:16:01,040 INFO - root - Epoch[5] Time cost=1.739\u001b[0m\n",
      "\u001b[31m2018-03-10 00:16:01,178 INFO - root - Epoch[5] Validation-accuracy=0.959100\u001b[0m\n",
      "\u001b[31m2018-03-10 00:16:01,501 INFO - root - Epoch[6] Batch [100]#011Speed: 31239.77 samples/sec#011accuracy=0.961485\u001b[0m\n",
      "\u001b[31m2018-03-10 00:16:01,862 INFO - root - Epoch[6] Batch [200]#011Speed: 27738.09 samples/sec#011accuracy=0.964000\u001b[0m\n",
      "\u001b[31m2018-03-10 00:16:02,168 INFO - root - Epoch[6] Batch [300]#011Speed: 32686.56 samples/sec#011accuracy=0.968300\u001b[0m\n",
      "\u001b[31m2018-03-10 00:16:02,447 INFO - root - Epoch[6] Batch [400]#011Speed: 35865.18 samples/sec#011accuracy=0.965300\u001b[0m\n",
      "\u001b[31m2018-03-10 00:16:02,774 INFO - root - Epoch[6] Batch [500]#011Speed: 30624.68 samples/sec#011accuracy=0.966600\u001b[0m\n",
      "\u001b[31m2018-03-10 00:16:03,027 INFO - root - Epoch[6] Train-accuracy=0.967475\u001b[0m\n",
      "\u001b[31m2018-03-10 00:16:03,027 INFO - root - Epoch[6] Time cost=1.849\u001b[0m\n",
      "\u001b[31m2018-03-10 00:16:03,156 INFO - root - Epoch[6] Validation-accuracy=0.962500\u001b[0m\n",
      "\u001b[31m2018-03-10 00:16:03,460 INFO - root - Epoch[7] Batch [100]#011Speed: 33251.08 samples/sec#011accuracy=0.967030\u001b[0m\n",
      "\u001b[31m2018-03-10 00:16:03,822 INFO - root - Epoch[7] Batch [200]#011Speed: 27648.75 samples/sec#011accuracy=0.969600\u001b[0m\n",
      "\u001b[31m2018-03-10 00:16:04,132 INFO - root - Epoch[7] Batch [300]#011Speed: 32271.47 samples/sec#011accuracy=0.974400\u001b[0m\n",
      "\u001b[31m2018-03-10 00:16:04,441 INFO - root - Epoch[7] Batch [400]#011Speed: 32452.25 samples/sec#011accuracy=0.970400\u001b[0m\n",
      "\u001b[31m2018-03-10 00:16:04,788 INFO - root - Epoch[7] Batch [500]#011Speed: 28800.68 samples/sec#011accuracy=0.971200\u001b[0m\n",
      "\u001b[31m2018-03-10 00:16:05,090 INFO - root - Epoch[7] Train-accuracy=0.971111\u001b[0m\n",
      "\u001b[31m2018-03-10 00:16:05,090 INFO - root - Epoch[7] Time cost=1.933\u001b[0m\n",
      "\u001b[31m2018-03-10 00:16:05,220 INFO - root - Epoch[7] Validation-accuracy=0.964700\u001b[0m\n",
      "\u001b[31m2018-03-10 00:16:05,484 INFO - root - Epoch[8] Batch [100]#011Speed: 38201.47 samples/sec#011accuracy=0.971881\u001b[0m\n",
      "\u001b[31m2018-03-10 00:16:05,763 INFO - root - Epoch[8] Batch [200]#011Speed: 35948.21 samples/sec#011accuracy=0.972600\u001b[0m\n",
      "\u001b[31m2018-03-10 00:16:06,032 INFO - root - Epoch[8] Batch [300]#011Speed: 37117.34 samples/sec#011accuracy=0.978400\u001b[0m\n",
      "\u001b[31m2018-03-10 00:16:06,281 INFO - root - Epoch[8] Batch [400]#011Speed: 40200.51 samples/sec#011accuracy=0.974100\u001b[0m\n",
      "\u001b[31m2018-03-10 00:16:06,527 INFO - root - Epoch[8] Batch [500]#011Speed: 40672.24 samples/sec#011accuracy=0.976000\u001b[0m\n",
      "\u001b[31m2018-03-10 00:16:06,818 INFO - root - Epoch[8] Train-accuracy=0.976263\u001b[0m\n",
      "\u001b[31m2018-03-10 00:16:06,818 INFO - root - Epoch[8] Time cost=1.598\u001b[0m\n",
      "\u001b[31m2018-03-10 00:16:06,964 INFO - root - Epoch[8] Validation-accuracy=0.966600\u001b[0m\n",
      "\u001b[31m2018-03-10 00:16:07,224 INFO - root - Epoch[9] Batch [100]#011Speed: 38890.09 samples/sec#011accuracy=0.975347\u001b[0m\n",
      "\u001b[31m2018-03-10 00:16:07,513 INFO - root - Epoch[9] Batch [200]#011Speed: 34626.27 samples/sec#011accuracy=0.976100\u001b[0m\n",
      "\u001b[31m2018-03-10 00:16:07,843 INFO - root - Epoch[9] Batch [300]#011Speed: 30261.58 samples/sec#011accuracy=0.980400\u001b[0m\n"
     ]
    },
    {
     "name": "stdout",
     "output_type": "stream",
     "text": [
      "\u001b[31m2018-03-10 00:16:08,109 INFO - root - Epoch[9] Batch [400]#011Speed: 37701.98 samples/sec#011accuracy=0.978100\u001b[0m\n",
      "\u001b[31m2018-03-10 00:16:08,399 INFO - root - Epoch[9] Batch [500]#011Speed: 34429.21 samples/sec#011accuracy=0.978200\u001b[0m\n",
      "\u001b[31m2018-03-10 00:16:08,702 INFO - root - Epoch[9] Train-accuracy=0.979899\u001b[0m\n",
      "\u001b[31m2018-03-10 00:16:08,702 INFO - root - Epoch[9] Time cost=1.738\u001b[0m\n",
      "\u001b[31m2018-03-10 00:16:08,849 INFO - root - Epoch[9] Validation-accuracy=0.968400\u001b[0m\n",
      "\u001b[31m2018-03-10 00:16:09,104 INFO - root - Epoch[10] Batch [100]#011Speed: 39584.70 samples/sec#011accuracy=0.977822\u001b[0m\n",
      "\u001b[31m2018-03-10 00:16:09,380 INFO - root - Epoch[10] Batch [200]#011Speed: 36281.18 samples/sec#011accuracy=0.979600\u001b[0m\n",
      "\u001b[31m2018-03-10 00:16:09,680 INFO - root - Epoch[10] Batch [300]#011Speed: 33423.25 samples/sec#011accuracy=0.982700\u001b[0m\n",
      "\u001b[31m2018-03-10 00:16:09,979 INFO - root - Epoch[10] Batch [400]#011Speed: 33455.00 samples/sec#011accuracy=0.980600\u001b[0m\n",
      "\u001b[31m2018-03-10 00:16:10,240 INFO - root - Epoch[10] Batch [500]#011Speed: 38373.43 samples/sec#011accuracy=0.982300\u001b[0m\n",
      "\u001b[31m2018-03-10 00:16:10,482 INFO - root - Epoch[10] Train-accuracy=0.982525\u001b[0m\n",
      "\u001b[31m2018-03-10 00:16:10,482 INFO - root - Epoch[10] Time cost=1.633\u001b[0m\n",
      "\u001b[31m2018-03-10 00:16:10,650 INFO - root - Epoch[10] Validation-accuracy=0.970100\u001b[0m\n",
      "\u001b[31m2018-03-10 00:16:10,921 INFO - root - Epoch[11] Batch [100]#011Speed: 37141.04 samples/sec#011accuracy=0.980891\u001b[0m\n",
      "\u001b[31m2018-03-10 00:16:11,171 INFO - root - Epoch[11] Batch [200]#011Speed: 40158.21 samples/sec#011accuracy=0.983000\u001b[0m\n",
      "\u001b[31m2018-03-10 00:16:11,441 INFO - root - Epoch[11] Batch [300]#011Speed: 36992.91 samples/sec#011accuracy=0.984400\u001b[0m\n",
      "\u001b[31m2018-03-10 00:16:11,720 INFO - root - Epoch[11] Batch [400]#011Speed: 35817.65 samples/sec#011accuracy=0.982500\u001b[0m\n",
      "\u001b[31m2018-03-10 00:16:12,040 INFO - root - Epoch[11] Batch [500]#011Speed: 31351.71 samples/sec#011accuracy=0.984800\u001b[0m\n",
      "\u001b[31m2018-03-10 00:16:12,281 INFO - root - Epoch[11] Train-accuracy=0.984343\u001b[0m\n",
      "\u001b[31m2018-03-10 00:16:12,281 INFO - root - Epoch[11] Time cost=1.632\u001b[0m\n",
      "\u001b[31m2018-03-10 00:16:12,414 INFO - root - Epoch[11] Validation-accuracy=0.970600\u001b[0m\n",
      "\u001b[31m2018-03-10 00:16:12,753 INFO - root - Epoch[12] Batch [100]#011Speed: 29692.02 samples/sec#011accuracy=0.983861\u001b[0m\n",
      "\u001b[31m2018-03-10 00:16:13,059 INFO - root - Epoch[12] Batch [200]#011Speed: 32671.85 samples/sec#011accuracy=0.985200\u001b[0m\n",
      "\u001b[31m2018-03-10 00:16:13,365 INFO - root - Epoch[12] Batch [300]#011Speed: 32794.72 samples/sec#011accuracy=0.985900\u001b[0m\n",
      "\u001b[31m2018-03-10 00:16:13,704 INFO - root - Epoch[12] Batch [400]#011Speed: 29473.30 samples/sec#011accuracy=0.984600\u001b[0m\n",
      "\u001b[31m2018-03-10 00:16:13,987 INFO - root - Epoch[12] Batch [500]#011Speed: 35370.94 samples/sec#011accuracy=0.985900\u001b[0m\n",
      "\u001b[31m2018-03-10 00:16:14,278 INFO - root - Epoch[12] Train-accuracy=0.985556\u001b[0m\n",
      "\u001b[31m2018-03-10 00:16:14,278 INFO - root - Epoch[12] Time cost=1.864\u001b[0m\n",
      "\u001b[31m2018-03-10 00:16:14,420 INFO - root - Epoch[12] Validation-accuracy=0.971600\u001b[0m\n",
      "\u001b[31m2018-03-10 00:16:14,703 INFO - root - Epoch[13] Batch [100]#011Speed: 35700.88 samples/sec#011accuracy=0.986634\u001b[0m\n",
      "\u001b[31m2018-03-10 00:16:14,974 INFO - root - Epoch[13] Batch [200]#011Speed: 36868.11 samples/sec#011accuracy=0.986900\u001b[0m\n",
      "\u001b[31m2018-03-10 00:16:15,241 INFO - root - Epoch[13] Batch [300]#011Speed: 37583.50 samples/sec#011accuracy=0.987500\u001b[0m\n",
      "\u001b[31m2018-03-10 00:16:15,500 INFO - root - Epoch[13] Batch [400]#011Speed: 38555.12 samples/sec#011accuracy=0.986700\u001b[0m\n",
      "\u001b[31m2018-03-10 00:16:15,791 INFO - root - Epoch[13] Batch [500]#011Speed: 34409.41 samples/sec#011accuracy=0.987900\u001b[0m\n",
      "\u001b[31m2018-03-10 00:16:16,091 INFO - root - Epoch[13] Train-accuracy=0.987172\u001b[0m\n",
      "\u001b[31m2018-03-10 00:16:16,091 INFO - root - Epoch[13] Time cost=1.670\u001b[0m\n",
      "\u001b[31m2018-03-10 00:16:16,242 INFO - root - Epoch[13] Validation-accuracy=0.972000\u001b[0m\n",
      "\u001b[31m2018-03-10 00:16:16,548 INFO - root - Epoch[14] Batch [100]#011Speed: 32886.52 samples/sec#011accuracy=0.988119\u001b[0m\n",
      "\u001b[31m2018-03-10 00:16:16,855 INFO - root - Epoch[14] Batch [200]#011Speed: 32633.16 samples/sec#011accuracy=0.988600\u001b[0m\n",
      "\u001b[31m2018-03-10 00:16:17,185 INFO - root - Epoch[14] Batch [300]#011Speed: 30366.71 samples/sec#011accuracy=0.990000\u001b[0m\n",
      "\u001b[31m2018-03-10 00:16:17,511 INFO - root - Epoch[14] Batch [400]#011Speed: 30671.46 samples/sec#011accuracy=0.988000\u001b[0m\n",
      "\u001b[31m2018-03-10 00:16:17,853 INFO - root - Epoch[14] Batch [500]#011Speed: 29266.90 samples/sec#011accuracy=0.988700\u001b[0m\n",
      "\u001b[31m2018-03-10 00:16:18,182 INFO - root - Epoch[14] Train-accuracy=0.988384\u001b[0m\n",
      "\u001b[31m2018-03-10 00:16:18,182 INFO - root - Epoch[14] Time cost=1.940\u001b[0m\n",
      "\u001b[31m2018-03-10 00:16:18,316 INFO - root - Epoch[14] Validation-accuracy=0.972000\u001b[0m\n",
      "\u001b[31m2018-03-10 00:16:18,661 INFO - root - Epoch[15] Batch [100]#011Speed: 29224.91 samples/sec#011accuracy=0.990000\u001b[0m\n",
      "\u001b[31m2018-03-10 00:16:18,966 INFO - root - Epoch[15] Batch [200]#011Speed: 32811.19 samples/sec#011accuracy=0.990300\u001b[0m\n",
      "\u001b[31m2018-03-10 00:16:19,273 INFO - root - Epoch[15] Batch [300]#011Speed: 32593.04 samples/sec#011accuracy=0.991600\u001b[0m\n",
      "\u001b[31m2018-03-10 00:16:19,616 INFO - root - Epoch[15] Batch [400]#011Speed: 29229.60 samples/sec#011accuracy=0.988900\u001b[0m\n",
      "\u001b[31m2018-03-10 00:16:19,926 INFO - root - Epoch[15] Batch [500]#011Speed: 32281.48 samples/sec#011accuracy=0.989400\u001b[0m\n",
      "\u001b[31m2018-03-10 00:16:20,258 INFO - root - Epoch[15] Train-accuracy=0.989798\u001b[0m\n",
      "\u001b[31m2018-03-10 00:16:20,258 INFO - root - Epoch[15] Time cost=1.942\u001b[0m\n",
      "\u001b[31m2018-03-10 00:16:20,408 INFO - root - Epoch[15] Validation-accuracy=0.972300\u001b[0m\n",
      "\u001b[31m2018-03-10 00:16:20,749 INFO - root - Epoch[16] Batch [100]#011Speed: 29505.50 samples/sec#011accuracy=0.991485\u001b[0m\n",
      "\u001b[31m2018-03-10 00:16:21,060 INFO - root - Epoch[16] Batch [200]#011Speed: 32154.65 samples/sec#011accuracy=0.992200\u001b[0m\n",
      "\u001b[31m2018-03-10 00:16:21,370 INFO - root - Epoch[16] Batch [300]#011Speed: 32293.49 samples/sec#011accuracy=0.992700\u001b[0m\n",
      "\u001b[31m2018-03-10 00:16:21,712 INFO - root - Epoch[16] Batch [400]#011Speed: 29314.68 samples/sec#011accuracy=0.990400\u001b[0m\n",
      "\u001b[31m2018-03-10 00:16:22,045 INFO - root - Epoch[16] Batch [500]#011Speed: 30050.52 samples/sec#011accuracy=0.991800\u001b[0m\n",
      "\u001b[31m2018-03-10 00:16:22,325 INFO - root - Epoch[16] Train-accuracy=0.991515\u001b[0m\n",
      "\u001b[31m2018-03-10 00:16:22,325 INFO - root - Epoch[16] Time cost=1.917\u001b[0m\n",
      "\u001b[31m2018-03-10 00:16:22,475 INFO - root - Epoch[16] Validation-accuracy=0.973100\u001b[0m\n",
      "\u001b[31m2018-03-10 00:16:22,825 INFO - root - Epoch[17] Batch [100]#011Speed: 28850.29 samples/sec#011accuracy=0.992772\u001b[0m\n",
      "\u001b[31m2018-03-10 00:16:23,134 INFO - root - Epoch[17] Batch [200]#011Speed: 32396.83 samples/sec#011accuracy=0.993500\u001b[0m\n",
      "\u001b[31m2018-03-10 00:16:23,392 INFO - root - Epoch[17] Batch [300]#011Speed: 38815.34 samples/sec#011accuracy=0.993900\u001b[0m\n",
      "\u001b[31m2018-03-10 00:16:23,669 INFO - root - Epoch[17] Batch [400]#011Speed: 36053.46 samples/sec#011accuracy=0.991400\u001b[0m\n",
      "\u001b[31m2018-03-10 00:16:23,919 INFO - root - Epoch[17] Batch [500]#011Speed: 40148.41 samples/sec#011accuracy=0.992900\u001b[0m\n",
      "\u001b[31m2018-03-10 00:16:24,182 INFO - root - Epoch[17] Train-accuracy=0.992525\u001b[0m\n",
      "\u001b[31m2018-03-10 00:16:24,182 INFO - root - Epoch[17] Time cost=1.707\u001b[0m\n",
      "\u001b[31m2018-03-10 00:16:24,312 INFO - root - Epoch[17] Validation-accuracy=0.973600\u001b[0m\n",
      "\u001b[31m2018-03-10 00:16:24,560 INFO - root - Epoch[18] Batch [100]#011Speed: 40786.86 samples/sec#011accuracy=0.993960\u001b[0m\n",
      "\u001b[31m2018-03-10 00:16:24,865 INFO - root - Epoch[18] Batch [200]#011Speed: 32891.47 samples/sec#011accuracy=0.994200\u001b[0m\n",
      "\u001b[31m2018-03-10 00:16:25,138 INFO - root - Epoch[18] Batch [300]#011Speed: 36644.28 samples/sec#011accuracy=0.994900\u001b[0m\n",
      "\u001b[31m2018-03-10 00:16:25,431 INFO - root - Epoch[18] Batch [400]#011Speed: 34096.87 samples/sec#011accuracy=0.993300\u001b[0m\n",
      "\u001b[31m2018-03-10 00:16:25,768 INFO - root - Epoch[18] Batch [500]#011Speed: 29717.08 samples/sec#011accuracy=0.994300\u001b[0m\n",
      "\u001b[31m2018-03-10 00:16:26,057 INFO - root - Epoch[18] Train-accuracy=0.993636\u001b[0m\n",
      "\u001b[31m2018-03-10 00:16:26,057 INFO - root - Epoch[18] Time cost=1.745\u001b[0m\n",
      "\u001b[31m2018-03-10 00:16:26,229 INFO - root - Epoch[18] Validation-accuracy=0.974300\u001b[0m\n",
      "\u001b[31m2018-03-10 00:16:26,508 INFO - root - Epoch[19] Batch [100]#011Speed: 36245.16 samples/sec#011accuracy=0.994356\u001b[0m\n",
      "\u001b[31m2018-03-10 00:16:26,828 INFO - root - Epoch[19] Batch [200]#011Speed: 31278.65 samples/sec#011accuracy=0.995500\u001b[0m\n",
      "\u001b[31m2018-03-10 00:16:27,127 INFO - root - Epoch[19] Batch [300]#011Speed: 33395.12 samples/sec#011accuracy=0.995700\u001b[0m\n",
      "\u001b[31m2018-03-10 00:16:27,458 INFO - root - Epoch[19] Batch [400]#011Speed: 30249.95 samples/sec#011accuracy=0.994300\u001b[0m\n",
      "\u001b[31m2018-03-10 00:16:27,806 INFO - root - Epoch[19] Batch [500]#011Speed: 28783.11 samples/sec#011accuracy=0.994800\u001b[0m\n",
      "\u001b[31m2018-03-10 00:16:28,153 INFO - root - Epoch[19] Train-accuracy=0.994848\u001b[0m\n",
      "\u001b[31m2018-03-10 00:16:28,153 INFO - root - Epoch[19] Time cost=1.923\u001b[0m\n",
      "\u001b[31m2018-03-10 00:16:28,313 INFO - root - Epoch[19] Validation-accuracy=0.973800\u001b[0m\n",
      "\u001b[31m2018-03-10 00:16:28,648 INFO - root - Epoch[20] Batch [100]#011Speed: 30146.91 samples/sec#011accuracy=0.995446\u001b[0m\n",
      "\u001b[31m2018-03-10 00:16:28,946 INFO - root - Epoch[20] Batch [200]#011Speed: 33591.89 samples/sec#011accuracy=0.996100\u001b[0m\n",
      "\u001b[31m2018-03-10 00:16:29,282 INFO - root - Epoch[20] Batch [300]#011Speed: 29767.84 samples/sec#011accuracy=0.996300\u001b[0m\n",
      "\u001b[31m2018-03-10 00:16:29,633 INFO - root - Epoch[20] Batch [400]#011Speed: 28525.31 samples/sec#011accuracy=0.995400\u001b[0m\n",
      "\u001b[31m2018-03-10 00:16:29,971 INFO - root - Epoch[20] Batch [500]#011Speed: 29656.96 samples/sec#011accuracy=0.995600\u001b[0m\n",
      "\u001b[31m2018-03-10 00:16:30,295 INFO - root - Epoch[20] Train-accuracy=0.995556\u001b[0m\n",
      "\u001b[31m2018-03-10 00:16:30,295 INFO - root - Epoch[20] Time cost=1.981\u001b[0m\n",
      "\u001b[31m2018-03-10 00:16:30,444 INFO - root - Epoch[20] Validation-accuracy=0.974700\u001b[0m\n",
      "\u001b[31m2018-03-10 00:16:30,800 INFO - root - Epoch[21] Batch [100]#011Speed: 28332.94 samples/sec#011accuracy=0.996337\u001b[0m\n",
      "\u001b[31m2018-03-10 00:16:31,120 INFO - root - Epoch[21] Batch [200]#011Speed: 31237.00 samples/sec#011accuracy=0.996900\u001b[0m\n",
      "\u001b[31m2018-03-10 00:16:31,434 INFO - root - Epoch[21] Batch [300]#011Speed: 31900.58 samples/sec#011accuracy=0.996900\u001b[0m\n",
      "\u001b[31m2018-03-10 00:16:31,758 INFO - root - Epoch[21] Batch [400]#011Speed: 30879.55 samples/sec#011accuracy=0.996400\u001b[0m\n",
      "\u001b[31m2018-03-10 00:16:32,064 INFO - root - Epoch[21] Batch [500]#011Speed: 32710.53 samples/sec#011accuracy=0.996700\u001b[0m\n",
      "\u001b[31m2018-03-10 00:16:32,366 INFO - root - Epoch[21] Train-accuracy=0.996768\u001b[0m\n",
      "\u001b[31m2018-03-10 00:16:32,366 INFO - root - Epoch[21] Time cost=1.922\u001b[0m\n",
      "\u001b[31m2018-03-10 00:16:32,501 INFO - root - Epoch[21] Validation-accuracy=0.974800\u001b[0m\n",
      "\u001b[31m2018-03-10 00:16:32,818 INFO - root - Epoch[22] Batch [100]#011Speed: 31839.43 samples/sec#011accuracy=0.996832\u001b[0m\n",
      "\u001b[31m2018-03-10 00:16:33,099 INFO - root - Epoch[22] Batch [200]#011Speed: 35627.50 samples/sec#011accuracy=0.997700\u001b[0m\n",
      "\u001b[31m2018-03-10 00:16:33,382 INFO - root - Epoch[22] Batch [300]#011Speed: 35400.98 samples/sec#011accuracy=0.997700\u001b[0m\n",
      "\u001b[31m2018-03-10 00:16:33,702 INFO - root - Epoch[22] Batch [400]#011Speed: 31266.99 samples/sec#011accuracy=0.997200\u001b[0m\n",
      "\u001b[31m2018-03-10 00:16:33,987 INFO - root - Epoch[22] Batch [500]#011Speed: 35068.90 samples/sec#011accuracy=0.996900\u001b[0m\n",
      "\u001b[31m2018-03-10 00:16:34,295 INFO - root - Epoch[22] Train-accuracy=0.997475\u001b[0m\n",
      "\u001b[31m2018-03-10 00:16:34,295 INFO - root - Epoch[22] Time cost=1.793\u001b[0m\n",
      "\u001b[31m2018-03-10 00:16:34,431 INFO - root - Epoch[22] Validation-accuracy=0.975200\u001b[0m\n",
      "\u001b[31m2018-03-10 00:16:34,786 INFO - root - Epoch[23] Batch [100]#011Speed: 28383.20 samples/sec#011accuracy=0.997327\u001b[0m\n",
      "\u001b[31m2018-03-10 00:16:35,084 INFO - root - Epoch[23] Batch [200]#011Speed: 33592.32 samples/sec#011accuracy=0.998100\u001b[0m\n"
     ]
    },
    {
     "name": "stdout",
     "output_type": "stream",
     "text": [
      "\u001b[31m2018-03-10 00:16:35,373 INFO - root - Epoch[23] Batch [300]#011Speed: 34579.22 samples/sec#011accuracy=0.997900\u001b[0m\n",
      "\u001b[31m2018-03-10 00:16:35,712 INFO - root - Epoch[23] Batch [400]#011Speed: 29509.86 samples/sec#011accuracy=0.997500\u001b[0m\n",
      "\u001b[31m2018-03-10 00:16:36,001 INFO - root - Epoch[23] Batch [500]#011Speed: 34600.50 samples/sec#011accuracy=0.997300\u001b[0m\n",
      "\u001b[31m2018-03-10 00:16:36,340 INFO - root - Epoch[23] Train-accuracy=0.997879\u001b[0m\n",
      "\u001b[31m2018-03-10 00:16:36,341 INFO - root - Epoch[23] Time cost=1.910\u001b[0m\n",
      "\u001b[31m2018-03-10 00:16:36,479 INFO - root - Epoch[23] Validation-accuracy=0.974800\u001b[0m\n",
      "\u001b[31m2018-03-10 00:16:36,813 INFO - root - Epoch[24] Batch [100]#011Speed: 30188.51 samples/sec#011accuracy=0.997822\u001b[0m\n",
      "\u001b[31m2018-03-10 00:16:37,111 INFO - root - Epoch[24] Batch [200]#011Speed: 33511.51 samples/sec#011accuracy=0.998200\u001b[0m\n",
      "\u001b[31m2018-03-10 00:16:37,407 INFO - root - Epoch[24] Batch [300]#011Speed: 33852.74 samples/sec#011accuracy=0.998200\u001b[0m\n",
      "\u001b[31m2018-03-10 00:16:37,758 INFO - root - Epoch[24] Batch [400]#011Speed: 28531.90 samples/sec#011accuracy=0.997900\u001b[0m\n",
      "\u001b[31m2018-03-10 00:16:38,079 INFO - root - Epoch[24] Batch [500]#011Speed: 31178.67 samples/sec#011accuracy=0.997600\u001b[0m\n",
      "\u001b[31m2018-03-10 00:16:38,392 INFO - root - Epoch[24] Train-accuracy=0.998283\u001b[0m\n",
      "\u001b[31m2018-03-10 00:16:38,392 INFO - root - Epoch[24] Time cost=1.913\u001b[0m\n",
      "\u001b[31m2018-03-10 00:16:38,527 INFO - root - Epoch[24] Validation-accuracy=0.975600\u001b[0m\n",
      "===== Job Complete =====\n",
      "CPU times: user 504 ms, sys: 32 ms, total: 536 ms\n",
      "Wall time: 7min 9s\n"
     ]
    }
   ],
   "source": [
    "%%time\n",
    "import boto3\n",
    "\n",
    "region = boto3.Session().region_name\n",
    "train_data_location = 's3://sagemaker-sample-data-{}/mxnet/mnist/train'.format(region)\n",
    "test_data_location = 's3://sagemaker-sample-data-{}/mxnet/mnist/test'.format(region)\n",
    "\n",
    "mnist_estimator.fit({'train': train_data_location, 'test': test_data_location})"
   ]
  },
  {
   "cell_type": "markdown",
   "metadata": {},
   "source": [
    "## Set up hosting for the model\n",
    "Now, we can deploy the model we just trained behind a real-time hosted endpoint.  This next step can take, on average, 7 to 11 minutes to complete."
   ]
  },
  {
   "cell_type": "code",
   "execution_count": 8,
   "metadata": {},
   "outputs": [
    {
     "name": "stderr",
     "output_type": "stream",
     "text": [
      "INFO:sagemaker:Creating model with name: sagemaker-mxnet-py2-cpu-2018-03-10-00-10-24-018\n",
      "INFO:sagemaker:Creating endpoint with name sagemaker-mxnet-py2-cpu-2018-03-10-00-10-24-018\n"
     ]
    },
    {
     "name": "stdout",
     "output_type": "stream",
     "text": [
      "-----------------------------------------------------------------------------------------!CPU times: user 384 ms, sys: 16 ms, total: 400 ms\n",
      "Wall time: 7min 36s\n"
     ]
    }
   ],
   "source": [
    "%%time\n",
    "\n",
    "predictor = mnist_estimator.deploy(initial_instance_count=1,\n",
    "                                   instance_type='ml.m4.xlarge')"
   ]
  },
  {
   "cell_type": "markdown",
   "metadata": {},
   "source": [
    "## Validate the model for use\n",
    "Finally, we'll validate the model for use. Let's generate a classification for a single observation."
   ]
  },
  {
   "cell_type": "code",
   "execution_count": 9,
   "metadata": {},
   "outputs": [
    {
     "data": {
      "text/html": [
       "<script type=\"text/Javascript\">\n",
       "    var pixels = [];\n",
       "    for (var i = 0; i < 28*28; i++) pixels[i] = 0;\n",
       "    var click = 0;\n",
       "\n",
       "    var canvas = document.querySelector(\"canvas\");\n",
       "    canvas.addEventListener(\"mousemove\", function(e){\n",
       "        if (e.buttons == 1) {\n",
       "            click = 1;\n",
       "            canvas.getContext(\"2d\").fillStyle = \"rgb(0,0,0)\";\n",
       "            canvas.getContext(\"2d\").fillRect(e.offsetX, e.offsetY, 8, 8);\n",
       "            x = Math.floor(e.offsetY * 0.2);\n",
       "            y = Math.floor(e.offsetX * 0.2) + 1;\n",
       "            for (var dy = 0; dy < 2; dy++){\n",
       "                for (var dx = 0; dx < 2; dx++){\n",
       "                    if ((x + dx < 28) && (y + dy < 28)){\n",
       "                        pixels[(y+dy)+(x+dx)*28] = 1;\n",
       "                    }\n",
       "                }\n",
       "            }\n",
       "        } else {\n",
       "            if (click == 1) set_value();\n",
       "            click = 0;\n",
       "        }\n",
       "    });\n",
       "    function clear_value(){\n",
       "        canvas.getContext(\"2d\").fillStyle = \"rgb(255,255,255)\";\n",
       "        canvas.getContext(\"2d\").fillRect(0, 0, 140, 140);\n",
       "        for (var i = 0; i < 28*28; i++) pixels[i] = 0;\n",
       "    }\n",
       "    \n",
       "    function set_value(){\n",
       "        var result = \"[[\"\n",
       "        for (var i = 0; i < 28; i++) {\n",
       "            result += \"[\"\n",
       "            for (var j = 0; j < 28; j++) {\n",
       "                result += pixels [i * 28 + j]\n",
       "                if (j < 27) {\n",
       "                    result += \", \"\n",
       "                }\n",
       "            }\n",
       "            result += \"]\"\n",
       "            if (i < 27) {\n",
       "                result += \", \"\n",
       "            }\n",
       "        }\n",
       "        result += \"]]\"\n",
       "        var kernel = IPython.notebook.kernel;\n",
       "        kernel.execute(\"data = \" + result)\n",
       "    }\n",
       "</script>\n",
       "<table>\n",
       "<td style=\"border-style: none;\">\n",
       "<div style=\"border: solid 2px #666; width: 143px; height: 144px;\">\n",
       "<canvas width=\"140\" height=\"140\"></canvas>\n",
       "</div></td>\n",
       "<td style=\"border-style: none;\">\n",
       "<button onclick=\"clear_value()\">Clear</button>\n",
       "</td>\n",
       "</table>\n",
       "\n",
       "<!-- This work has been modified from the original and is licensed under the Apache 2.0 License. -->\n",
       "\n",
       "<!--\n",
       "                                     Apache License\n",
       "                           Version 2.0, January 2004\n",
       "                        http://www.apache.org/licenses/\n",
       "\n",
       "   TERMS AND CONDITIONS FOR USE, REPRODUCTION, AND DISTRIBUTION\n",
       "\n",
       "   1. Definitions.\n",
       "\n",
       "      \"License\" shall mean the terms and conditions for use, reproduction,\n",
       "      and distribution as defined by Sections 1 through 9 of this document.\n",
       "\n",
       "      \"Licensor\" shall mean the copyright owner or entity authorized by\n",
       "      the copyright owner that is granting the License.\n",
       "\n",
       "      \"Legal Entity\" shall mean the union of the acting entity and all\n",
       "      other entities that control, are controlled by, or are under common\n",
       "      control with that entity. For the purposes of this definition,\n",
       "      \"control\" means (i) the power, direct or indirect, to cause the\n",
       "      direction or management of such entity, whether by contract or\n",
       "      otherwise, or (ii) ownership of fifty percent (50%) or more of the\n",
       "      outstanding shares, or (iii) beneficial ownership of such entity.\n",
       "\n",
       "      \"You\" (or \"Your\") shall mean an individual or Legal Entity\n",
       "      exercising permissions granted by this License.\n",
       "\n",
       "      \"Source\" form shall mean the preferred form for making modifications,\n",
       "      including but not limited to software source code, documentation\n",
       "      source, and configuration files.\n",
       "\n",
       "      \"Object\" form shall mean any form resulting from mechanical\n",
       "      transformation or translation of a Source form, including but\n",
       "      not limited to compiled object code, generated documentation,\n",
       "      and conversions to other media types.\n",
       "\n",
       "      \"Work\" shall mean the work of authorship, whether in Source or\n",
       "      Object form, made available under the License, as indicated by a\n",
       "      copyright notice that is included in or attached to the work\n",
       "      (an example is provided in the Appendix below).\n",
       "\n",
       "      \"Derivative Works\" shall mean any work, whether in Source or Object\n",
       "      form, that is based on (or derived from) the Work and for which the\n",
       "      editorial revisions, annotations, elaborations, or other modifications\n",
       "      represent, as a whole, an original work of authorship. For the purposes\n",
       "      of this License, Derivative Works shall not include works that remain\n",
       "      separable from, or merely link (or bind by name) to the interfaces of,\n",
       "      the Work and Derivative Works thereof.\n",
       "\n",
       "      \"Contribution\" shall mean any work of authorship, including\n",
       "      the original version of the Work and any modifications or additions\n",
       "      to that Work or Derivative Works thereof, that is intentionally\n",
       "      submitted to Licensor for inclusion in the Work by the copyright owner\n",
       "      or by an individual or Legal Entity authorized to submit on behalf of\n",
       "      the copyright owner. For the purposes of this definition, \"submitted\"\n",
       "      means any form of electronic, verbal, or written communication sent\n",
       "      to the Licensor or its representatives, including but not limited to\n",
       "      communication on electronic mailing lists, source code control systems,\n",
       "      and issue tracking systems that are managed by, or on behalf of, the\n",
       "      Licensor for the purpose of discussing and improving the Work, but\n",
       "      excluding communication that is conspicuously marked or otherwise\n",
       "      designated in writing by the copyright owner as \"Not a Contribution.\"\n",
       "\n",
       "      \"Contributor\" shall mean Licensor and any individual or Legal Entity\n",
       "      on behalf of whom a Contribution has been received by Licensor and\n",
       "      subsequently incorporated within the Work.\n",
       "\n",
       "   2. Grant of Copyright License. Subject to the terms and conditions of\n",
       "      this License, each Contributor hereby grants to You a perpetual,\n",
       "      worldwide, non-exclusive, no-charge, royalty-free, irrevocable\n",
       "      copyright license to reproduce, prepare Derivative Works of,\n",
       "      publicly display, publicly perform, sublicense, and distribute the\n",
       "      Work and such Derivative Works in Source or Object form.\n",
       "\n",
       "   3. Grant of Patent License. Subject to the terms and conditions of\n",
       "      this License, each Contributor hereby grants to You a perpetual,\n",
       "      worldwide, non-exclusive, no-charge, royalty-free, irrevocable\n",
       "      (except as stated in this section) patent license to make, have made,\n",
       "      use, offer to sell, sell, import, and otherwise transfer the Work,\n",
       "      where such license applies only to those patent claims licensable\n",
       "      by such Contributor that are necessarily infringed by their\n",
       "      Contribution(s) alone or by combination of their Contribution(s)\n",
       "      with the Work to which such Contribution(s) was submitted. If You\n",
       "      institute patent litigation against any entity (including a\n",
       "      cross-claim or counterclaim in a lawsuit) alleging that the Work\n",
       "      or a Contribution incorporated within the Work constitutes direct\n",
       "      or contributory patent infringement, then any patent licenses\n",
       "      granted to You under this License for that Work shall terminate\n",
       "      as of the date such litigation is filed.\n",
       "\n",
       "   4. Redistribution. You may reproduce and distribute copies of the\n",
       "      Work or Derivative Works thereof in any medium, with or without\n",
       "      modifications, and in Source or Object form, provided that You\n",
       "      meet the following conditions:\n",
       "\n",
       "      (a) You must give any other recipients of the Work or\n",
       "          Derivative Works a copy of this License; and\n",
       "\n",
       "      (b) You must cause any modified files to carry prominent notices\n",
       "          stating that You changed the files; and\n",
       "\n",
       "      (c) You must retain, in the Source form of any Derivative Works\n",
       "          that You distribute, all copyright, patent, trademark, and\n",
       "          attribution notices from the Source form of the Work,\n",
       "          excluding those notices that do not pertain to any part of\n",
       "          the Derivative Works; and\n",
       "\n",
       "      (d) If the Work includes a \"NOTICE\" text file as part of its\n",
       "          distribution, then any Derivative Works that You distribute must\n",
       "          include a readable copy of the attribution notices contained\n",
       "          within such NOTICE file, excluding those notices that do not\n",
       "          pertain to any part of the Derivative Works, in at least one\n",
       "          of the following places: within a NOTICE text file distributed\n",
       "          as part of the Derivative Works; within the Source form or\n",
       "          documentation, if provided along with the Derivative Works; or,\n",
       "          within a display generated by the Derivative Works, if and\n",
       "          wherever such third-party notices normally appear. The contents\n",
       "          of the NOTICE file are for informational purposes only and\n",
       "          do not modify the License. You may add Your own attribution\n",
       "          notices within Derivative Works that You distribute, alongside\n",
       "          or as an addendum to the NOTICE text from the Work, provided\n",
       "          that such additional attribution notices cannot be construed\n",
       "          as modifying the License.\n",
       "\n",
       "      You may add Your own copyright statement to Your modifications and\n",
       "      may provide additional or different license terms and conditions\n",
       "      for use, reproduction, or distribution of Your modifications, or\n",
       "      for any such Derivative Works as a whole, provided Your use,\n",
       "      reproduction, and distribution of the Work otherwise complies with\n",
       "      the conditions stated in this License.\n",
       "\n",
       "   5. Submission of Contributions. Unless You explicitly state otherwise,\n",
       "      any Contribution intentionally submitted for inclusion in the Work\n",
       "      by You to the Licensor shall be under the terms and conditions of\n",
       "      this License, without any additional terms or conditions.\n",
       "      Notwithstanding the above, nothing herein shall supersede or modify\n",
       "      the terms of any separate license agreement you may have executed\n",
       "      with Licensor regarding such Contributions.\n",
       "\n",
       "   6. Trademarks. This License does not grant permission to use the trade\n",
       "      names, trademarks, service marks, or product names of the Licensor,\n",
       "      except as required for reasonable and customary use in describing the\n",
       "      origin of the Work and reproducing the content of the NOTICE file.\n",
       "\n",
       "   7. Disclaimer of Warranty. Unless required by applicable law or\n",
       "      agreed to in writing, Licensor provides the Work (and each\n",
       "      Contributor provides its Contributions) on an \"AS IS\" BASIS,\n",
       "      WITHOUT WARRANTIES OR CONDITIONS OF ANY KIND, either express or\n",
       "      implied, including, without limitation, any warranties or conditions\n",
       "      of TITLE, NON-INFRINGEMENT, MERCHANTABILITY, or FITNESS FOR A\n",
       "      PARTICULAR PURPOSE. You are solely responsible for determining the\n",
       "      appropriateness of using or redistributing the Work and assume any\n",
       "      risks associated with Your exercise of permissions under this License.\n",
       "\n",
       "   8. Limitation of Liability. In no event and under no legal theory,\n",
       "      whether in tort (including negligence), contract, or otherwise,\n",
       "      unless required by applicable law (such as deliberate and grossly\n",
       "      negligent acts) or agreed to in writing, shall any Contributor be\n",
       "      liable to You for damages, including any direct, indirect, special,\n",
       "      incidental, or consequential damages of any character arising as a\n",
       "      result of this License or out of the use or inability to use the\n",
       "      Work (including but not limited to damages for loss of goodwill,\n",
       "      work stoppage, computer failure or malfunction, or any and all\n",
       "      other commercial damages or losses), even if such Contributor\n",
       "      has been advised of the possibility of such damages.\n",
       "\n",
       "   9. Accepting Warranty or Additional Liability. While redistributing\n",
       "      the Work or Derivative Works thereof, You may choose to offer,\n",
       "      and charge a fee for, acceptance of support, warranty, indemnity,\n",
       "      or other liability obligations and/or rights consistent with this\n",
       "      License. However, in accepting such obligations, You may act only\n",
       "      on Your own behalf and on Your sole responsibility, not on behalf\n",
       "      of any other Contributor, and only if You agree to indemnify,\n",
       "      defend, and hold each Contributor harmless for any liability\n",
       "      incurred by, or claims asserted against, such Contributor by reason\n",
       "      of your accepting any such warranty or additional liability.\n",
       "\n",
       "   END OF TERMS AND CONDITIONS\n",
       "\n",
       "   APPENDIX: How to apply the Apache License to your work.\n",
       "\n",
       "      To apply the Apache License to your work, attach the following\n",
       "      boilerplate notice, with the fields enclosed by brackets \"{}\"\n",
       "      replaced with your own identifying information. (Don't include\n",
       "      the brackets!)  The text should be enclosed in the appropriate\n",
       "      comment syntax for the file format. We also recommend that a\n",
       "      file or class name and description of purpose be included on the\n",
       "      same \"printed page\" as the copyright notice for easier\n",
       "      identification within third-party archives.\n",
       "\n",
       "   Copyright {yyyy} {name of copyright owner}\n",
       "\n",
       "   Licensed under the Apache License, Version 2.0 (the \"License\");\n",
       "   you may not use this file except in compliance with the License.\n",
       "   You may obtain a copy of the License at\n",
       "\n",
       "       http://www.apache.org/licenses/LICENSE-2.0\n",
       "\n",
       "   Unless required by applicable law or agreed to in writing, software\n",
       "   distributed under the License is distributed on an \"AS IS\" BASIS,\n",
       "   WITHOUT WARRANTIES OR CONDITIONS OF ANY KIND, either express or implied.\n",
       "   See the License for the specific language governing permissions and\n",
       "   limitations under the License.\n",
       "-->\n",
       "\n",
       "\n",
       "\n",
       "\n"
      ],
      "text/plain": [
       "<IPython.core.display.HTML object>"
      ]
     },
     "execution_count": 9,
     "metadata": {},
     "output_type": "execute_result"
    }
   ],
   "source": [
    "from IPython.display import HTML\n",
    "HTML(open(\"input.html\").read())"
   ]
  },
  {
   "cell_type": "code",
   "execution_count": 23,
   "metadata": {},
   "outputs": [
    {
     "name": "stdout",
     "output_type": "stream",
     "text": [
      "Raw prediction result:\n",
      "[[6.429988763656524e-10, 7.250440699213545e-12, 3.5337970327731227e-09, 6.288615460643771e-17, 6.932594260433689e-06, 8.767544024124163e-09, 0.999993085861206, 3.9401090147271427e-16, 3.999103714846797e-09, 4.742032640040264e-15]]\n",
      "Labeled predictions: \n",
      "[(0, 6.429988763656524e-10), (1, 7.250440699213545e-12), (2, 3.5337970327731227e-09), (3, 6.288615460643771e-17), (4, 6.932594260433689e-06), (5, 8.767544024124163e-09), (6, 0.999993085861206), (7, 3.9401090147271427e-16), (8, 3.999103714846797e-09), (9, 4.742032640040264e-15)]\n",
      "Most likely answer: (6, 0.999993085861206)\n"
     ]
    }
   ],
   "source": [
    "response = predictor.predict(data)\n",
    "print('Raw prediction result:')\n",
    "print(response)\n",
    "\n",
    "labeled_predictions = list(zip(range(10), response[0]))\n",
    "print('Labeled predictions: ')\n",
    "print(labeled_predictions)\n",
    "\n",
    "labeled_predictions.sort(key=lambda label_and_prob: 1.0 - label_and_prob[1])\n",
    "print('Most likely answer: {}'.format(labeled_predictions[0]))"
   ]
  },
  {
   "cell_type": "markdown",
   "metadata": {},
   "source": [
    "#### The model returns the right answer with 99.99% confidence."
   ]
  },
  {
   "cell_type": "markdown",
   "metadata": {},
   "source": [
    "### (Optional) Delete the Endpoint\n",
    "If you're ready to be done with this notebook, make sure run the cell below.  This will remove the hosted endpoint you created and avoid any charges from a stray instance being left on."
   ]
  },
  {
   "cell_type": "code",
   "execution_count": 24,
   "metadata": {},
   "outputs": [
    {
     "name": "stdout",
     "output_type": "stream",
     "text": [
      "sagemaker-mxnet-py2-cpu-2018-03-10-00-10-24-018\n"
     ]
    }
   ],
   "source": [
    "print(predictor.endpoint)"
   ]
  },
  {
   "cell_type": "code",
   "execution_count": 25,
   "metadata": {},
   "outputs": [
    {
     "name": "stderr",
     "output_type": "stream",
     "text": [
      "INFO:sagemaker:Deleting endpoint with name: sagemaker-mxnet-py2-cpu-2018-03-10-00-10-24-018\n"
     ]
    }
   ],
   "source": [
    "import sagemaker\n",
    "sagemaker.Session().delete_endpoint(predictor.endpoint)"
   ]
  }
 ],
 "metadata": {
  "kernelspec": {
   "display_name": "conda_python3",
   "language": "python",
   "name": "conda_python3"
  },
  "language_info": {
   "codemirror_mode": {
    "name": "ipython",
    "version": 3
   },
   "file_extension": ".py",
   "mimetype": "text/x-python",
   "name": "python",
   "nbconvert_exporter": "python",
   "pygments_lexer": "ipython3",
   "version": "3.6.2"
  },
  "notice": "Copyright 2017 Amazon.com, Inc. or its affiliates. All Rights Reserved.  Licensed under the Apache License, Version 2.0 (the \"License\"). You may not use this file except in compliance with the License. A copy of the License is located at http://aws.amazon.com/apache2.0/ or in the \"license\" file accompanying this file. This file is distributed on an \"AS IS\" BASIS, WITHOUT WARRANTIES OR CONDITIONS OF ANY KIND, either express or implied. See the License for the specific language governing permissions and limitations under the License."
 },
 "nbformat": 4,
 "nbformat_minor": 2
}
