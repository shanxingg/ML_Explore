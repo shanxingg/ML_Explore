{
 "cells": [
  {
   "cell_type": "markdown",
   "metadata": {},
   "source": [
    "## GCP Sentiment Analysis API"
   ]
  },
  {
   "cell_type": "markdown",
   "metadata": {},
   "source": [
    "1. In [GCP Console](https://cloud.google.com/docs/authentication/getting-started), navigate to the Create service account key page.\n",
    "2. From the Service account dropdown, select New service account.\n",
    "3. Input a name into the form field.\n",
    "4. From the Role dropdown, select Project > Owner.\n",
    "5. Run command in terminal: export GOOGLE_APPLICATION_CREDENTIALS=“[JSON FILE PATH]\""
   ]
  },
  {
   "cell_type": "code",
   "execution_count": 1,
   "metadata": {
    "collapsed": true
   },
   "outputs": [],
   "source": [
    "# Imports the Google Cloud client library\n",
    "from google.cloud import language\n",
    "from google.cloud.language import enums\n",
    "from google.cloud.language import types"
   ]
  },
  {
   "cell_type": "code",
   "execution_count": 4,
   "metadata": {
    "collapsed": true
   },
   "outputs": [],
   "source": [
    "def sentiment_analysis(file):\n",
    "    doc = open(file, \"r\")\n",
    "    output = doc.readlines()\n",
    "    whole_doc = ', '.join(map(str, output))\n",
    "    client = language.LanguageServiceClient()\n",
    "    document = types.Document(content=whole_doc, type=enums.Document.Type.PLAIN_TEXT)\n",
    "    entities = client.analyze_entities(document).entities\n",
    "    \n",
    "    return entities"
   ]
  },
  {
   "cell_type": "code",
   "execution_count": 6,
   "metadata": {
    "scrolled": false
   },
   "outputs": [
    {
     "data": {
      "text/plain": [
       "[name: \"millions\"\n",
       "type: PERSON\n",
       "salience: 0.5783578753471375\n",
       "mentions {\n",
       "  text {\n",
       "    content: \"millions\"\n",
       "    begin_offset: -1\n",
       "  }\n",
       "  type: COMMON\n",
       "}\n",
       "mentions {\n",
       "  text {\n",
       "    content: \"millions\"\n",
       "    begin_offset: -1\n",
       "  }\n",
       "  type: COMMON\n",
       "}\n",
       ", name: \"flowers\"\n",
       "type: OTHER\n",
       "salience: 0.1689530462026596\n",
       "mentions {\n",
       "  text {\n",
       "    content: \"flowers\"\n",
       "    begin_offset: -1\n",
       "  }\n",
       "  type: COMMON\n",
       "}\n",
       ", name: \"thorns\"\n",
       "type: OTHER\n",
       "salience: 0.07977209240198135\n",
       "mentions {\n",
       "  text {\n",
       "    content: \"thorns\"\n",
       "    begin_offset: -1\n",
       "  }\n",
       "  type: COMMON\n",
       "}\n",
       ", name: \"sheep\"\n",
       "type: OTHER\n",
       "salience: 0.038811586797237396\n",
       "mentions {\n",
       "  text {\n",
       "    content: \"sheep\"\n",
       "    begin_offset: -1\n",
       "  }\n",
       "  type: COMMON\n",
       "}\n",
       ", name: \"flowers\"\n",
       "type: OTHER\n",
       "salience: 0.02272397093474865\n",
       "mentions {\n",
       "  text {\n",
       "    content: \"flowers\"\n",
       "    begin_offset: -1\n",
       "  }\n",
       "  type: COMMON\n",
       "}\n",
       ", name: \"same\"\n",
       "type: OTHER\n",
       "salience: 0.022549228742718697\n",
       "mentions {\n",
       "  text {\n",
       "    content: \"same\"\n",
       "    begin_offset: -1\n",
       "  }\n",
       "  type: COMMON\n",
       "}\n",
       ", name: \"trouble\"\n",
       "type: OTHER\n",
       "salience: 0.02107248269021511\n",
       "mentions {\n",
       "  text {\n",
       "    content: \"trouble\"\n",
       "    begin_offset: -1\n",
       "  }\n",
       "  type: COMMON\n",
       "}\n",
       ", name: \"thorns\"\n",
       "type: OTHER\n",
       "salience: 0.01890510693192482\n",
       "mentions {\n",
       "  text {\n",
       "    content: \"thorns\"\n",
       "    begin_offset: -1\n",
       "  }\n",
       "  type: COMMON\n",
       "}\n",
       ", name: \"war\"\n",
       "type: EVENT\n",
       "salience: 0.015729933977127075\n",
       "mentions {\n",
       "  text {\n",
       "    content: \"war\"\n",
       "    begin_offset: -1\n",
       "  }\n",
       "  type: COMMON\n",
       "}\n",
       ", name: \"flowers\"\n",
       "type: OTHER\n",
       "salience: 0.013700557872653008\n",
       "mentions {\n",
       "  text {\n",
       "    content: \"flowers\"\n",
       "    begin_offset: -1\n",
       "  }\n",
       "  type: COMMON\n",
       "}\n",
       ", name: \"sheep\"\n",
       "type: OTHER\n",
       "salience: 0.012468899600207806\n",
       "mentions {\n",
       "  text {\n",
       "    content: \"sheep\"\n",
       "    begin_offset: -1\n",
       "  }\n",
       "  type: COMMON\n",
       "}\n",
       ", name: \"nothing\"\n",
       "type: OTHER\n",
       "salience: 0.00695522828027606\n",
       "mentions {\n",
       "  text {\n",
       "    content: \"nothing\"\n",
       "    begin_offset: -1\n",
       "  }\n",
       "  type: COMMON\n",
       "}\n",
       "]"
      ]
     },
     "execution_count": 6,
     "metadata": {},
     "output_type": "execute_result"
    }
   ],
   "source": [
    "file = \"the_little_prince.txt\"\n",
    "sentiment_analysis(file)"
   ]
  }
 ],
 "metadata": {
  "kernelspec": {
   "display_name": "Python 3",
   "language": "python",
   "name": "python3"
  },
  "language_info": {
   "codemirror_mode": {
    "name": "ipython",
    "version": 3
   },
   "file_extension": ".py",
   "mimetype": "text/x-python",
   "name": "python",
   "nbconvert_exporter": "python",
   "pygments_lexer": "ipython3",
   "version": "3.6.3"
  }
 },
 "nbformat": 4,
 "nbformat_minor": 2
}
