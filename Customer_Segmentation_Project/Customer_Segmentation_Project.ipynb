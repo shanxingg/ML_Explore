{
 "cells": [
  {
   "cell_type": "markdown",
   "metadata": {
    "toc": true
   },
   "source": [
    "<h1>Table of Contents<span class=\"tocSkip\"></span></h1>\n",
    "<div class=\"toc\"><ul class=\"toc-item\"><li><span><a href=\"#Import-required-libraries\" data-toc-modified-id=\"Import-required-libraries-1\"><span class=\"toc-item-num\">1&nbsp;&nbsp;</span>Import required libraries</a></span></li><li><span><a href=\"#Import-dataset\" data-toc-modified-id=\"Import-dataset-2\"><span class=\"toc-item-num\">2&nbsp;&nbsp;</span>Import dataset</a></span></li><li><span><a href=\"#Problem-Statement\" data-toc-modified-id=\"Problem-Statement-3\"><span class=\"toc-item-num\">3&nbsp;&nbsp;</span>Problem Statement</a></span></li><li><span><a href=\"#Data-Quality-Assessment\" data-toc-modified-id=\"Data-Quality-Assessment-4\"><span class=\"toc-item-num\">4&nbsp;&nbsp;</span>Data Quality Assessment</a></span><ul class=\"toc-item\"><li><span><a href=\"#Check-missing-values\" data-toc-modified-id=\"Check-missing-values-4.1\"><span class=\"toc-item-num\">4.1&nbsp;&nbsp;</span>Check missing values</a></span></li><li><span><a href=\"#Check-duplicates\" data-toc-modified-id=\"Check-duplicates-4.2\"><span class=\"toc-item-num\">4.2&nbsp;&nbsp;</span>Check duplicates</a></span></li></ul></li><li><span><a href=\"#Exploratory-data-analysis\" data-toc-modified-id=\"Exploratory-data-analysis-5\"><span class=\"toc-item-num\">5&nbsp;&nbsp;</span>Exploratory data analysis</a></span><ul class=\"toc-item\"><li><span><a href=\"#Country\" data-toc-modified-id=\"Country-5.1\"><span class=\"toc-item-num\">5.1&nbsp;&nbsp;</span>Country</a></span></li><li><span><a href=\"#Items-&amp;-transactions\" data-toc-modified-id=\"Items-&amp;-transactions-5.2\"><span class=\"toc-item-num\">5.2&nbsp;&nbsp;</span>Items &amp; transactions</a></span></li><li><span><a href=\"#Customers-and-transactions\" data-toc-modified-id=\"Customers-and-transactions-5.3\"><span class=\"toc-item-num\">5.3&nbsp;&nbsp;</span>Customers and transactions</a></span></li><li><span><a href=\"#Create-a-customer-level-dataset\" data-toc-modified-id=\"Create-a-customer-level-dataset-5.4\"><span class=\"toc-item-num\">5.4&nbsp;&nbsp;</span>Create a customer-level dataset</a></span><ul class=\"toc-item\"><li><span><a href=\"#Recency\" data-toc-modified-id=\"Recency-5.4.1\"><span class=\"toc-item-num\">5.4.1&nbsp;&nbsp;</span>Recency</a></span></li><li><span><a href=\"#Frequency\" data-toc-modified-id=\"Frequency-5.4.2\"><span class=\"toc-item-num\">5.4.2&nbsp;&nbsp;</span>Frequency</a></span></li><li><span><a href=\"#Monetary-value\" data-toc-modified-id=\"Monetary-value-5.4.3\"><span class=\"toc-item-num\">5.4.3&nbsp;&nbsp;</span>Monetary value</a></span></li></ul></li><li><span><a href=\"#Combining-RFM-metrics\" data-toc-modified-id=\"Combining-RFM-metrics-5.5\"><span class=\"toc-item-num\">5.5&nbsp;&nbsp;</span>Combining RFM metrics</a></span></li><li><span><a href=\"#Adding-demographics-data\" data-toc-modified-id=\"Adding-demographics-data-5.6\"><span class=\"toc-item-num\">5.6&nbsp;&nbsp;</span>Adding demographics data</a></span></li><li><span><a href=\"#Treating-outliers\" data-toc-modified-id=\"Treating-outliers-5.7\"><span class=\"toc-item-num\">5.7&nbsp;&nbsp;</span>Treating outliers</a></span></li></ul></li><li><span><a href=\"#Modeling\" data-toc-modified-id=\"Modeling-6\"><span class=\"toc-item-num\">6&nbsp;&nbsp;</span>Modeling</a></span><ul class=\"toc-item\"><li><span><a href=\"#Standardizing-the-variables\" data-toc-modified-id=\"Standardizing-the-variables-6.1\"><span class=\"toc-item-num\">6.1&nbsp;&nbsp;</span>Standardizing the variables</a></span></li><li><span><a href=\"#Elbow-method-analysis\" data-toc-modified-id=\"Elbow-method-analysis-6.2\"><span class=\"toc-item-num\">6.2&nbsp;&nbsp;</span>Elbow-method analysis</a></span></li><li><span><a href=\"#K-means-Clustering\" data-toc-modified-id=\"K-means-Clustering-6.3\"><span class=\"toc-item-num\">6.3&nbsp;&nbsp;</span>K-means Clustering</a></span></li></ul></li><li><span><a href=\"#Reference:\" data-toc-modified-id=\"Reference:-7\"><span class=\"toc-item-num\">7&nbsp;&nbsp;</span>Reference:</a></span></li></ul></div>"
   ]
  },
  {
   "cell_type": "markdown",
   "metadata": {
    "colab_type": "text",
    "id": "wYAsFJebgPkz"
   },
   "source": [
    "## Import required libraries"
   ]
  },
  {
   "cell_type": "code",
   "execution_count": 187,
   "metadata": {
    "colab": {
     "autoexec": {
      "startup": false,
      "wait_interval": 0
     }
    },
    "colab_type": "code",
    "collapsed": true,
    "id": "q2Axem3MfBrG"
   },
   "outputs": [],
   "source": [
    "# For data loading and manipulation\n",
    "import pandas as pd\n",
    "import numpy as np\n",
    "\n",
    "# For visualization/EDA\n",
    "import matplotlib as mpl\n",
    "import matplotlib.pyplot as plt\n",
    "import seaborn as sns\n",
    "sns.set(color_codes=True)\n",
    "sns.set(style=\"white\")\n",
    "%matplotlib inline\n",
    "from matplotlib import cm\n",
    "\n",
    "# For modeling/machine learning\n",
    "from sklearn.preprocessing import MinMaxScaler\n",
    "from sklearn.cluster import KMeans\n",
    "from sklearn.metrics import silhouette_samples\n",
    "\n",
    "# Other\n",
    "import warnings\n",
    "warnings.filterwarnings('ignore')"
   ]
  },
  {
   "cell_type": "markdown",
   "metadata": {
    "colab_type": "text",
    "id": "OOJtDCWTgbtI"
   },
   "source": [
    "## Import dataset"
   ]
  },
  {
   "cell_type": "code",
   "execution_count": 188,
   "metadata": {
    "colab": {
     "autoexec": {
      "startup": false,
      "wait_interval": 0
     },
     "base_uri": "https://localhost:8080/",
     "height": 238
    },
    "colab_type": "code",
    "executionInfo": {
     "elapsed": 3511,
     "status": "ok",
     "timestamp": 1527623177788,
     "user": {
      "displayName": "Yajie Li",
      "photoUrl": "https://lh3.googleusercontent.com/a/default-user=s128",
      "userId": "105520643925225879740"
     },
     "user_tz": 420
    },
    "id": "MUaaHBEefBsb",
    "outputId": "ba07fe09-781c-45fc-c828-97cb67b87b95"
   },
   "outputs": [
    {
     "name": "stdout",
     "output_type": "stream",
     "text": [
      "<class 'pandas.core.frame.DataFrame'>\n",
      "RangeIndex: 541909 entries, 0 to 541908\n",
      "Data columns (total 8 columns):\n",
      "InvoiceNo      541909 non-null object\n",
      "StockCode      541909 non-null object\n",
      "Description    540455 non-null object\n",
      "Quantity       541909 non-null int64\n",
      "InvoiceDate    541909 non-null object\n",
      "UnitPrice      541909 non-null float64\n",
      "CustomerID     406829 non-null float64\n",
      "Country        541909 non-null object\n",
      "dtypes: float64(2), int64(1), object(5)\n",
      "memory usage: 33.1+ MB\n"
     ]
    }
   ],
   "source": [
    "df = pd.read_csv('https://s3.amazonaws.com/appdomainteam4/ecomm_data.csv')\n",
    "df.info()"
   ]
  },
  {
   "cell_type": "code",
   "execution_count": 189,
   "metadata": {
    "colab": {
     "autoexec": {
      "startup": false,
      "wait_interval": 0
     }
    },
    "colab_type": "code",
    "id": "QUrHl-2T7H8j"
   },
   "outputs": [
    {
     "data": {
      "text/html": [
       "<div>\n",
       "<style scoped>\n",
       "    .dataframe tbody tr th:only-of-type {\n",
       "        vertical-align: middle;\n",
       "    }\n",
       "\n",
       "    .dataframe tbody tr th {\n",
       "        vertical-align: top;\n",
       "    }\n",
       "\n",
       "    .dataframe thead th {\n",
       "        text-align: right;\n",
       "    }\n",
       "</style>\n",
       "<table border=\"1\" class=\"dataframe\">\n",
       "  <thead>\n",
       "    <tr style=\"text-align: right;\">\n",
       "      <th></th>\n",
       "      <th>InvoiceNo</th>\n",
       "      <th>StockCode</th>\n",
       "      <th>Description</th>\n",
       "      <th>Quantity</th>\n",
       "      <th>InvoiceDate</th>\n",
       "      <th>UnitPrice</th>\n",
       "      <th>CustomerID</th>\n",
       "      <th>Country</th>\n",
       "      <th>InvoiceYearMonth</th>\n",
       "    </tr>\n",
       "  </thead>\n",
       "  <tbody>\n",
       "    <tr>\n",
       "      <th>0</th>\n",
       "      <td>536365</td>\n",
       "      <td>85123A</td>\n",
       "      <td>WHITE HANGING HEART T-LIGHT HOLDER</td>\n",
       "      <td>6</td>\n",
       "      <td>2010-12-01 08:26:00</td>\n",
       "      <td>2.55</td>\n",
       "      <td>17850.0</td>\n",
       "      <td>United Kingdom</td>\n",
       "      <td>2010-12</td>\n",
       "    </tr>\n",
       "    <tr>\n",
       "      <th>1</th>\n",
       "      <td>536365</td>\n",
       "      <td>71053</td>\n",
       "      <td>WHITE METAL LANTERN</td>\n",
       "      <td>6</td>\n",
       "      <td>2010-12-01 08:26:00</td>\n",
       "      <td>3.39</td>\n",
       "      <td>17850.0</td>\n",
       "      <td>United Kingdom</td>\n",
       "      <td>2010-12</td>\n",
       "    </tr>\n",
       "    <tr>\n",
       "      <th>2</th>\n",
       "      <td>536365</td>\n",
       "      <td>84406B</td>\n",
       "      <td>CREAM CUPID HEARTS COAT HANGER</td>\n",
       "      <td>8</td>\n",
       "      <td>2010-12-01 08:26:00</td>\n",
       "      <td>2.75</td>\n",
       "      <td>17850.0</td>\n",
       "      <td>United Kingdom</td>\n",
       "      <td>2010-12</td>\n",
       "    </tr>\n",
       "    <tr>\n",
       "      <th>3</th>\n",
       "      <td>536365</td>\n",
       "      <td>84029G</td>\n",
       "      <td>KNITTED UNION FLAG HOT WATER BOTTLE</td>\n",
       "      <td>6</td>\n",
       "      <td>2010-12-01 08:26:00</td>\n",
       "      <td>3.39</td>\n",
       "      <td>17850.0</td>\n",
       "      <td>United Kingdom</td>\n",
       "      <td>2010-12</td>\n",
       "    </tr>\n",
       "    <tr>\n",
       "      <th>4</th>\n",
       "      <td>536365</td>\n",
       "      <td>84029E</td>\n",
       "      <td>RED WOOLLY HOTTIE WHITE HEART.</td>\n",
       "      <td>6</td>\n",
       "      <td>2010-12-01 08:26:00</td>\n",
       "      <td>3.39</td>\n",
       "      <td>17850.0</td>\n",
       "      <td>United Kingdom</td>\n",
       "      <td>2010-12</td>\n",
       "    </tr>\n",
       "  </tbody>\n",
       "</table>\n",
       "</div>"
      ],
      "text/plain": [
       "  InvoiceNo StockCode                          Description  Quantity  \\\n",
       "0    536365    85123A   WHITE HANGING HEART T-LIGHT HOLDER         6   \n",
       "1    536365     71053                  WHITE METAL LANTERN         6   \n",
       "2    536365    84406B       CREAM CUPID HEARTS COAT HANGER         8   \n",
       "3    536365    84029G  KNITTED UNION FLAG HOT WATER BOTTLE         6   \n",
       "4    536365    84029E       RED WOOLLY HOTTIE WHITE HEART.         6   \n",
       "\n",
       "          InvoiceDate  UnitPrice  CustomerID         Country InvoiceYearMonth  \n",
       "0 2010-12-01 08:26:00       2.55     17850.0  United Kingdom          2010-12  \n",
       "1 2010-12-01 08:26:00       3.39     17850.0  United Kingdom          2010-12  \n",
       "2 2010-12-01 08:26:00       2.75     17850.0  United Kingdom          2010-12  \n",
       "3 2010-12-01 08:26:00       3.39     17850.0  United Kingdom          2010-12  \n",
       "4 2010-12-01 08:26:00       3.39     17850.0  United Kingdom          2010-12  "
      ]
     },
     "execution_count": 189,
     "metadata": {},
     "output_type": "execute_result"
    }
   ],
   "source": [
    "# Converting InvoiceDate to date type\n",
    "df['InvoiceDate'] = pd.to_datetime(df['InvoiceDate'])\n",
    "df['InvoiceYearMonth'] = df.InvoiceDate.apply(lambda x: x.strftime('%Y-%m'))  \n",
    "df.head()"
   ]
  },
  {
   "cell_type": "markdown",
   "metadata": {
    "colab_type": "text",
    "id": "29J_Jx91nHbi"
   },
   "source": [
    "This dataframe contains 8 variables that correspond to:\n",
    "\n",
    "- InvoiceNo: Invoice number. Nominal, a 6-digit integral number uniquely assigned to each transaction.\n",
    "- StockCode: Product (item) code. Nominal, a 5-digit integral number uniquely assigned to each distinct product. \n",
    "- Description: Product (item) name. Nominal. \n",
    "- Quantity: The quantities of each product (item) per transaction. Numeric. \n",
    "- InvoiceDate: Invoice Date and time. Numeric, the day and time when each transaction was generated. \n",
    "- UnitPrice: Unit price. Numeric, Product price per unit in sterling. \n",
    "- CustomerID: Customer number. Nominal, a 5-digit integral number uniquely assigned to each customer. \n",
    "- Country: Country name. Nominal, the name of the country where each customer resides."
   ]
  },
  {
   "cell_type": "markdown",
   "metadata": {},
   "source": [
    "## Problem Statement\n",
    "\n",
    "* Company X is an online B2B retailer sells small widgets for home/apartment decorations to other small businesses globally\n",
    "* The company was founded in December 2010 and immediately attracted many business clients within first 3 months\n",
    "* The monthly total sales dropped starting in Dec 2011. Since it’s the season that most people would make more purchase for gifting, the marketing and sales team were concerned about the revenue performance.\n",
    "* The marketing team had analyzed all the factors and decided in order to get better conversion and retention, they need to understand the segmentation of the clients in order to create better marketing campaigns.\n",
    "* We are a team of consultants who will help Company X segment their clients to help the marketing team design the next campaign."
   ]
  },
  {
   "cell_type": "markdown",
   "metadata": {},
   "source": [
    "**Below are some of the charts which show the sales trend (from tableau) -**"
   ]
  },
  {
   "cell_type": "markdown",
   "metadata": {},
   "source": [
    "**Sales by Geography** \n",
    "\n",
    "Major business is coming from within the UK. But there is potential that can be captured in other countries as well.\n",
    "<img src=\"https://raw.githubusercontent.com/p-sama/Application_domain/master/SalesbyCountry.png\">"
   ]
  },
  {
   "cell_type": "markdown",
   "metadata": {},
   "source": [
    "**Monthly sales** \n",
    "\n",
    "Intuitively December should be high due to gifting and decorations in the holiday season.\n",
    "<img src=\"https://raw.githubusercontent.com/p-sama/Application_domain/master/MonthlySales.png\">"
   ]
  },
  {
   "cell_type": "markdown",
   "metadata": {},
   "source": [
    "**Weekly revenue** \n",
    "\n",
    "Marketing & Sales teams are concerned about maintaining the revenue performance post Nov 2011.\n",
    "<img src=\"https://raw.githubusercontent.com/p-sama/Application_domain/master/WeeklyRevenue.png\">"
   ]
  },
  {
   "cell_type": "markdown",
   "metadata": {},
   "source": [
    "**Average Items Purchased** \n",
    "\n",
    "Average number of items purchased weekly is declining.\n",
    "<img src=\"https://raw.githubusercontent.com/p-sama/Application_domain/master/AvgQuantityPerWeek.png\">"
   ]
  },
  {
   "cell_type": "markdown",
   "metadata": {
    "colab_type": "text",
    "id": "Dg_Pl2y8hCyq"
   },
   "source": [
    "## Data Quality Assessment"
   ]
  },
  {
   "cell_type": "markdown",
   "metadata": {
    "colab_type": "text",
    "id": "ZzLk3QyEhtPP"
   },
   "source": [
    "### Check missing values"
   ]
  },
  {
   "cell_type": "code",
   "execution_count": 190,
   "metadata": {
    "colab": {
     "autoexec": {
      "startup": false,
      "wait_interval": 0
     },
     "base_uri": "https://localhost:8080/",
     "height": 111
    },
    "colab_type": "code",
    "executionInfo": {
     "elapsed": 1391,
     "status": "ok",
     "timestamp": 1527623305100,
     "user": {
      "displayName": "Yajie Li",
      "photoUrl": "https://lh3.googleusercontent.com/a/default-user=s128",
      "userId": "105520643925225879740"
     },
     "user_tz": 420
    },
    "id": "AzIfX3Zuguoe",
    "outputId": "8046caab-ccc8-458f-9780-89fc497621c9"
   },
   "outputs": [
    {
     "data": {
      "text/html": [
       "<div>\n",
       "<style scoped>\n",
       "    .dataframe tbody tr th:only-of-type {\n",
       "        vertical-align: middle;\n",
       "    }\n",
       "\n",
       "    .dataframe tbody tr th {\n",
       "        vertical-align: top;\n",
       "    }\n",
       "\n",
       "    .dataframe thead th {\n",
       "        text-align: right;\n",
       "    }\n",
       "</style>\n",
       "<table border=\"1\" class=\"dataframe\">\n",
       "  <thead>\n",
       "    <tr style=\"text-align: right;\">\n",
       "      <th></th>\n",
       "      <th>InvoiceNo</th>\n",
       "      <th>StockCode</th>\n",
       "      <th>Description</th>\n",
       "      <th>Quantity</th>\n",
       "      <th>InvoiceDate</th>\n",
       "      <th>UnitPrice</th>\n",
       "      <th>CustomerID</th>\n",
       "      <th>Country</th>\n",
       "      <th>InvoiceYearMonth</th>\n",
       "    </tr>\n",
       "  </thead>\n",
       "  <tbody>\n",
       "    <tr>\n",
       "      <th>num_missing</th>\n",
       "      <td>0.0</td>\n",
       "      <td>0.0</td>\n",
       "      <td>1454.000000</td>\n",
       "      <td>0.0</td>\n",
       "      <td>0.0</td>\n",
       "      <td>0.0</td>\n",
       "      <td>135080.000000</td>\n",
       "      <td>0.0</td>\n",
       "      <td>0.0</td>\n",
       "    </tr>\n",
       "    <tr>\n",
       "      <th>percent_missing</th>\n",
       "      <td>0.0</td>\n",
       "      <td>0.0</td>\n",
       "      <td>0.268311</td>\n",
       "      <td>0.0</td>\n",
       "      <td>0.0</td>\n",
       "      <td>0.0</td>\n",
       "      <td>24.926694</td>\n",
       "      <td>0.0</td>\n",
       "      <td>0.0</td>\n",
       "    </tr>\n",
       "  </tbody>\n",
       "</table>\n",
       "</div>"
      ],
      "text/plain": [
       "                 InvoiceNo  StockCode  Description  Quantity  InvoiceDate  \\\n",
       "num_missing            0.0        0.0  1454.000000       0.0          0.0   \n",
       "percent_missing        0.0        0.0     0.268311       0.0          0.0   \n",
       "\n",
       "                 UnitPrice     CustomerID  Country  InvoiceYearMonth  \n",
       "num_missing            0.0  135080.000000      0.0               0.0  \n",
       "percent_missing        0.0      24.926694      0.0               0.0  "
      ]
     },
     "execution_count": 190,
     "metadata": {},
     "output_type": "execute_result"
    }
   ],
   "source": [
    "# check if data set contains missing values\n",
    "pd.DataFrame([df.isnull().sum(),df.isnull().sum()/len(df)*100], index=['num_missing', 'percent_missing'])"
   ]
  },
  {
   "cell_type": "markdown",
   "metadata": {
    "colab_type": "text",
    "id": "oo8iiZS5jOED"
   },
   "source": [
    "- There are around 25% of Customers missing their ID. It is impossible to impute values for the ID, hence we delete them from the analysis\n",
    "- There are around 0.27% of items missing their description. And similar to customer ids, it is impossible to impute values for the description. So, we remove these from the dataset"
   ]
  },
  {
   "cell_type": "code",
   "execution_count": 191,
   "metadata": {
    "colab": {
     "autoexec": {
      "startup": false,
      "wait_interval": 0
     }
    },
    "colab_type": "code",
    "collapsed": true,
    "id": "XmfUVFjekkbT"
   },
   "outputs": [],
   "source": [
    "# remove missing values\n",
    "df = df.dropna()"
   ]
  },
  {
   "cell_type": "markdown",
   "metadata": {
    "colab_type": "text",
    "id": "vtKE-K0-lAW4"
   },
   "source": [
    "### Check duplicates"
   ]
  },
  {
   "cell_type": "code",
   "execution_count": 192,
   "metadata": {
    "colab": {
     "autoexec": {
      "startup": false,
      "wait_interval": 0
     },
     "base_uri": "https://localhost:8080/",
     "height": 34
    },
    "colab_type": "code",
    "executionInfo": {
     "elapsed": 463,
     "status": "ok",
     "timestamp": 1527623311512,
     "user": {
      "displayName": "Yajie Li",
      "photoUrl": "https://lh3.googleusercontent.com/a/default-user=s128",
      "userId": "105520643925225879740"
     },
     "user_tz": 420
    },
    "id": "l126QcT4guro",
    "outputId": "0bbfa084-d849-48e5-f52b-08dbe3cd7a67"
   },
   "outputs": [
    {
     "name": "stdout",
     "output_type": "stream",
     "text": [
      "The dataset contains 5225 duplicated values.\n"
     ]
    }
   ],
   "source": [
    "# check if data set contains duplicated records\n",
    "print(f'The dataset contains {df.duplicated().sum()} duplicated values.')"
   ]
  },
  {
   "cell_type": "code",
   "execution_count": 193,
   "metadata": {
    "colab": {
     "autoexec": {
      "startup": false,
      "wait_interval": 0
     }
    },
    "colab_type": "code",
    "collapsed": true,
    "id": "yxWTSKffguu3"
   },
   "outputs": [],
   "source": [
    "# remove duplicated values from dataset\n",
    "df.drop_duplicates(inplace = True)"
   ]
  },
  {
   "cell_type": "markdown",
   "metadata": {
    "colab_type": "text",
    "id": "akftl-z9mS0L"
   },
   "source": [
    "## Exploratory data analysis"
   ]
  },
  {
   "cell_type": "markdown",
   "metadata": {
    "colab_type": "text",
    "id": "smjiA_UsqGQE"
   },
   "source": [
    "### Country"
   ]
  },
  {
   "cell_type": "code",
   "execution_count": 194,
   "metadata": {
    "colab": {
     "autoexec": {
      "startup": false,
      "wait_interval": 0
     }
    },
    "colab_type": "code",
    "collapsed": true,
    "id": "g-C6jYT_gux9"
   },
   "outputs": [],
   "source": [
    "df_country = pd.DataFrame([np.array(df.Country.value_counts().index),df.Country.value_counts()], index=['country_name', 'num_record']).T"
   ]
  },
  {
   "cell_type": "code",
   "execution_count": 195,
   "metadata": {
    "colab": {
     "autoexec": {
      "startup": false,
      "wait_interval": 0
     },
     "base_uri": "https://localhost:8080/",
     "height": 435
    },
    "colab_type": "code",
    "executionInfo": {
     "elapsed": 875,
     "status": "ok",
     "timestamp": 1527623320063,
     "user": {
      "displayName": "Yajie Li",
      "photoUrl": "https://lh3.googleusercontent.com/a/default-user=s128",
      "userId": "105520643925225879740"
     },
     "user_tz": 420
    },
    "id": "O9So8vjHmJWE",
    "outputId": "bff6a628-1f60-4c74-9a3d-0a4e45ced938"
   },
   "outputs": [
    {
     "data": {
      "image/png": "[encoded data removed]",
      "text/plain": [
       "<matplotlib.figure.Figure at 0x1a3e5bf0f0>"
      ]
     },
     "metadata": {},
     "output_type": "display_data"
    }
   ],
   "source": [
    "plt.figure(figsize=(15,5))\n",
    "sns.barplot(x=\"country_name\", y=\"num_record\", data=df_country)\n",
    "plt.title(\"Number of orders per country\")\n",
    "plt.xticks(rotation=90)\n",
    "plt.xlabel('country name')\n",
    "plt.ylabel('number of orders')\n",
    "plt.show()"
   ]
  },
  {
   "cell_type": "markdown",
   "metadata": {
    "colab_type": "text",
    "id": "SMReWbsOsa6v"
   },
   "source": [
    "We can see that the dataset is largely dominated by orders made from the UK."
   ]
  },
  {
   "cell_type": "markdown",
   "metadata": {},
   "source": [
    "### Items & transactions"
   ]
  },
  {
   "cell_type": "code",
   "execution_count": 196,
   "metadata": {},
   "outputs": [
    {
     "data": {
      "text/plain": [
       "<seaborn.axisgrid.FacetGrid at 0x1a3d2fa470>"
      ]
     },
     "execution_count": 196,
     "metadata": {},
     "output_type": "execute_result"
    },
    {
     "data": {
      "image/png": "[encoded data removed]",
      "text/plain": [
       "<matplotlib.figure.Figure at 0x1a3d303c18>"
      ]
     },
     "metadata": {},
     "output_type": "display_data"
    }
   ],
   "source": [
    "# plotting the unit price against the number of items purchased (removing extreme values)\n",
    "sns.lmplot(x=\"UnitPrice\", y=\"Quantity\", data=df.loc[(df['UnitPrice']>0) & (df['Quantity']>0) &\n",
    "                                                    (df['UnitPrice']<500) & (df['Quantity']<1000)\n",
    "                                                   ], fit_reg=False)"
   ]
  },
  {
   "cell_type": "markdown",
   "metadata": {},
   "source": [
    "Intuitively, clients purchase low priced items in bulk whereas as low number of high priced items"
   ]
  },
  {
   "cell_type": "code",
   "execution_count": 197,
   "metadata": {
    "scrolled": true
   },
   "outputs": [
    {
     "data": {
      "text/html": [
       "<div>\n",
       "<style scoped>\n",
       "    .dataframe tbody tr th:only-of-type {\n",
       "        vertical-align: middle;\n",
       "    }\n",
       "\n",
       "    .dataframe tbody tr th {\n",
       "        vertical-align: top;\n",
       "    }\n",
       "\n",
       "    .dataframe thead th {\n",
       "        text-align: right;\n",
       "    }\n",
       "</style>\n",
       "<table border=\"1\" class=\"dataframe\">\n",
       "  <thead>\n",
       "    <tr style=\"text-align: right;\">\n",
       "      <th></th>\n",
       "      <th>StockCode</th>\n",
       "      <th>tot_qty</th>\n",
       "      <th>AvgUnitPrice</th>\n",
       "      <th>Avg_Rev</th>\n",
       "    </tr>\n",
       "  </thead>\n",
       "  <tbody>\n",
       "    <tr>\n",
       "      <th>0</th>\n",
       "      <td>10002</td>\n",
       "      <td>823</td>\n",
       "      <td>0.850000</td>\n",
       "      <td>699.550000</td>\n",
       "    </tr>\n",
       "    <tr>\n",
       "      <th>1</th>\n",
       "      <td>10080</td>\n",
       "      <td>291</td>\n",
       "      <td>0.411905</td>\n",
       "      <td>119.864286</td>\n",
       "    </tr>\n",
       "    <tr>\n",
       "      <th>2</th>\n",
       "      <td>10120</td>\n",
       "      <td>192</td>\n",
       "      <td>0.210000</td>\n",
       "      <td>40.320000</td>\n",
       "    </tr>\n",
       "    <tr>\n",
       "      <th>3</th>\n",
       "      <td>10123C</td>\n",
       "      <td>5</td>\n",
       "      <td>0.650000</td>\n",
       "      <td>3.250000</td>\n",
       "    </tr>\n",
       "    <tr>\n",
       "      <th>4</th>\n",
       "      <td>10124A</td>\n",
       "      <td>16</td>\n",
       "      <td>0.420000</td>\n",
       "      <td>6.720000</td>\n",
       "    </tr>\n",
       "  </tbody>\n",
       "</table>\n",
       "</div>"
      ],
      "text/plain": [
       "  StockCode  tot_qty  AvgUnitPrice     Avg_Rev\n",
       "0     10002      823      0.850000  699.550000\n",
       "1     10080      291      0.411905  119.864286\n",
       "2     10120      192      0.210000   40.320000\n",
       "3    10123C        5      0.650000    3.250000\n",
       "4    10124A       16      0.420000    6.720000"
      ]
     },
     "execution_count": 197,
     "metadata": {},
     "output_type": "execute_result"
    }
   ],
   "source": [
    "# Check top selling items\n",
    "top_sell_df = df.groupby(['StockCode']).agg({'Quantity': 'sum', 'UnitPrice': 'mean'}).reset_index()\n",
    "top_sell_df.rename(columns={\"Quantity\":\"tot_qty\", \"UnitPrice\":\"AvgUnitPrice\"}, inplace=True)\n",
    "top_sell_df['Avg_Rev'] = top_sell_df['tot_qty'] * top_sell_df['AvgUnitPrice']\n",
    "top_sell_df.head()"
   ]
  },
  {
   "cell_type": "code",
   "execution_count": 198,
   "metadata": {},
   "outputs": [
    {
     "data": {
      "text/html": [
       "<div>\n",
       "<style scoped>\n",
       "    .dataframe tbody tr th:only-of-type {\n",
       "        vertical-align: middle;\n",
       "    }\n",
       "\n",
       "    .dataframe tbody tr th {\n",
       "        vertical-align: top;\n",
       "    }\n",
       "\n",
       "    .dataframe thead th {\n",
       "        text-align: right;\n",
       "    }\n",
       "</style>\n",
       "<table border=\"1\" class=\"dataframe\">\n",
       "  <thead>\n",
       "    <tr style=\"text-align: right;\">\n",
       "      <th></th>\n",
       "      <th>index</th>\n",
       "      <th>StockCode</th>\n",
       "      <th>tot_qty</th>\n",
       "      <th>AvgUnitPrice</th>\n",
       "      <th>Avg_Rev</th>\n",
       "    </tr>\n",
       "  </thead>\n",
       "  <tbody>\n",
       "    <tr>\n",
       "      <th>0</th>\n",
       "      <td>2812</td>\n",
       "      <td>84077</td>\n",
       "      <td>53119</td>\n",
       "      <td>0.292034</td>\n",
       "      <td>15512.529769</td>\n",
       "    </tr>\n",
       "    <tr>\n",
       "      <th>1</th>\n",
       "      <td>1092</td>\n",
       "      <td>22197</td>\n",
       "      <td>48689</td>\n",
       "      <td>0.837937</td>\n",
       "      <td>40798.311523</td>\n",
       "    </tr>\n",
       "    <tr>\n",
       "      <th>2</th>\n",
       "      <td>3235</td>\n",
       "      <td>85099B</td>\n",
       "      <td>44963</td>\n",
       "      <td>2.013140</td>\n",
       "      <td>90516.833876</td>\n",
       "    </tr>\n",
       "    <tr>\n",
       "      <th>3</th>\n",
       "      <td>3069</td>\n",
       "      <td>84879</td>\n",
       "      <td>35215</td>\n",
       "      <td>1.680776</td>\n",
       "      <td>59188.519822</td>\n",
       "    </tr>\n",
       "    <tr>\n",
       "      <th>4</th>\n",
       "      <td>3249</td>\n",
       "      <td>85123A</td>\n",
       "      <td>34185</td>\n",
       "      <td>2.891027</td>\n",
       "      <td>98829.745496</td>\n",
       "    </tr>\n",
       "  </tbody>\n",
       "</table>\n",
       "</div>"
      ],
      "text/plain": [
       "   index StockCode  tot_qty  AvgUnitPrice       Avg_Rev\n",
       "0   2812     84077    53119      0.292034  15512.529769\n",
       "1   1092     22197    48689      0.837937  40798.311523\n",
       "2   3235    85099B    44963      2.013140  90516.833876\n",
       "3   3069     84879    35215      1.680776  59188.519822\n",
       "4   3249    85123A    34185      2.891027  98829.745496"
      ]
     },
     "execution_count": 198,
     "metadata": {},
     "output_type": "execute_result"
    }
   ],
   "source": [
    "top_sell_df_qty = top_sell_df.sort_values(by = 'tot_qty', ascending = False).reset_index().iloc[:20,:]\n",
    "top_sell_df_qty.head()"
   ]
  },
  {
   "cell_type": "code",
   "execution_count": 199,
   "metadata": {},
   "outputs": [
    {
     "data": {
      "image/png": "[encoded data removed]",
      "text/plain": [
       "<matplotlib.figure.Figure at 0x1a3d2c3908>"
      ]
     },
     "metadata": {},
     "output_type": "display_data"
    }
   ],
   "source": [
    "plt.figure(figsize = (20,10))\n",
    "sns.pointplot(x=\"StockCode\", y=\"tot_qty\",ci=False, data=top_sell_df_qty)\n",
    "plt.show()"
   ]
  },
  {
   "cell_type": "code",
   "execution_count": 200,
   "metadata": {},
   "outputs": [
    {
     "data": {
      "text/html": [
       "<div>\n",
       "<style scoped>\n",
       "    .dataframe tbody tr th:only-of-type {\n",
       "        vertical-align: middle;\n",
       "    }\n",
       "\n",
       "    .dataframe tbody tr th {\n",
       "        vertical-align: top;\n",
       "    }\n",
       "\n",
       "    .dataframe thead th {\n",
       "        text-align: right;\n",
       "    }\n",
       "</style>\n",
       "<table border=\"1\" class=\"dataframe\">\n",
       "  <thead>\n",
       "    <tr style=\"text-align: right;\">\n",
       "      <th></th>\n",
       "      <th>index</th>\n",
       "      <th>StockCode</th>\n",
       "      <th>tot_qty</th>\n",
       "      <th>AvgUnitPrice</th>\n",
       "      <th>Avg_Rev</th>\n",
       "    </tr>\n",
       "  </thead>\n",
       "  <tbody>\n",
       "    <tr>\n",
       "      <th>0</th>\n",
       "      <td>3681</td>\n",
       "      <td>M</td>\n",
       "      <td>2944</td>\n",
       "      <td>338.044391</td>\n",
       "      <td>995202.688000</td>\n",
       "    </tr>\n",
       "    <tr>\n",
       "      <th>1</th>\n",
       "      <td>1292</td>\n",
       "      <td>22423</td>\n",
       "      <td>11529</td>\n",
       "      <td>12.428511</td>\n",
       "      <td>143288.304329</td>\n",
       "    </tr>\n",
       "    <tr>\n",
       "      <th>2</th>\n",
       "      <td>3683</td>\n",
       "      <td>POST</td>\n",
       "      <td>3002</td>\n",
       "      <td>37.888528</td>\n",
       "      <td>113741.362341</td>\n",
       "    </tr>\n",
       "    <tr>\n",
       "      <th>3</th>\n",
       "      <td>3249</td>\n",
       "      <td>85123A</td>\n",
       "      <td>34185</td>\n",
       "      <td>2.891027</td>\n",
       "      <td>98829.745496</td>\n",
       "    </tr>\n",
       "    <tr>\n",
       "      <th>4</th>\n",
       "      <td>3235</td>\n",
       "      <td>85099B</td>\n",
       "      <td>44963</td>\n",
       "      <td>2.013140</td>\n",
       "      <td>90516.833876</td>\n",
       "    </tr>\n",
       "  </tbody>\n",
       "</table>\n",
       "</div>"
      ],
      "text/plain": [
       "   index StockCode  tot_qty  AvgUnitPrice        Avg_Rev\n",
       "0   3681         M     2944    338.044391  995202.688000\n",
       "1   1292     22423    11529     12.428511  143288.304329\n",
       "2   3683      POST     3002     37.888528  113741.362341\n",
       "3   3249    85123A    34185      2.891027   98829.745496\n",
       "4   3235    85099B    44963      2.013140   90516.833876"
      ]
     },
     "execution_count": 200,
     "metadata": {},
     "output_type": "execute_result"
    }
   ],
   "source": [
    "top_sell_df_rev = top_sell_df.sort_values(by = 'Avg_Rev', ascending = False).reset_index().iloc[:20,:]\n",
    "top_sell_df_rev.head()"
   ]
  },
  {
   "cell_type": "code",
   "execution_count": 201,
   "metadata": {},
   "outputs": [
    {
     "data": {
      "image/png": "[encoded data removed]",
      "text/plain": [
       "<matplotlib.figure.Figure at 0x1a3cb18f60>"
      ]
     },
     "metadata": {},
     "output_type": "display_data"
    }
   ],
   "source": [
    "plt.figure(figsize = (20,10))\n",
    "sns.pointplot(x=\"StockCode\", y=\"Avg_Rev\",ci=False, data=top_sell_df_rev)\n",
    "plt.show()"
   ]
  },
  {
   "cell_type": "markdown",
   "metadata": {
    "colab_type": "text",
    "id": "rsjPpxZdsrt1"
   },
   "source": [
    "### Customers and transactions"
   ]
  },
  {
   "cell_type": "code",
   "execution_count": 202,
   "metadata": {
    "colab": {
     "autoexec": {
      "startup": false,
      "wait_interval": 0
     }
    },
    "colab_type": "code",
    "collapsed": true,
    "id": "q7Htp9nzvw6s"
   },
   "outputs": [],
   "source": [
    "# create a new variable, TotalPrice = Quantity * UnitPrice\n",
    "df['TotalPrice'] = df.Quantity * df.UnitPrice"
   ]
  },
  {
   "cell_type": "code",
   "execution_count": 203,
   "metadata": {
    "colab": {
     "autoexec": {
      "startup": false,
      "wait_interval": 0
     },
     "base_uri": "https://localhost:8080/",
     "height": 204
    },
    "colab_type": "code",
    "executionInfo": {
     "elapsed": 288,
     "status": "ok",
     "timestamp": 1527623325772,
     "user": {
      "displayName": "Yajie Li",
      "photoUrl": "https://lh3.googleusercontent.com/a/default-user=s128",
      "userId": "105520643925225879740"
     },
     "user_tz": 420
    },
    "id": "I5tKvJAPIurf",
    "outputId": "b3e6d0d7-c276-411a-af6a-7ba41aef5d71"
   },
   "outputs": [
    {
     "data": {
      "text/html": [
       "<div>\n",
       "<style scoped>\n",
       "    .dataframe tbody tr th:only-of-type {\n",
       "        vertical-align: middle;\n",
       "    }\n",
       "\n",
       "    .dataframe tbody tr th {\n",
       "        vertical-align: top;\n",
       "    }\n",
       "\n",
       "    .dataframe thead th {\n",
       "        text-align: right;\n",
       "    }\n",
       "</style>\n",
       "<table border=\"1\" class=\"dataframe\">\n",
       "  <thead>\n",
       "    <tr style=\"text-align: right;\">\n",
       "      <th></th>\n",
       "      <th>InvoiceNo</th>\n",
       "      <th>Quantity</th>\n",
       "      <th>UnitPrice</th>\n",
       "      <th>TotalPrice</th>\n",
       "    </tr>\n",
       "  </thead>\n",
       "  <tbody>\n",
       "    <tr>\n",
       "      <th>0</th>\n",
       "      <td>536365</td>\n",
       "      <td>6</td>\n",
       "      <td>2.55</td>\n",
       "      <td>15.30</td>\n",
       "    </tr>\n",
       "    <tr>\n",
       "      <th>1</th>\n",
       "      <td>536365</td>\n",
       "      <td>6</td>\n",
       "      <td>3.39</td>\n",
       "      <td>20.34</td>\n",
       "    </tr>\n",
       "    <tr>\n",
       "      <th>2</th>\n",
       "      <td>536365</td>\n",
       "      <td>8</td>\n",
       "      <td>2.75</td>\n",
       "      <td>22.00</td>\n",
       "    </tr>\n",
       "    <tr>\n",
       "      <th>3</th>\n",
       "      <td>536365</td>\n",
       "      <td>6</td>\n",
       "      <td>3.39</td>\n",
       "      <td>20.34</td>\n",
       "    </tr>\n",
       "    <tr>\n",
       "      <th>4</th>\n",
       "      <td>536365</td>\n",
       "      <td>6</td>\n",
       "      <td>3.39</td>\n",
       "      <td>20.34</td>\n",
       "    </tr>\n",
       "  </tbody>\n",
       "</table>\n",
       "</div>"
      ],
      "text/plain": [
       "  InvoiceNo  Quantity  UnitPrice  TotalPrice\n",
       "0    536365         6       2.55       15.30\n",
       "1    536365         6       3.39       20.34\n",
       "2    536365         8       2.75       22.00\n",
       "3    536365         6       3.39       20.34\n",
       "4    536365         6       3.39       20.34"
      ]
     },
     "execution_count": 203,
     "metadata": {},
     "output_type": "execute_result"
    }
   ],
   "source": [
    "df[['InvoiceNo', 'Quantity', 'UnitPrice', 'TotalPrice']].head()"
   ]
  },
  {
   "cell_type": "code",
   "execution_count": 204,
   "metadata": {
    "colab": {
     "autoexec": {
      "startup": false,
      "wait_interval": 0
     }
    },
    "colab_type": "code",
    "collapsed": true,
    "id": "S7Ty0D2lmJdw"
   },
   "outputs": [],
   "source": [
    "# calculate the number of products purchased and its total price in every transaction\n",
    "customers_products = pd.DataFrame(df.groupby(['CustomerID', 'InvoiceNo'])['Quantity', 'TotalPrice'].sum())"
   ]
  },
  {
   "cell_type": "code",
   "execution_count": 205,
   "metadata": {
    "colab": {
     "autoexec": {
      "startup": false,
      "wait_interval": 0
     },
     "base_uri": "https://localhost:8080/",
     "height": 34
    },
    "colab_type": "code",
    "executionInfo": {
     "elapsed": 298,
     "status": "ok",
     "timestamp": 1527623330825,
     "user": {
      "displayName": "Yajie Li",
      "photoUrl": "https://lh3.googleusercontent.com/a/default-user=s128",
      "userId": "105520643925225879740"
     },
     "user_tz": 420
    },
    "id": "JtN0HXFS4z_5",
    "outputId": "f5a99533-f629-4daf-f01a-90586cc922ac"
   },
   "outputs": [
    {
     "name": "stdout",
     "output_type": "stream",
     "text": [
      "There are 4372 customers and 22190 transactions (sum of unique InvoiceNo).\n"
     ]
    }
   ],
   "source": [
    "print(f'There are {len(df.CustomerID.unique())} customers and {len(customers_products)} transactions (sum of unique InvoiceNo).')"
   ]
  },
  {
   "cell_type": "code",
   "execution_count": 206,
   "metadata": {
    "colab": {
     "autoexec": {
      "startup": false,
      "wait_interval": 0
     },
     "base_uri": "https://localhost:8080/",
     "height": 390
    },
    "colab_type": "code",
    "executionInfo": {
     "elapsed": 294,
     "status": "ok",
     "timestamp": 1527623332530,
     "user": {
      "displayName": "Yajie Li",
      "photoUrl": "https://lh3.googleusercontent.com/a/default-user=s128",
      "userId": "105520643925225879740"
     },
     "user_tz": 420
    },
    "id": "LR_T53i5mJlO",
    "outputId": "e259c830-7f90-4695-a89e-0b198327997a"
   },
   "outputs": [
    {
     "data": {
      "text/html": [
       "<div>\n",
       "<style scoped>\n",
       "    .dataframe tbody tr th:only-of-type {\n",
       "        vertical-align: middle;\n",
       "    }\n",
       "\n",
       "    .dataframe tbody tr th {\n",
       "        vertical-align: top;\n",
       "    }\n",
       "\n",
       "    .dataframe thead th {\n",
       "        text-align: right;\n",
       "    }\n",
       "</style>\n",
       "<table border=\"1\" class=\"dataframe\">\n",
       "  <thead>\n",
       "    <tr style=\"text-align: right;\">\n",
       "      <th></th>\n",
       "      <th></th>\n",
       "      <th>Quantity</th>\n",
       "      <th>TotalPrice</th>\n",
       "    </tr>\n",
       "    <tr>\n",
       "      <th>CustomerID</th>\n",
       "      <th>InvoiceNo</th>\n",
       "      <th></th>\n",
       "      <th></th>\n",
       "    </tr>\n",
       "  </thead>\n",
       "  <tbody>\n",
       "    <tr>\n",
       "      <th rowspan=\"2\" valign=\"top\">12346.0</th>\n",
       "      <th>541431</th>\n",
       "      <td>74215</td>\n",
       "      <td>77183.60</td>\n",
       "    </tr>\n",
       "    <tr>\n",
       "      <th>C541433</th>\n",
       "      <td>-74215</td>\n",
       "      <td>-77183.60</td>\n",
       "    </tr>\n",
       "    <tr>\n",
       "      <th rowspan=\"7\" valign=\"top\">12347.0</th>\n",
       "      <th>537626</th>\n",
       "      <td>319</td>\n",
       "      <td>711.79</td>\n",
       "    </tr>\n",
       "    <tr>\n",
       "      <th>542237</th>\n",
       "      <td>315</td>\n",
       "      <td>475.39</td>\n",
       "    </tr>\n",
       "    <tr>\n",
       "      <th>549222</th>\n",
       "      <td>483</td>\n",
       "      <td>636.25</td>\n",
       "    </tr>\n",
       "    <tr>\n",
       "      <th>556201</th>\n",
       "      <td>196</td>\n",
       "      <td>382.52</td>\n",
       "    </tr>\n",
       "    <tr>\n",
       "      <th>562032</th>\n",
       "      <td>277</td>\n",
       "      <td>584.91</td>\n",
       "    </tr>\n",
       "    <tr>\n",
       "      <th>573511</th>\n",
       "      <td>676</td>\n",
       "      <td>1294.32</td>\n",
       "    </tr>\n",
       "    <tr>\n",
       "      <th>581180</th>\n",
       "      <td>192</td>\n",
       "      <td>224.82</td>\n",
       "    </tr>\n",
       "    <tr>\n",
       "      <th>12348.0</th>\n",
       "      <th>539318</th>\n",
       "      <td>1254</td>\n",
       "      <td>892.80</td>\n",
       "    </tr>\n",
       "  </tbody>\n",
       "</table>\n",
       "</div>"
      ],
      "text/plain": [
       "                      Quantity  TotalPrice\n",
       "CustomerID InvoiceNo                      \n",
       "12346.0    541431        74215    77183.60\n",
       "           C541433      -74215   -77183.60\n",
       "12347.0    537626          319      711.79\n",
       "           542237          315      475.39\n",
       "           549222          483      636.25\n",
       "           556201          196      382.52\n",
       "           562032          277      584.91\n",
       "           573511          676     1294.32\n",
       "           581180          192      224.82\n",
       "12348.0    539318         1254      892.80"
      ]
     },
     "execution_count": 206,
     "metadata": {},
     "output_type": "execute_result"
    }
   ],
   "source": [
    "customers_products.head(10)"
   ]
  },
  {
   "cell_type": "markdown",
   "metadata": {
    "colab_type": "text",
    "id": "UDwWGm3YxdYl"
   },
   "source": [
    "The result above shows couple insteresting things worthy of attention:\n",
    "- the existence of entries with the prefix C for the **InvoiceNo** variable: this indicates transactions that have been canceled\n",
    "- there are 4372 customers and 22190 transactions (sum of unique InvoiceNo)"
   ]
  },
  {
   "cell_type": "code",
   "execution_count": 207,
   "metadata": {
    "colab": {
     "autoexec": {
      "startup": false,
      "wait_interval": 0
     }
    },
    "colab_type": "code",
    "collapsed": true,
    "id": "lGaVIUXCmJi0"
   },
   "outputs": [],
   "source": [
    "# create a new variable, order_canceled(0 not cancel, 1 canceled)\n",
    "df['order_canceled'] = [1 if 'C' in invoice else 0 for invoice in df.InvoiceNo]"
   ]
  },
  {
   "cell_type": "code",
   "execution_count": 208,
   "metadata": {
    "colab": {
     "autoexec": {
      "startup": false,
      "wait_interval": 0
     },
     "base_uri": "https://localhost:8080/",
     "height": 204
    },
    "colab_type": "code",
    "executionInfo": {
     "elapsed": 448,
     "status": "ok",
     "timestamp": 1527623337286,
     "user": {
      "displayName": "Yajie Li",
      "photoUrl": "https://lh3.googleusercontent.com/a/default-user=s128",
      "userId": "105520643925225879740"
     },
     "user_tz": 420
    },
    "id": "DV-aRiExmJbc",
    "outputId": "c1bbd172-61af-40bc-e788-ad2793337e5d"
   },
   "outputs": [
    {
     "data": {
      "text/html": [
       "<div>\n",
       "<style scoped>\n",
       "    .dataframe tbody tr th:only-of-type {\n",
       "        vertical-align: middle;\n",
       "    }\n",
       "\n",
       "    .dataframe tbody tr th {\n",
       "        vertical-align: top;\n",
       "    }\n",
       "\n",
       "    .dataframe thead th {\n",
       "        text-align: right;\n",
       "    }\n",
       "</style>\n",
       "<table border=\"1\" class=\"dataframe\">\n",
       "  <thead>\n",
       "    <tr style=\"text-align: right;\">\n",
       "      <th></th>\n",
       "      <th>InvoiceNo</th>\n",
       "      <th>Quantity</th>\n",
       "      <th>UnitPrice</th>\n",
       "      <th>TotalPrice</th>\n",
       "      <th>order_canceled</th>\n",
       "    </tr>\n",
       "  </thead>\n",
       "  <tbody>\n",
       "    <tr>\n",
       "      <th>141</th>\n",
       "      <td>C536379</td>\n",
       "      <td>-1</td>\n",
       "      <td>27.50</td>\n",
       "      <td>-27.50</td>\n",
       "      <td>1</td>\n",
       "    </tr>\n",
       "    <tr>\n",
       "      <th>154</th>\n",
       "      <td>C536383</td>\n",
       "      <td>-1</td>\n",
       "      <td>4.65</td>\n",
       "      <td>-4.65</td>\n",
       "      <td>1</td>\n",
       "    </tr>\n",
       "    <tr>\n",
       "      <th>235</th>\n",
       "      <td>C536391</td>\n",
       "      <td>-12</td>\n",
       "      <td>1.65</td>\n",
       "      <td>-19.80</td>\n",
       "      <td>1</td>\n",
       "    </tr>\n",
       "    <tr>\n",
       "      <th>236</th>\n",
       "      <td>C536391</td>\n",
       "      <td>-24</td>\n",
       "      <td>0.29</td>\n",
       "      <td>-6.96</td>\n",
       "      <td>1</td>\n",
       "    </tr>\n",
       "    <tr>\n",
       "      <th>237</th>\n",
       "      <td>C536391</td>\n",
       "      <td>-24</td>\n",
       "      <td>0.29</td>\n",
       "      <td>-6.96</td>\n",
       "      <td>1</td>\n",
       "    </tr>\n",
       "  </tbody>\n",
       "</table>\n",
       "</div>"
      ],
      "text/plain": [
       "    InvoiceNo  Quantity  UnitPrice  TotalPrice  order_canceled\n",
       "141   C536379        -1      27.50      -27.50               1\n",
       "154   C536383        -1       4.65       -4.65               1\n",
       "235   C536391       -12       1.65      -19.80               1\n",
       "236   C536391       -24       0.29       -6.96               1\n",
       "237   C536391       -24       0.29       -6.96               1"
      ]
     },
     "execution_count": 208,
     "metadata": {},
     "output_type": "execute_result"
    }
   ],
   "source": [
    "df[df.order_canceled == 1][['InvoiceNo', 'Quantity', 'UnitPrice', 'TotalPrice', 'order_canceled']].head()"
   ]
  },
  {
   "cell_type": "code",
   "execution_count": 209,
   "metadata": {
    "colab": {
     "autoexec": {
      "startup": false,
      "wait_interval": 0
     },
     "base_uri": "https://localhost:8080/",
     "height": 34
    },
    "colab_type": "code",
    "executionInfo": {
     "elapsed": 479,
     "status": "ok",
     "timestamp": 1527623339864,
     "user": {
      "displayName": "Yajie Li",
      "photoUrl": "https://lh3.googleusercontent.com/a/default-user=s128",
      "userId": "105520643925225879740"
     },
     "user_tz": 420
    },
    "id": "7FncqtOlmJgZ",
    "outputId": "520a70db-96f8-4b46-bc52-e1b444b7a0df"
   },
   "outputs": [
    {
     "name": "stdout",
     "output_type": "stream",
     "text": [
      "Number of transactions canceled: 3654/22190 (16.47%)\n"
     ]
    }
   ],
   "source": [
    "print(f'Number of transactions canceled: {len(df[df.order_canceled == 1].InvoiceNo.unique())}/{len(customers_products)} ({round(len(df[df.order_canceled == 1].InvoiceNo.unique())/len(customers_products) * 100, 2)}%)')"
   ]
  },
  {
   "cell_type": "markdown",
   "metadata": {
    "colab_type": "text",
    "id": "eS3Tr24m96EC"
   },
   "source": [
    "From the above results we can see that:\n",
    "- There is a significant amount of transactions have been canceled by customers (16.47%)\n",
    "- For the orders that been canceled, will have identical negative quantity"
   ]
  },
  {
   "cell_type": "code",
   "execution_count": 210,
   "metadata": {
    "colab": {
     "autoexec": {
      "startup": false,
      "wait_interval": 0
     }
    },
    "colab_type": "code",
    "collapsed": true,
    "id": "4hR5oGGm132V"
   },
   "outputs": [],
   "source": [
    "# define canceled_transactions, including all the unique invoiceNO\n",
    "canceled_transactions = set(df[df.order_canceled == 1].InvoiceNo.values) # unique invoiceNO with the prefix C\n",
    "canceled_transactions.update(set(df[df.order_canceled == 1].InvoiceNo.str.replace('C','').values)) # unique invoiceNO with the prefix C but removed the C"
   ]
  },
  {
   "cell_type": "code",
   "execution_count": 211,
   "metadata": {
    "colab": {
     "autoexec": {
      "startup": false,
      "wait_interval": 0
     }
    },
    "colab_type": "code",
    "collapsed": true,
    "id": "aeZarMhG135n"
   },
   "outputs": [],
   "source": [
    "# create a new variable, TotalPaidPrice, indicates the total amount of money that a customer paid for certain items in certain transaction(did not calcel at the end). For the items that the customer finally canceled, will assign value of 0.\n",
    "df['TotalPaidPrice'] = [0 if row['InvoiceNo'] in canceled_transactions else row['TotalPrice'] for index, row in df.iterrows()]"
   ]
  },
  {
   "cell_type": "code",
   "execution_count": 212,
   "metadata": {
    "colab": {
     "autoexec": {
      "startup": false,
      "wait_interval": 0
     },
     "base_uri": "https://localhost:8080/",
     "height": 204
    },
    "colab_type": "code",
    "executionInfo": {
     "elapsed": 299,
     "status": "ok",
     "timestamp": 1527623393721,
     "user": {
      "displayName": "Yajie Li",
      "photoUrl": "https://lh3.googleusercontent.com/a/default-user=s128",
      "userId": "105520643925225879740"
     },
     "user_tz": 420
    },
    "id": "q7eFdsqK1386",
    "outputId": "8f008489-87c4-4b55-b0f7-be441070ef11"
   },
   "outputs": [
    {
     "data": {
      "text/html": [
       "<div>\n",
       "<style scoped>\n",
       "    .dataframe tbody tr th:only-of-type {\n",
       "        vertical-align: middle;\n",
       "    }\n",
       "\n",
       "    .dataframe tbody tr th {\n",
       "        vertical-align: top;\n",
       "    }\n",
       "\n",
       "    .dataframe thead th {\n",
       "        text-align: right;\n",
       "    }\n",
       "</style>\n",
       "<table border=\"1\" class=\"dataframe\">\n",
       "  <thead>\n",
       "    <tr style=\"text-align: right;\">\n",
       "      <th></th>\n",
       "      <th>InvoiceNo</th>\n",
       "      <th>Quantity</th>\n",
       "      <th>UnitPrice</th>\n",
       "      <th>TotalPrice</th>\n",
       "      <th>TotalPaidPrice</th>\n",
       "    </tr>\n",
       "  </thead>\n",
       "  <tbody>\n",
       "    <tr>\n",
       "      <th>0</th>\n",
       "      <td>536365</td>\n",
       "      <td>6</td>\n",
       "      <td>2.55</td>\n",
       "      <td>15.30</td>\n",
       "      <td>15.30</td>\n",
       "    </tr>\n",
       "    <tr>\n",
       "      <th>1</th>\n",
       "      <td>536365</td>\n",
       "      <td>6</td>\n",
       "      <td>3.39</td>\n",
       "      <td>20.34</td>\n",
       "      <td>20.34</td>\n",
       "    </tr>\n",
       "    <tr>\n",
       "      <th>2</th>\n",
       "      <td>536365</td>\n",
       "      <td>8</td>\n",
       "      <td>2.75</td>\n",
       "      <td>22.00</td>\n",
       "      <td>22.00</td>\n",
       "    </tr>\n",
       "    <tr>\n",
       "      <th>3</th>\n",
       "      <td>536365</td>\n",
       "      <td>6</td>\n",
       "      <td>3.39</td>\n",
       "      <td>20.34</td>\n",
       "      <td>20.34</td>\n",
       "    </tr>\n",
       "    <tr>\n",
       "      <th>4</th>\n",
       "      <td>536365</td>\n",
       "      <td>6</td>\n",
       "      <td>3.39</td>\n",
       "      <td>20.34</td>\n",
       "      <td>20.34</td>\n",
       "    </tr>\n",
       "  </tbody>\n",
       "</table>\n",
       "</div>"
      ],
      "text/plain": [
       "  InvoiceNo  Quantity  UnitPrice  TotalPrice  TotalPaidPrice\n",
       "0    536365         6       2.55       15.30           15.30\n",
       "1    536365         6       3.39       20.34           20.34\n",
       "2    536365         8       2.75       22.00           22.00\n",
       "3    536365         6       3.39       20.34           20.34\n",
       "4    536365         6       3.39       20.34           20.34"
      ]
     },
     "execution_count": 212,
     "metadata": {},
     "output_type": "execute_result"
    }
   ],
   "source": [
    "# example of TotalPaidPrice in normal transaction(not be canceled at the end)\n",
    "df[['InvoiceNo', 'Quantity', 'UnitPrice', 'TotalPrice', 'TotalPaidPrice']].head()"
   ]
  },
  {
   "cell_type": "code",
   "execution_count": 213,
   "metadata": {
    "colab": {
     "autoexec": {
      "startup": false,
      "wait_interval": 0
     },
     "base_uri": "https://localhost:8080/",
     "height": 204
    },
    "colab_type": "code",
    "executionInfo": {
     "elapsed": 285,
     "status": "ok",
     "timestamp": 1527623396520,
     "user": {
      "displayName": "Yajie Li",
      "photoUrl": "https://lh3.googleusercontent.com/a/default-user=s128",
      "userId": "105520643925225879740"
     },
     "user_tz": 420
    },
    "id": "f1VtB7YX14AR",
    "outputId": "93cc665b-6e10-493b-8b37-2245cf32c4ce"
   },
   "outputs": [
    {
     "data": {
      "text/html": [
       "<div>\n",
       "<style scoped>\n",
       "    .dataframe tbody tr th:only-of-type {\n",
       "        vertical-align: middle;\n",
       "    }\n",
       "\n",
       "    .dataframe tbody tr th {\n",
       "        vertical-align: top;\n",
       "    }\n",
       "\n",
       "    .dataframe thead th {\n",
       "        text-align: right;\n",
       "    }\n",
       "</style>\n",
       "<table border=\"1\" class=\"dataframe\">\n",
       "  <thead>\n",
       "    <tr style=\"text-align: right;\">\n",
       "      <th></th>\n",
       "      <th>InvoiceNo</th>\n",
       "      <th>Quantity</th>\n",
       "      <th>UnitPrice</th>\n",
       "      <th>TotalPrice</th>\n",
       "      <th>TotalPaidPrice</th>\n",
       "    </tr>\n",
       "  </thead>\n",
       "  <tbody>\n",
       "    <tr>\n",
       "      <th>141</th>\n",
       "      <td>C536379</td>\n",
       "      <td>-1</td>\n",
       "      <td>27.50</td>\n",
       "      <td>-27.50</td>\n",
       "      <td>0.0</td>\n",
       "    </tr>\n",
       "    <tr>\n",
       "      <th>154</th>\n",
       "      <td>C536383</td>\n",
       "      <td>-1</td>\n",
       "      <td>4.65</td>\n",
       "      <td>-4.65</td>\n",
       "      <td>0.0</td>\n",
       "    </tr>\n",
       "    <tr>\n",
       "      <th>235</th>\n",
       "      <td>C536391</td>\n",
       "      <td>-12</td>\n",
       "      <td>1.65</td>\n",
       "      <td>-19.80</td>\n",
       "      <td>0.0</td>\n",
       "    </tr>\n",
       "    <tr>\n",
       "      <th>236</th>\n",
       "      <td>C536391</td>\n",
       "      <td>-24</td>\n",
       "      <td>0.29</td>\n",
       "      <td>-6.96</td>\n",
       "      <td>0.0</td>\n",
       "    </tr>\n",
       "    <tr>\n",
       "      <th>237</th>\n",
       "      <td>C536391</td>\n",
       "      <td>-24</td>\n",
       "      <td>0.29</td>\n",
       "      <td>-6.96</td>\n",
       "      <td>0.0</td>\n",
       "    </tr>\n",
       "  </tbody>\n",
       "</table>\n",
       "</div>"
      ],
      "text/plain": [
       "    InvoiceNo  Quantity  UnitPrice  TotalPrice  TotalPaidPrice\n",
       "141   C536379        -1      27.50      -27.50             0.0\n",
       "154   C536383        -1       4.65       -4.65             0.0\n",
       "235   C536391       -12       1.65      -19.80             0.0\n",
       "236   C536391       -24       0.29       -6.96             0.0\n",
       "237   C536391       -24       0.29       -6.96             0.0"
      ]
     },
     "execution_count": 213,
     "metadata": {},
     "output_type": "execute_result"
    }
   ],
   "source": [
    "# example of TotalPaidPrice in canceled transaction(been canceled at the end)\n",
    "df[df.order_canceled == 1][['InvoiceNo', 'Quantity', 'UnitPrice', 'TotalPrice', 'TotalPaidPrice']].head()"
   ]
  },
  {
   "cell_type": "markdown",
   "metadata": {
    "colab_type": "text",
    "id": "0GD3oeGOBeBz"
   },
   "source": [
    "### Create a customer-level dataset\n",
    "\n",
    "We perform RFM analysis and extract the recency, frequency and monetary value of customers based on their purchase history."
   ]
  },
  {
   "cell_type": "markdown",
   "metadata": {
    "colab_type": "text",
    "id": "olM5QWIDFZdi"
   },
   "source": [
    "#### Recency\n",
    "- Create a new variable, \"recency\", defined as the number of days that have elapsed from each transaction to the latest day in the dataset.\n",
    "- Create a new variable, \"recency_last_transaction\", defined as the number of days that have elapsed from  the customer last purchased something to the latest day in the dataset. \n",
    "- Hence, smaller numbers indicate more recent transaction on the customer’s account.\n",
    "- For \"recency\", the same customer with the same invoiceID will have the same value. But the same customer with different invoiceID will have different values.\n",
    "- For \"recency_last_transaction\", the same customer with any invoiceID will have the same value."
   ]
  },
  {
   "cell_type": "code",
   "execution_count": 214,
   "metadata": {
    "colab": {
     "autoexec": {
      "startup": false,
      "wait_interval": 0
     },
     "base_uri": "https://localhost:8080/",
     "height": 51
    },
    "colab_type": "code",
    "executionInfo": {
     "elapsed": 334,
     "status": "ok",
     "timestamp": 1527623401012,
     "user": {
      "displayName": "Yajie Li",
      "photoUrl": "https://lh3.googleusercontent.com/a/default-user=s128",
      "userId": "105520643925225879740"
     },
     "user_tz": 420
    },
    "id": "jhYWtoUg14t8",
    "outputId": "ccf05f04-7145-4eea-d853-87a62fd7b087"
   },
   "outputs": [
    {
     "name": "stdout",
     "output_type": "stream",
     "text": [
      "The latest time in dataset:\n"
     ]
    },
    {
     "data": {
      "text/plain": [
       "Timestamp('2011-12-09 12:50:00')"
      ]
     },
     "execution_count": 214,
     "metadata": {},
     "output_type": "execute_result"
    }
   ],
   "source": [
    "# observe the time period in this dataset\n",
    "print('The latest time in dataset:')\n",
    "df.InvoiceDate.max()"
   ]
  },
  {
   "cell_type": "code",
   "execution_count": 215,
   "metadata": {
    "colab": {
     "autoexec": {
      "startup": false,
      "wait_interval": 0
     },
     "base_uri": "https://localhost:8080/",
     "height": 51
    },
    "colab_type": "code",
    "executionInfo": {
     "elapsed": 299,
     "status": "ok",
     "timestamp": 1527623403328,
     "user": {
      "displayName": "Yajie Li",
      "photoUrl": "https://lh3.googleusercontent.com/a/default-user=s128",
      "userId": "105520643925225879740"
     },
     "user_tz": 420
    },
    "id": "CDVUa1GaBX5Q",
    "outputId": "e394dcd0-bda4-43cb-d92a-572e90997026"
   },
   "outputs": [
    {
     "name": "stdout",
     "output_type": "stream",
     "text": [
      "The earliest time in dataset:\n"
     ]
    },
    {
     "data": {
      "text/plain": [
       "Timestamp('2010-12-01 08:26:00')"
      ]
     },
     "execution_count": 215,
     "metadata": {},
     "output_type": "execute_result"
    }
   ],
   "source": [
    "print('The earliest time in dataset:')\n",
    "df.InvoiceDate.min()"
   ]
  },
  {
   "cell_type": "code",
   "execution_count": 216,
   "metadata": {
    "colab": {
     "autoexec": {
      "startup": false,
      "wait_interval": 0
     }
    },
    "colab_type": "code",
    "collapsed": true,
    "id": "EFkgHsPVBX9W"
   },
   "outputs": [],
   "source": [
    "# create a new variable, recency, defined as the number of days from the transaction to the latest day in the dataset\n",
    "# so, smaller numbers indicate more recent transaction on the customer’s account\n",
    "df['recency'] = [(df.InvoiceDate.max() - invoice_date).days for invoice_date in df.InvoiceDate]"
   ]
  },
  {
   "cell_type": "code",
   "execution_count": 217,
   "metadata": {
    "colab": {
     "autoexec": {
      "startup": false,
      "wait_interval": 0
     },
     "base_uri": "https://localhost:8080/",
     "height": 204
    },
    "colab_type": "code",
    "executionInfo": {
     "elapsed": 331,
     "status": "ok",
     "timestamp": 1527626247076,
     "user": {
      "displayName": "Shanxing Gao",
      "photoUrl": "//lh3.googleusercontent.com/-gUuxtAudht4/AAAAAAAAAAI/AAAAAAAAACc/NSugdDfVEoI/s50-c-k-no/photo.jpg",
      "userId": "106706710481865681429"
     },
     "user_tz": 420
    },
    "id": "pBvXQiBIBX2C",
    "outputId": "25365412-82e2-46a5-fce7-e9335440df80"
   },
   "outputs": [
    {
     "data": {
      "text/html": [
       "<div>\n",
       "<style scoped>\n",
       "    .dataframe tbody tr th:only-of-type {\n",
       "        vertical-align: middle;\n",
       "    }\n",
       "\n",
       "    .dataframe tbody tr th {\n",
       "        vertical-align: top;\n",
       "    }\n",
       "\n",
       "    .dataframe thead th {\n",
       "        text-align: right;\n",
       "    }\n",
       "</style>\n",
       "<table border=\"1\" class=\"dataframe\">\n",
       "  <thead>\n",
       "    <tr style=\"text-align: right;\">\n",
       "      <th></th>\n",
       "      <th>CustomerID</th>\n",
       "      <th>InvoiceNo</th>\n",
       "      <th>InvoiceDate</th>\n",
       "      <th>TotalPaidPrice</th>\n",
       "      <th>recency</th>\n",
       "    </tr>\n",
       "  </thead>\n",
       "  <tbody>\n",
       "    <tr>\n",
       "      <th>0</th>\n",
       "      <td>17850.0</td>\n",
       "      <td>536365</td>\n",
       "      <td>2010-12-01 08:26:00</td>\n",
       "      <td>15.30</td>\n",
       "      <td>373</td>\n",
       "    </tr>\n",
       "    <tr>\n",
       "      <th>1</th>\n",
       "      <td>17850.0</td>\n",
       "      <td>536365</td>\n",
       "      <td>2010-12-01 08:26:00</td>\n",
       "      <td>20.34</td>\n",
       "      <td>373</td>\n",
       "    </tr>\n",
       "    <tr>\n",
       "      <th>2</th>\n",
       "      <td>17850.0</td>\n",
       "      <td>536365</td>\n",
       "      <td>2010-12-01 08:26:00</td>\n",
       "      <td>22.00</td>\n",
       "      <td>373</td>\n",
       "    </tr>\n",
       "    <tr>\n",
       "      <th>3</th>\n",
       "      <td>17850.0</td>\n",
       "      <td>536365</td>\n",
       "      <td>2010-12-01 08:26:00</td>\n",
       "      <td>20.34</td>\n",
       "      <td>373</td>\n",
       "    </tr>\n",
       "    <tr>\n",
       "      <th>4</th>\n",
       "      <td>17850.0</td>\n",
       "      <td>536365</td>\n",
       "      <td>2010-12-01 08:26:00</td>\n",
       "      <td>20.34</td>\n",
       "      <td>373</td>\n",
       "    </tr>\n",
       "  </tbody>\n",
       "</table>\n",
       "</div>"
      ],
      "text/plain": [
       "   CustomerID InvoiceNo         InvoiceDate  TotalPaidPrice  recency\n",
       "0     17850.0    536365 2010-12-01 08:26:00           15.30      373\n",
       "1     17850.0    536365 2010-12-01 08:26:00           20.34      373\n",
       "2     17850.0    536365 2010-12-01 08:26:00           22.00      373\n",
       "3     17850.0    536365 2010-12-01 08:26:00           20.34      373\n",
       "4     17850.0    536365 2010-12-01 08:26:00           20.34      373"
      ]
     },
     "execution_count": 217,
     "metadata": {},
     "output_type": "execute_result"
    }
   ],
   "source": [
    "df[['CustomerID', 'InvoiceNo', 'InvoiceDate', 'TotalPaidPrice', 'recency']].head()"
   ]
  },
  {
   "cell_type": "code",
   "execution_count": 218,
   "metadata": {
    "colab": {
     "autoexec": {
      "startup": false,
      "wait_interval": 0
     }
    },
    "colab_type": "code",
    "collapsed": true,
    "id": "3c0LSRKCiYYo"
   },
   "outputs": [],
   "source": [
    "# create a new variable, recency_last_transaction\n",
    "recency_last_transaction_dict = dict(df.groupby(['CustomerID'])['recency'].min())\n",
    "df['recency_last_transaction'] = [recency_last_transaction_dict[customer] for customer in df.CustomerID]"
   ]
  },
  {
   "cell_type": "code",
   "execution_count": 219,
   "metadata": {
    "colab": {
     "autoexec": {
      "startup": false,
      "wait_interval": 0
     },
     "base_uri": "https://localhost:8080/",
     "height": 204
    },
    "colab_type": "code",
    "executionInfo": {
     "elapsed": 310,
     "status": "ok",
     "timestamp": 1527626239644,
     "user": {
      "displayName": "Shanxing Gao",
      "photoUrl": "//lh3.googleusercontent.com/-gUuxtAudht4/AAAAAAAAAAI/AAAAAAAAACc/NSugdDfVEoI/s50-c-k-no/photo.jpg",
      "userId": "106706710481865681429"
     },
     "user_tz": 420
    },
    "id": "nzEJ5akelkly",
    "outputId": "e20ac85e-99f6-4200-ec12-890aa8ae6b6f"
   },
   "outputs": [
    {
     "data": {
      "text/html": [
       "<div>\n",
       "<style scoped>\n",
       "    .dataframe tbody tr th:only-of-type {\n",
       "        vertical-align: middle;\n",
       "    }\n",
       "\n",
       "    .dataframe tbody tr th {\n",
       "        vertical-align: top;\n",
       "    }\n",
       "\n",
       "    .dataframe thead th {\n",
       "        text-align: right;\n",
       "    }\n",
       "</style>\n",
       "<table border=\"1\" class=\"dataframe\">\n",
       "  <thead>\n",
       "    <tr style=\"text-align: right;\">\n",
       "      <th></th>\n",
       "      <th>CustomerID</th>\n",
       "      <th>InvoiceNo</th>\n",
       "      <th>InvoiceDate</th>\n",
       "      <th>TotalPaidPrice</th>\n",
       "      <th>recency</th>\n",
       "      <th>recency_last_transaction</th>\n",
       "    </tr>\n",
       "  </thead>\n",
       "  <tbody>\n",
       "    <tr>\n",
       "      <th>0</th>\n",
       "      <td>17850.0</td>\n",
       "      <td>536365</td>\n",
       "      <td>2010-12-01 08:26:00</td>\n",
       "      <td>15.30</td>\n",
       "      <td>373</td>\n",
       "      <td>301</td>\n",
       "    </tr>\n",
       "    <tr>\n",
       "      <th>1</th>\n",
       "      <td>17850.0</td>\n",
       "      <td>536365</td>\n",
       "      <td>2010-12-01 08:26:00</td>\n",
       "      <td>20.34</td>\n",
       "      <td>373</td>\n",
       "      <td>301</td>\n",
       "    </tr>\n",
       "    <tr>\n",
       "      <th>2</th>\n",
       "      <td>17850.0</td>\n",
       "      <td>536365</td>\n",
       "      <td>2010-12-01 08:26:00</td>\n",
       "      <td>22.00</td>\n",
       "      <td>373</td>\n",
       "      <td>301</td>\n",
       "    </tr>\n",
       "    <tr>\n",
       "      <th>3</th>\n",
       "      <td>17850.0</td>\n",
       "      <td>536365</td>\n",
       "      <td>2010-12-01 08:26:00</td>\n",
       "      <td>20.34</td>\n",
       "      <td>373</td>\n",
       "      <td>301</td>\n",
       "    </tr>\n",
       "    <tr>\n",
       "      <th>4</th>\n",
       "      <td>17850.0</td>\n",
       "      <td>536365</td>\n",
       "      <td>2010-12-01 08:26:00</td>\n",
       "      <td>20.34</td>\n",
       "      <td>373</td>\n",
       "      <td>301</td>\n",
       "    </tr>\n",
       "  </tbody>\n",
       "</table>\n",
       "</div>"
      ],
      "text/plain": [
       "   CustomerID InvoiceNo         InvoiceDate  TotalPaidPrice  recency  \\\n",
       "0     17850.0    536365 2010-12-01 08:26:00           15.30      373   \n",
       "1     17850.0    536365 2010-12-01 08:26:00           20.34      373   \n",
       "2     17850.0    536365 2010-12-01 08:26:00           22.00      373   \n",
       "3     17850.0    536365 2010-12-01 08:26:00           20.34      373   \n",
       "4     17850.0    536365 2010-12-01 08:26:00           20.34      373   \n",
       "\n",
       "   recency_last_transaction  \n",
       "0                       301  \n",
       "1                       301  \n",
       "2                       301  \n",
       "3                       301  \n",
       "4                       301  "
      ]
     },
     "execution_count": 219,
     "metadata": {},
     "output_type": "execute_result"
    }
   ],
   "source": [
    "df[['CustomerID', 'InvoiceNo', 'InvoiceDate', 'TotalPaidPrice', 'recency', 'recency_last_transaction']].head()"
   ]
  },
  {
   "cell_type": "code",
   "execution_count": 220,
   "metadata": {
    "colab": {
     "autoexec": {
      "startup": false,
      "wait_interval": 0
     },
     "base_uri": "https://localhost:8080/",
     "height": 349
    },
    "colab_type": "code",
    "executionInfo": {
     "elapsed": 524,
     "status": "ok",
     "timestamp": 1527627568328,
     "user": {
      "displayName": "Shanxing Gao",
      "photoUrl": "//lh3.googleusercontent.com/-gUuxtAudht4/AAAAAAAAAAI/AAAAAAAAACc/NSugdDfVEoI/s50-c-k-no/photo.jpg",
      "userId": "106706710481865681429"
     },
     "user_tz": 420
    },
    "id": "KbPw7RBTrbWm",
    "outputId": "7c39226d-25e4-49f3-ca56-711c217a442f"
   },
   "outputs": [
    {
     "data": {
      "image/png": "[encoded data removed]",
      "text/plain": [
       "<matplotlib.figure.Figure at 0x1a3cabcf60>"
      ]
     },
     "metadata": {},
     "output_type": "display_data"
    }
   ],
   "source": [
    "plt.figure(figsize=(12,5))\n",
    "sns.distplot(pd.Series(df.groupby(['CustomerID'])['recency_last_transaction'].mean().values))\n",
    "plt.title(\"Distribution of the number of days that have elapsed from the customer last purchased to the latest day(recency_last_transaction)\")\n",
    "plt.xlabel('recency last transaction(days)')\n",
    "plt.show()"
   ]
  },
  {
   "cell_type": "markdown",
   "metadata": {
    "colab_type": "text",
    "id": "is429h96IBgO"
   },
   "source": [
    "#### Frequency\n",
    "- For every customer, the \"Frequency_with_cancel\" refers to the number of invoices with any purchases(no matter the customer canceled it or not) during the entire time period in this dataset (from 2010-12-01 to 2011-12-09).\n",
    "- For every customer, the \"Frequency_exclude_cancel\" refers to the number of invoices with paid purchases(exclude the number of invoice that been canceled) during the entire time period in this dataset (from 2010-12-01 to 2011-12-09).\n",
    "- The same customer with any invoiceID will have the same value."
   ]
  },
  {
   "cell_type": "code",
   "execution_count": 225,
   "metadata": {
    "colab": {
     "autoexec": {
      "startup": false,
      "wait_interval": 0
     }
    },
    "colab_type": "code",
    "collapsed": true,
    "id": "ybJvh2aDIqsi"
   },
   "outputs": [],
   "source": [
    "# create a new variable, Frequency_with_cancel\n",
    "Frequency_with_cancel_dict = dict(df.groupby(['CustomerID'])['InvoiceNo'].nunique())\n",
    "df['Frequency_with_cancel'] = [Frequency_with_cancel_dict[customer] for customer in df.CustomerID]"
   ]
  },
  {
   "cell_type": "code",
   "execution_count": 226,
   "metadata": {
    "colab": {
     "autoexec": {
      "startup": false,
      "wait_interval": 0
     },
     "base_uri": "https://localhost:8080/",
     "height": 204
    },
    "colab_type": "code",
    "executionInfo": {
     "elapsed": 294,
     "status": "ok",
     "timestamp": 1527626553017,
     "user": {
      "displayName": "Shanxing Gao",
      "photoUrl": "//lh3.googleusercontent.com/-gUuxtAudht4/AAAAAAAAAAI/AAAAAAAAACc/NSugdDfVEoI/s50-c-k-no/photo.jpg",
      "userId": "106706710481865681429"
     },
     "user_tz": 420
    },
    "id": "jWL2-MFaoHwh",
    "outputId": "5151ee27-e12d-4b44-8db0-d432dfe67a47"
   },
   "outputs": [
    {
     "data": {
      "text/html": [
       "<div>\n",
       "<style scoped>\n",
       "    .dataframe tbody tr th:only-of-type {\n",
       "        vertical-align: middle;\n",
       "    }\n",
       "\n",
       "    .dataframe tbody tr th {\n",
       "        vertical-align: top;\n",
       "    }\n",
       "\n",
       "    .dataframe thead th {\n",
       "        text-align: right;\n",
       "    }\n",
       "</style>\n",
       "<table border=\"1\" class=\"dataframe\">\n",
       "  <thead>\n",
       "    <tr style=\"text-align: right;\">\n",
       "      <th></th>\n",
       "      <th>InvoiceNo</th>\n",
       "      <th>CustomerID</th>\n",
       "      <th>recency</th>\n",
       "      <th>recency_last_transaction</th>\n",
       "      <th>Frequency_with_cancel</th>\n",
       "    </tr>\n",
       "  </thead>\n",
       "  <tbody>\n",
       "    <tr>\n",
       "      <th>0</th>\n",
       "      <td>536365</td>\n",
       "      <td>17850.0</td>\n",
       "      <td>373</td>\n",
       "      <td>301</td>\n",
       "      <td>35</td>\n",
       "    </tr>\n",
       "    <tr>\n",
       "      <th>1</th>\n",
       "      <td>536365</td>\n",
       "      <td>17850.0</td>\n",
       "      <td>373</td>\n",
       "      <td>301</td>\n",
       "      <td>35</td>\n",
       "    </tr>\n",
       "    <tr>\n",
       "      <th>2</th>\n",
       "      <td>536365</td>\n",
       "      <td>17850.0</td>\n",
       "      <td>373</td>\n",
       "      <td>301</td>\n",
       "      <td>35</td>\n",
       "    </tr>\n",
       "    <tr>\n",
       "      <th>3</th>\n",
       "      <td>536365</td>\n",
       "      <td>17850.0</td>\n",
       "      <td>373</td>\n",
       "      <td>301</td>\n",
       "      <td>35</td>\n",
       "    </tr>\n",
       "    <tr>\n",
       "      <th>4</th>\n",
       "      <td>536365</td>\n",
       "      <td>17850.0</td>\n",
       "      <td>373</td>\n",
       "      <td>301</td>\n",
       "      <td>35</td>\n",
       "    </tr>\n",
       "  </tbody>\n",
       "</table>\n",
       "</div>"
      ],
      "text/plain": [
       "  InvoiceNo  CustomerID  recency  recency_last_transaction  \\\n",
       "0    536365     17850.0      373                       301   \n",
       "1    536365     17850.0      373                       301   \n",
       "2    536365     17850.0      373                       301   \n",
       "3    536365     17850.0      373                       301   \n",
       "4    536365     17850.0      373                       301   \n",
       "\n",
       "   Frequency_with_cancel  \n",
       "0                     35  \n",
       "1                     35  \n",
       "2                     35  \n",
       "3                     35  \n",
       "4                     35  "
      ]
     },
     "execution_count": 226,
     "metadata": {},
     "output_type": "execute_result"
    }
   ],
   "source": [
    "df[['InvoiceNo', 'CustomerID', 'recency', 'recency_last_transaction', 'Frequency_with_cancel']].head()"
   ]
  },
  {
   "cell_type": "code",
   "execution_count": 227,
   "metadata": {
    "colab": {
     "autoexec": {
      "startup": false,
      "wait_interval": 0
     }
    },
    "colab_type": "code",
    "collapsed": true,
    "id": "CcxoKyXGIqyr"
   },
   "outputs": [],
   "source": [
    "# create a new variable, Frequency_exclude_cancel\n",
    "Frequency_exclude_cancel_dict = dict(df[df.order_canceled == 0].groupby(['CustomerID'])['InvoiceNo'].nunique())\n",
    "df['Frequency_exclude_cancel'] = [Frequency_exclude_cancel_dict[customer] if customer in Frequency_exclude_cancel_dict.keys() else 0 for customer in df.CustomerID]"
   ]
  },
  {
   "cell_type": "code",
   "execution_count": 228,
   "metadata": {
    "colab": {
     "autoexec": {
      "startup": false,
      "wait_interval": 0
     },
     "base_uri": "https://localhost:8080/",
     "height": 204
    },
    "colab_type": "code",
    "executionInfo": {
     "elapsed": 515,
     "status": "ok",
     "timestamp": 1527626563452,
     "user": {
      "displayName": "Shanxing Gao",
      "photoUrl": "//lh3.googleusercontent.com/-gUuxtAudht4/AAAAAAAAAAI/AAAAAAAAACc/NSugdDfVEoI/s50-c-k-no/photo.jpg",
      "userId": "106706710481865681429"
     },
     "user_tz": 420
    },
    "id": "-jdGF4NUIqv-",
    "outputId": "d3fa8f93-07c7-4e57-c1bd-29fbee2d6f03"
   },
   "outputs": [
    {
     "data": {
      "text/html": [
       "<div>\n",
       "<style scoped>\n",
       "    .dataframe tbody tr th:only-of-type {\n",
       "        vertical-align: middle;\n",
       "    }\n",
       "\n",
       "    .dataframe tbody tr th {\n",
       "        vertical-align: top;\n",
       "    }\n",
       "\n",
       "    .dataframe thead th {\n",
       "        text-align: right;\n",
       "    }\n",
       "</style>\n",
       "<table border=\"1\" class=\"dataframe\">\n",
       "  <thead>\n",
       "    <tr style=\"text-align: right;\">\n",
       "      <th></th>\n",
       "      <th>InvoiceNo</th>\n",
       "      <th>CustomerID</th>\n",
       "      <th>recency</th>\n",
       "      <th>recency_last_transaction</th>\n",
       "      <th>Frequency_with_cancel</th>\n",
       "      <th>Frequency_exclude_cancel</th>\n",
       "    </tr>\n",
       "  </thead>\n",
       "  <tbody>\n",
       "    <tr>\n",
       "      <th>0</th>\n",
       "      <td>536365</td>\n",
       "      <td>17850.0</td>\n",
       "      <td>373</td>\n",
       "      <td>301</td>\n",
       "      <td>35</td>\n",
       "      <td>34</td>\n",
       "    </tr>\n",
       "    <tr>\n",
       "      <th>1</th>\n",
       "      <td>536365</td>\n",
       "      <td>17850.0</td>\n",
       "      <td>373</td>\n",
       "      <td>301</td>\n",
       "      <td>35</td>\n",
       "      <td>34</td>\n",
       "    </tr>\n",
       "    <tr>\n",
       "      <th>2</th>\n",
       "      <td>536365</td>\n",
       "      <td>17850.0</td>\n",
       "      <td>373</td>\n",
       "      <td>301</td>\n",
       "      <td>35</td>\n",
       "      <td>34</td>\n",
       "    </tr>\n",
       "    <tr>\n",
       "      <th>3</th>\n",
       "      <td>536365</td>\n",
       "      <td>17850.0</td>\n",
       "      <td>373</td>\n",
       "      <td>301</td>\n",
       "      <td>35</td>\n",
       "      <td>34</td>\n",
       "    </tr>\n",
       "    <tr>\n",
       "      <th>4</th>\n",
       "      <td>536365</td>\n",
       "      <td>17850.0</td>\n",
       "      <td>373</td>\n",
       "      <td>301</td>\n",
       "      <td>35</td>\n",
       "      <td>34</td>\n",
       "    </tr>\n",
       "  </tbody>\n",
       "</table>\n",
       "</div>"
      ],
      "text/plain": [
       "  InvoiceNo  CustomerID  recency  recency_last_transaction  \\\n",
       "0    536365     17850.0      373                       301   \n",
       "1    536365     17850.0      373                       301   \n",
       "2    536365     17850.0      373                       301   \n",
       "3    536365     17850.0      373                       301   \n",
       "4    536365     17850.0      373                       301   \n",
       "\n",
       "   Frequency_with_cancel  Frequency_exclude_cancel  \n",
       "0                     35                        34  \n",
       "1                     35                        34  \n",
       "2                     35                        34  \n",
       "3                     35                        34  \n",
       "4                     35                        34  "
      ]
     },
     "execution_count": 228,
     "metadata": {},
     "output_type": "execute_result"
    }
   ],
   "source": [
    "df[['InvoiceNo', 'CustomerID', 'recency', 'recency_last_transaction', 'Frequency_with_cancel', 'Frequency_exclude_cancel']].head()"
   ]
  },
  {
   "cell_type": "code",
   "execution_count": 229,
   "metadata": {
    "colab": {
     "autoexec": {
      "startup": false,
      "wait_interval": 0
     },
     "base_uri": "https://localhost:8080/",
     "height": 349
    },
    "colab_type": "code",
    "executionInfo": {
     "elapsed": 505,
     "status": "ok",
     "timestamp": 1527628349546,
     "user": {
      "displayName": "Shanxing Gao",
      "photoUrl": "//lh3.googleusercontent.com/-gUuxtAudht4/AAAAAAAAAAI/AAAAAAAAACc/NSugdDfVEoI/s50-c-k-no/photo.jpg",
      "userId": "106706710481865681429"
     },
     "user_tz": 420
    },
    "id": "DNj8CTcGs_SC",
    "outputId": "cf27a9be-93b8-4c27-c756-9f0b8edc57ff"
   },
   "outputs": [
    {
     "data": {
      "image/png": "[encoded data removed]",
      "text/plain": [
       "<matplotlib.figure.Figure at 0x1a3d2e83c8>"
      ]
     },
     "metadata": {},
     "output_type": "display_data"
    }
   ],
   "source": [
    "plt.figure(figsize=(12,5))\n",
    "sns.distplot(pd.Series(df.groupby(['CustomerID'])['Frequency_with_cancel'].mean().values))\n",
    "plt.title(\"Distribution of the number of invoices with any purchases(no matter the customer canceled it or not) that the customers have\")\n",
    "plt.xlabel('Frequency with cancel')\n",
    "plt.show()"
   ]
  },
  {
   "cell_type": "code",
   "execution_count": 230,
   "metadata": {
    "colab": {
     "autoexec": {
      "startup": false,
      "wait_interval": 0
     },
     "base_uri": "https://localhost:8080/",
     "height": 170
    },
    "colab_type": "code",
    "executionInfo": {
     "elapsed": 540,
     "status": "ok",
     "timestamp": 1527628520550,
     "user": {
      "displayName": "Shanxing Gao",
      "photoUrl": "//lh3.googleusercontent.com/-gUuxtAudht4/AAAAAAAAAAI/AAAAAAAAACc/NSugdDfVEoI/s50-c-k-no/photo.jpg",
      "userId": "106706710481865681429"
     },
     "user_tz": 420
    },
    "id": "KejtgPT_wTym",
    "outputId": "16018359-f702-4b6c-8f73-f7b955d44e18"
   },
   "outputs": [
    {
     "data": {
      "text/plain": [
       "count    4372.000000\n",
       "mean        5.075480\n",
       "std         9.338754\n",
       "min         1.000000\n",
       "25%         1.000000\n",
       "50%         3.000000\n",
       "75%         5.000000\n",
       "max       248.000000\n",
       "dtype: float64"
      ]
     },
     "execution_count": 230,
     "metadata": {},
     "output_type": "execute_result"
    }
   ],
   "source": [
    "pd.Series(df.groupby(['CustomerID'])['Frequency_with_cancel'].mean().values).describe()"
   ]
  },
  {
   "cell_type": "code",
   "execution_count": 231,
   "metadata": {
    "colab": {
     "autoexec": {
      "startup": false,
      "wait_interval": 0
     },
     "base_uri": "https://localhost:8080/",
     "height": 349
    },
    "colab_type": "code",
    "executionInfo": {
     "elapsed": 478,
     "status": "ok",
     "timestamp": 1527628357314,
     "user": {
      "displayName": "Shanxing Gao",
      "photoUrl": "//lh3.googleusercontent.com/-gUuxtAudht4/AAAAAAAAAAI/AAAAAAAAACc/NSugdDfVEoI/s50-c-k-no/photo.jpg",
      "userId": "106706710481865681429"
     },
     "user_tz": 420
    },
    "id": "o7EoF6LGuIXW",
    "outputId": "b131ec49-7f50-44bb-d440-e8f8970dd4aa"
   },
   "outputs": [
    {
     "data": {
      "image/png": "[encoded data removed]",
      "text/plain": [
       "<matplotlib.figure.Figure at 0x1a3d3c0898>"
      ]
     },
     "metadata": {},
     "output_type": "display_data"
    }
   ],
   "source": [
    "plt.figure(figsize=(12,5))\n",
    "sns.distplot(pd.Series(df.groupby(['CustomerID'])['Frequency_exclude_cancel'].mean().values))\n",
    "plt.title(\"Distribution of the number of invoices with paid purchases(exclude the number of invoice that been canceled) that the customers have\")\n",
    "plt.xlabel('Frequency exclude cancel')\n",
    "plt.show()"
   ]
  },
  {
   "cell_type": "code",
   "execution_count": 232,
   "metadata": {
    "colab": {
     "autoexec": {
      "startup": false,
      "wait_interval": 0
     },
     "base_uri": "https://localhost:8080/",
     "height": 170
    },
    "colab_type": "code",
    "executionInfo": {
     "elapsed": 325,
     "status": "ok",
     "timestamp": 1527628555220,
     "user": {
      "displayName": "Shanxing Gao",
      "photoUrl": "//lh3.googleusercontent.com/-gUuxtAudht4/AAAAAAAAAAI/AAAAAAAAACc/NSugdDfVEoI/s50-c-k-no/photo.jpg",
      "userId": "106706710481865681429"
     },
     "user_tz": 420
    },
    "id": "0qbn6Fiqwcgv",
    "outputId": "076d6497-fb97-49f4-f44c-b1d461996786"
   },
   "outputs": [
    {
     "data": {
      "text/plain": [
       "count    4372.000000\n",
       "mean        4.239707\n",
       "std         7.685252\n",
       "min         0.000000\n",
       "25%         1.000000\n",
       "50%         2.000000\n",
       "75%         5.000000\n",
       "max       210.000000\n",
       "dtype: float64"
      ]
     },
     "execution_count": 232,
     "metadata": {},
     "output_type": "execute_result"
    }
   ],
   "source": [
    "pd.Series(df.groupby(['CustomerID'])['Frequency_exclude_cancel'].mean().values).describe()"
   ]
  },
  {
   "cell_type": "markdown",
   "metadata": {
    "colab_type": "text",
    "id": "hIsl0TWwUVWy"
   },
   "source": [
    "#### Monetary value\n",
    "- \"Monetary_value\" is the amount that the customer spent during the year(exclude canceled transaction). For the customers who only have records of cancellation, will be assigned value of 0.\n",
    "- The same customer with any invoiceID will have the same value."
   ]
  },
  {
   "cell_type": "code",
   "execution_count": 233,
   "metadata": {
    "collapsed": true
   },
   "outputs": [],
   "source": [
    "# create a new variable, Monetary_value\n",
    "Monetary_value_dict = dict(df.groupby(['CustomerID'])['TotalPaidPrice'].sum())\n",
    "df['Monetary_value'] = [Monetary_value_dict[customer] for customer in df.CustomerID]"
   ]
  },
  {
   "cell_type": "code",
   "execution_count": 234,
   "metadata": {},
   "outputs": [
    {
     "data": {
      "text/html": [
       "<div>\n",
       "<style scoped>\n",
       "    .dataframe tbody tr th:only-of-type {\n",
       "        vertical-align: middle;\n",
       "    }\n",
       "\n",
       "    .dataframe tbody tr th {\n",
       "        vertical-align: top;\n",
       "    }\n",
       "\n",
       "    .dataframe thead th {\n",
       "        text-align: right;\n",
       "    }\n",
       "</style>\n",
       "<table border=\"1\" class=\"dataframe\">\n",
       "  <thead>\n",
       "    <tr style=\"text-align: right;\">\n",
       "      <th></th>\n",
       "      <th>InvoiceNo</th>\n",
       "      <th>CustomerID</th>\n",
       "      <th>recency</th>\n",
       "      <th>recency_last_transaction</th>\n",
       "      <th>Frequency_with_cancel</th>\n",
       "      <th>Frequency_exclude_cancel</th>\n",
       "      <th>Monetary_value</th>\n",
       "    </tr>\n",
       "  </thead>\n",
       "  <tbody>\n",
       "    <tr>\n",
       "      <th>0</th>\n",
       "      <td>536365</td>\n",
       "      <td>17850.0</td>\n",
       "      <td>373</td>\n",
       "      <td>301</td>\n",
       "      <td>35</td>\n",
       "      <td>34</td>\n",
       "      <td>5391.21</td>\n",
       "    </tr>\n",
       "    <tr>\n",
       "      <th>1</th>\n",
       "      <td>536365</td>\n",
       "      <td>17850.0</td>\n",
       "      <td>373</td>\n",
       "      <td>301</td>\n",
       "      <td>35</td>\n",
       "      <td>34</td>\n",
       "      <td>5391.21</td>\n",
       "    </tr>\n",
       "    <tr>\n",
       "      <th>2</th>\n",
       "      <td>536365</td>\n",
       "      <td>17850.0</td>\n",
       "      <td>373</td>\n",
       "      <td>301</td>\n",
       "      <td>35</td>\n",
       "      <td>34</td>\n",
       "      <td>5391.21</td>\n",
       "    </tr>\n",
       "    <tr>\n",
       "      <th>3</th>\n",
       "      <td>536365</td>\n",
       "      <td>17850.0</td>\n",
       "      <td>373</td>\n",
       "      <td>301</td>\n",
       "      <td>35</td>\n",
       "      <td>34</td>\n",
       "      <td>5391.21</td>\n",
       "    </tr>\n",
       "    <tr>\n",
       "      <th>4</th>\n",
       "      <td>536365</td>\n",
       "      <td>17850.0</td>\n",
       "      <td>373</td>\n",
       "      <td>301</td>\n",
       "      <td>35</td>\n",
       "      <td>34</td>\n",
       "      <td>5391.21</td>\n",
       "    </tr>\n",
       "  </tbody>\n",
       "</table>\n",
       "</div>"
      ],
      "text/plain": [
       "  InvoiceNo  CustomerID  recency  recency_last_transaction  \\\n",
       "0    536365     17850.0      373                       301   \n",
       "1    536365     17850.0      373                       301   \n",
       "2    536365     17850.0      373                       301   \n",
       "3    536365     17850.0      373                       301   \n",
       "4    536365     17850.0      373                       301   \n",
       "\n",
       "   Frequency_with_cancel  Frequency_exclude_cancel  Monetary_value  \n",
       "0                     35                        34         5391.21  \n",
       "1                     35                        34         5391.21  \n",
       "2                     35                        34         5391.21  \n",
       "3                     35                        34         5391.21  \n",
       "4                     35                        34         5391.21  "
      ]
     },
     "execution_count": 234,
     "metadata": {},
     "output_type": "execute_result"
    }
   ],
   "source": [
    "df[['InvoiceNo', 'CustomerID', 'recency', 'recency_last_transaction', 'Frequency_with_cancel', 'Frequency_exclude_cancel', 'Monetary_value']].head()"
   ]
  },
  {
   "cell_type": "code",
   "execution_count": 236,
   "metadata": {
    "colab": {
     "autoexec": {
      "startup": false,
      "wait_interval": 0
     },
     "base_uri": "https://localhost:8080/",
     "height": 349
    },
    "colab_type": "code",
    "executionInfo": {
     "elapsed": 646,
     "status": "ok",
     "timestamp": 1527628257981,
     "user": {
      "displayName": "Shanxing Gao",
      "photoUrl": "//lh3.googleusercontent.com/-gUuxtAudht4/AAAAAAAAAAI/AAAAAAAAACc/NSugdDfVEoI/s50-c-k-no/photo.jpg",
      "userId": "106706710481865681429"
     },
     "user_tz": 420
    },
    "id": "yw7DvaO0U5au",
    "outputId": "daba967f-cadf-4a49-d516-ae38cbab94ea"
   },
   "outputs": [
    {
     "data": {
      "image/png": "[encoded data removed]",
      "text/plain": [
       "<matplotlib.figure.Figure at 0x1a3e57e080>"
      ]
     },
     "metadata": {},
     "output_type": "display_data"
    }
   ],
   "source": [
    "plt.figure(figsize=(12,5))\n",
    "sns.distplot(pd.Series(df.groupby(['CustomerID'])['Monetary_value'].mean().values))\n",
    "plt.title(\"Distribution of the amount that the customer spent during the year(exclude canceled transaction)\")\n",
    "plt.xlabel('Amount of money')\n",
    "plt.show()"
   ]
  },
  {
   "cell_type": "code",
   "execution_count": 237,
   "metadata": {
    "colab": {
     "autoexec": {
      "startup": false,
      "wait_interval": 0
     },
     "base_uri": "https://localhost:8080/",
     "height": 204
    },
    "colab_type": "code",
    "executionInfo": {
     "elapsed": 353,
     "status": "ok",
     "timestamp": 1527626568843,
     "user": {
      "displayName": "Shanxing Gao",
      "photoUrl": "//lh3.googleusercontent.com/-gUuxtAudht4/AAAAAAAAAAI/AAAAAAAAACc/NSugdDfVEoI/s50-c-k-no/photo.jpg",
      "userId": "106706710481865681429"
     },
     "user_tz": 420
    },
    "id": "QfR3PwqsU5d6",
    "outputId": "ba6d5f7e-bee8-498d-816b-ead3b642d01b"
   },
   "outputs": [
    {
     "data": {
      "text/html": [
       "<div>\n",
       "<style scoped>\n",
       "    .dataframe tbody tr th:only-of-type {\n",
       "        vertical-align: middle;\n",
       "    }\n",
       "\n",
       "    .dataframe tbody tr th {\n",
       "        vertical-align: top;\n",
       "    }\n",
       "\n",
       "    .dataframe thead th {\n",
       "        text-align: right;\n",
       "    }\n",
       "</style>\n",
       "<table border=\"1\" class=\"dataframe\">\n",
       "  <thead>\n",
       "    <tr style=\"text-align: right;\">\n",
       "      <th></th>\n",
       "      <th>InvoiceNo</th>\n",
       "      <th>CustomerID</th>\n",
       "      <th>recency</th>\n",
       "      <th>recency_last_transaction</th>\n",
       "      <th>Frequency_with_cancel</th>\n",
       "      <th>Frequency_exclude_cancel</th>\n",
       "      <th>Monetary_value</th>\n",
       "    </tr>\n",
       "  </thead>\n",
       "  <tbody>\n",
       "    <tr>\n",
       "      <th>0</th>\n",
       "      <td>536365</td>\n",
       "      <td>17850.0</td>\n",
       "      <td>373</td>\n",
       "      <td>301</td>\n",
       "      <td>35</td>\n",
       "      <td>34</td>\n",
       "      <td>5391.21</td>\n",
       "    </tr>\n",
       "    <tr>\n",
       "      <th>1</th>\n",
       "      <td>536365</td>\n",
       "      <td>17850.0</td>\n",
       "      <td>373</td>\n",
       "      <td>301</td>\n",
       "      <td>35</td>\n",
       "      <td>34</td>\n",
       "      <td>5391.21</td>\n",
       "    </tr>\n",
       "    <tr>\n",
       "      <th>2</th>\n",
       "      <td>536365</td>\n",
       "      <td>17850.0</td>\n",
       "      <td>373</td>\n",
       "      <td>301</td>\n",
       "      <td>35</td>\n",
       "      <td>34</td>\n",
       "      <td>5391.21</td>\n",
       "    </tr>\n",
       "    <tr>\n",
       "      <th>3</th>\n",
       "      <td>536365</td>\n",
       "      <td>17850.0</td>\n",
       "      <td>373</td>\n",
       "      <td>301</td>\n",
       "      <td>35</td>\n",
       "      <td>34</td>\n",
       "      <td>5391.21</td>\n",
       "    </tr>\n",
       "    <tr>\n",
       "      <th>4</th>\n",
       "      <td>536365</td>\n",
       "      <td>17850.0</td>\n",
       "      <td>373</td>\n",
       "      <td>301</td>\n",
       "      <td>35</td>\n",
       "      <td>34</td>\n",
       "      <td>5391.21</td>\n",
       "    </tr>\n",
       "  </tbody>\n",
       "</table>\n",
       "</div>"
      ],
      "text/plain": [
       "  InvoiceNo  CustomerID  recency  recency_last_transaction  \\\n",
       "0    536365     17850.0      373                       301   \n",
       "1    536365     17850.0      373                       301   \n",
       "2    536365     17850.0      373                       301   \n",
       "3    536365     17850.0      373                       301   \n",
       "4    536365     17850.0      373                       301   \n",
       "\n",
       "   Frequency_with_cancel  Frequency_exclude_cancel  Monetary_value  \n",
       "0                     35                        34         5391.21  \n",
       "1                     35                        34         5391.21  \n",
       "2                     35                        34         5391.21  \n",
       "3                     35                        34         5391.21  \n",
       "4                     35                        34         5391.21  "
      ]
     },
     "execution_count": 237,
     "metadata": {},
     "output_type": "execute_result"
    }
   ],
   "source": [
    "df[['InvoiceNo', 'CustomerID', 'recency', 'recency_last_transaction', 'Frequency_with_cancel', 'Frequency_exclude_cancel', 'Monetary_value']].head()"
   ]
  },
  {
   "cell_type": "code",
   "execution_count": 238,
   "metadata": {
    "colab": {
     "autoexec": {
      "startup": false,
      "wait_interval": 0
     },
     "base_uri": "https://localhost:8080/",
     "height": 170
    },
    "colab_type": "code",
    "executionInfo": {
     "elapsed": 381,
     "status": "ok",
     "timestamp": 1527628447912,
     "user": {
      "displayName": "Shanxing Gao",
      "photoUrl": "//lh3.googleusercontent.com/-gUuxtAudht4/AAAAAAAAAAI/AAAAAAAAACc/NSugdDfVEoI/s50-c-k-no/photo.jpg",
      "userId": "106706710481865681429"
     },
     "user_tz": 420
    },
    "id": "sfyG4dBsODvx",
    "outputId": "cc1d328c-450b-480d-db77-aab2e35fb9b7"
   },
   "outputs": [
    {
     "data": {
      "text/plain": [
       "count      4372.000000\n",
       "mean       2032.755923\n",
       "std        8952.025481\n",
       "min           0.000000\n",
       "25%         302.175000\n",
       "50%         659.435000\n",
       "75%        1647.315000\n",
       "max      280206.020000\n",
       "dtype: float64"
      ]
     },
     "execution_count": 238,
     "metadata": {},
     "output_type": "execute_result"
    }
   ],
   "source": [
    "pd.Series(df.groupby(['CustomerID'])['Monetary_value'].mean().values).describe()"
   ]
  },
  {
   "cell_type": "code",
   "execution_count": 239,
   "metadata": {},
   "outputs": [
    {
     "data": {
      "text/html": [
       "<div>\n",
       "<style scoped>\n",
       "    .dataframe tbody tr th:only-of-type {\n",
       "        vertical-align: middle;\n",
       "    }\n",
       "\n",
       "    .dataframe tbody tr th {\n",
       "        vertical-align: top;\n",
       "    }\n",
       "\n",
       "    .dataframe thead th {\n",
       "        text-align: right;\n",
       "    }\n",
       "</style>\n",
       "<table border=\"1\" class=\"dataframe\">\n",
       "  <thead>\n",
       "    <tr style=\"text-align: right;\">\n",
       "      <th></th>\n",
       "      <th>CustomerID</th>\n",
       "      <th>TotalPrice</th>\n",
       "      <th>Quantity</th>\n",
       "      <th>InvoiceNo</th>\n",
       "      <th>AvgBasketDollar</th>\n",
       "      <th>AvgBasketQty</th>\n",
       "    </tr>\n",
       "  </thead>\n",
       "  <tbody>\n",
       "    <tr>\n",
       "      <th>0</th>\n",
       "      <td>12346.0</td>\n",
       "      <td>0.00</td>\n",
       "      <td>0</td>\n",
       "      <td>2</td>\n",
       "      <td>0.000000</td>\n",
       "      <td>0.000000</td>\n",
       "    </tr>\n",
       "    <tr>\n",
       "      <th>1</th>\n",
       "      <td>12347.0</td>\n",
       "      <td>4310.00</td>\n",
       "      <td>2458</td>\n",
       "      <td>7</td>\n",
       "      <td>615.714286</td>\n",
       "      <td>351.142857</td>\n",
       "    </tr>\n",
       "    <tr>\n",
       "      <th>2</th>\n",
       "      <td>12348.0</td>\n",
       "      <td>1797.24</td>\n",
       "      <td>2341</td>\n",
       "      <td>4</td>\n",
       "      <td>449.310000</td>\n",
       "      <td>585.250000</td>\n",
       "    </tr>\n",
       "    <tr>\n",
       "      <th>3</th>\n",
       "      <td>12349.0</td>\n",
       "      <td>1757.55</td>\n",
       "      <td>631</td>\n",
       "      <td>1</td>\n",
       "      <td>1757.550000</td>\n",
       "      <td>631.000000</td>\n",
       "    </tr>\n",
       "    <tr>\n",
       "      <th>4</th>\n",
       "      <td>12350.0</td>\n",
       "      <td>334.40</td>\n",
       "      <td>197</td>\n",
       "      <td>1</td>\n",
       "      <td>334.400000</td>\n",
       "      <td>197.000000</td>\n",
       "    </tr>\n",
       "  </tbody>\n",
       "</table>\n",
       "</div>"
      ],
      "text/plain": [
       "   CustomerID  TotalPrice  Quantity  InvoiceNo  AvgBasketDollar  AvgBasketQty\n",
       "0     12346.0        0.00         0          2         0.000000      0.000000\n",
       "1     12347.0     4310.00      2458          7       615.714286    351.142857\n",
       "2     12348.0     1797.24      2341          4       449.310000    585.250000\n",
       "3     12349.0     1757.55       631          1      1757.550000    631.000000\n",
       "4     12350.0      334.40       197          1       334.400000    197.000000"
      ]
     },
     "execution_count": 239,
     "metadata": {},
     "output_type": "execute_result"
    }
   ],
   "source": [
    "# Calculating average monetary value (avg basket size $ & #)\n",
    "# Retaining and recalculating some of the metrics from the EDA\n",
    "cust_1 = df.groupby(['CustomerID']).agg({'TotalPrice': 'sum', 'Quantity': 'sum'}).reset_index()\n",
    "cust_2 = df[['CustomerID','InvoiceNo']]\n",
    "cust_2.drop_duplicates(inplace = True)\n",
    "cust_3 = cust_2.groupby(['CustomerID']).agg({'InvoiceNo': 'count'}).reset_index()\n",
    "cust_4 = cust_1.merge(cust_3, on=\"CustomerID\", how =\"left\")\n",
    "cust_4['AvgBasketDollar'] = cust_4['TotalPrice']/cust_4['InvoiceNo']\n",
    "cust_4['AvgBasketQty'] = cust_4['Quantity']/cust_4['InvoiceNo']\n",
    "cust_4.head()"
   ]
  },
  {
   "cell_type": "markdown",
   "metadata": {
    "colab": {
     "autoexec": {
      "startup": false,
      "wait_interval": 0
     }
    },
    "colab_type": "code",
    "id": "LpfcxflwODsv"
   },
   "source": [
    "### Combining RFM metrics"
   ]
  },
  {
   "cell_type": "code",
   "execution_count": 240,
   "metadata": {
    "colab": {
     "autoexec": {
      "startup": false,
      "wait_interval": 0
     }
    },
    "colab_type": "code",
    "id": "QuDuJzTowN9U"
   },
   "outputs": [
    {
     "data": {
      "text/html": [
       "<div>\n",
       "<style scoped>\n",
       "    .dataframe tbody tr th:only-of-type {\n",
       "        vertical-align: middle;\n",
       "    }\n",
       "\n",
       "    .dataframe tbody tr th {\n",
       "        vertical-align: top;\n",
       "    }\n",
       "\n",
       "    .dataframe thead th {\n",
       "        text-align: right;\n",
       "    }\n",
       "</style>\n",
       "<table border=\"1\" class=\"dataframe\">\n",
       "  <thead>\n",
       "    <tr style=\"text-align: right;\">\n",
       "      <th></th>\n",
       "      <th>CustomerID</th>\n",
       "      <th>recency_last_transaction</th>\n",
       "    </tr>\n",
       "  </thead>\n",
       "  <tbody>\n",
       "    <tr>\n",
       "      <th>0</th>\n",
       "      <td>17850.0</td>\n",
       "      <td>301</td>\n",
       "    </tr>\n",
       "    <tr>\n",
       "      <th>9</th>\n",
       "      <td>13047.0</td>\n",
       "      <td>31</td>\n",
       "    </tr>\n",
       "    <tr>\n",
       "      <th>26</th>\n",
       "      <td>12583.0</td>\n",
       "      <td>2</td>\n",
       "    </tr>\n",
       "    <tr>\n",
       "      <th>46</th>\n",
       "      <td>13748.0</td>\n",
       "      <td>95</td>\n",
       "    </tr>\n",
       "    <tr>\n",
       "      <th>65</th>\n",
       "      <td>15100.0</td>\n",
       "      <td>329</td>\n",
       "    </tr>\n",
       "  </tbody>\n",
       "</table>\n",
       "</div>"
      ],
      "text/plain": [
       "    CustomerID  recency_last_transaction\n",
       "0      17850.0                       301\n",
       "9      13047.0                        31\n",
       "26     12583.0                         2\n",
       "46     13748.0                        95\n",
       "65     15100.0                       329"
      ]
     },
     "execution_count": 240,
     "metadata": {},
     "output_type": "execute_result"
    }
   ],
   "source": [
    "cust_5 = df[['CustomerID', 'recency_last_transaction']]\n",
    "cust_5.drop_duplicates(inplace = True)\n",
    "cust_5.head()"
   ]
  },
  {
   "cell_type": "code",
   "execution_count": 241,
   "metadata": {},
   "outputs": [
    {
     "data": {
      "text/html": [
       "<div>\n",
       "<style scoped>\n",
       "    .dataframe tbody tr th:only-of-type {\n",
       "        vertical-align: middle;\n",
       "    }\n",
       "\n",
       "    .dataframe tbody tr th {\n",
       "        vertical-align: top;\n",
       "    }\n",
       "\n",
       "    .dataframe thead th {\n",
       "        text-align: right;\n",
       "    }\n",
       "</style>\n",
       "<table border=\"1\" class=\"dataframe\">\n",
       "  <thead>\n",
       "    <tr style=\"text-align: right;\">\n",
       "      <th></th>\n",
       "      <th>CustomerID</th>\n",
       "      <th>totalMonetary</th>\n",
       "      <th>totalQty</th>\n",
       "      <th>frequency</th>\n",
       "      <th>AvgBasketDollar</th>\n",
       "      <th>AvgBasketQty</th>\n",
       "      <th>recency</th>\n",
       "    </tr>\n",
       "  </thead>\n",
       "  <tbody>\n",
       "    <tr>\n",
       "      <th>0</th>\n",
       "      <td>12346.0</td>\n",
       "      <td>0.00</td>\n",
       "      <td>0</td>\n",
       "      <td>2</td>\n",
       "      <td>0.000000</td>\n",
       "      <td>0.000000</td>\n",
       "      <td>325</td>\n",
       "    </tr>\n",
       "    <tr>\n",
       "      <th>1</th>\n",
       "      <td>12347.0</td>\n",
       "      <td>4310.00</td>\n",
       "      <td>2458</td>\n",
       "      <td>7</td>\n",
       "      <td>615.714286</td>\n",
       "      <td>351.142857</td>\n",
       "      <td>1</td>\n",
       "    </tr>\n",
       "    <tr>\n",
       "      <th>2</th>\n",
       "      <td>12348.0</td>\n",
       "      <td>1797.24</td>\n",
       "      <td>2341</td>\n",
       "      <td>4</td>\n",
       "      <td>449.310000</td>\n",
       "      <td>585.250000</td>\n",
       "      <td>74</td>\n",
       "    </tr>\n",
       "    <tr>\n",
       "      <th>3</th>\n",
       "      <td>12349.0</td>\n",
       "      <td>1757.55</td>\n",
       "      <td>631</td>\n",
       "      <td>1</td>\n",
       "      <td>1757.550000</td>\n",
       "      <td>631.000000</td>\n",
       "      <td>18</td>\n",
       "    </tr>\n",
       "    <tr>\n",
       "      <th>4</th>\n",
       "      <td>12350.0</td>\n",
       "      <td>334.40</td>\n",
       "      <td>197</td>\n",
       "      <td>1</td>\n",
       "      <td>334.400000</td>\n",
       "      <td>197.000000</td>\n",
       "      <td>309</td>\n",
       "    </tr>\n",
       "  </tbody>\n",
       "</table>\n",
       "</div>"
      ],
      "text/plain": [
       "   CustomerID  totalMonetary  totalQty  frequency  AvgBasketDollar  \\\n",
       "0     12346.0           0.00         0          2         0.000000   \n",
       "1     12347.0        4310.00      2458          7       615.714286   \n",
       "2     12348.0        1797.24      2341          4       449.310000   \n",
       "3     12349.0        1757.55       631          1      1757.550000   \n",
       "4     12350.0         334.40       197          1       334.400000   \n",
       "\n",
       "   AvgBasketQty  recency  \n",
       "0      0.000000      325  \n",
       "1    351.142857        1  \n",
       "2    585.250000       74  \n",
       "3    631.000000       18  \n",
       "4    197.000000      309  "
      ]
     },
     "execution_count": 241,
     "metadata": {},
     "output_type": "execute_result"
    }
   ],
   "source": [
    "# Merge all metrics\n",
    "cust_df = cust_4.merge(cust_5, on=\"CustomerID\", how=\"left\")\n",
    "cust_df.rename(columns={\"recency_last_transaction\":\"recency\",\"InvoiceNo\":\"frequency\",\n",
    "                        \"TotalPrice\":\"totalMonetary\",\"Quantity\":\"totalQty\"}, \n",
    "               inplace=True)\n",
    "cust_df.head()"
   ]
  },
  {
   "cell_type": "markdown",
   "metadata": {},
   "source": [
    "### Treating outliers"
   ]
  },
  {
   "cell_type": "code",
   "execution_count": 242,
   "metadata": {},
   "outputs": [
    {
     "name": "stdout",
     "output_type": "stream",
     "text": [
      "<class 'pandas.core.frame.DataFrame'>\n",
      "Int64Index: 4031 entries, 0 to 4371\n",
      "Data columns (total 7 columns):\n",
      "CustomerID         4031 non-null float64\n",
      "totalMonetary      4031 non-null float64\n",
      "totalQty           4031 non-null int64\n",
      "frequency          4031 non-null int64\n",
      "AvgBasketDollar    4031 non-null float64\n",
      "AvgBasketQty       4031 non-null float64\n",
      "recency            4031 non-null int64\n",
      "dtypes: float64(4), int64(3)\n",
      "memory usage: 251.9 KB\n"
     ]
    }
   ],
   "source": [
    "cust_df = cust_df[(np.abs(cust_df.totalMonetary-cust_df.totalMonetary.mean())<=(3*cust_df.totalMonetary.std()))]\n",
    "cust_df = cust_df[(np.abs(cust_df.totalQty-cust_df.totalQty.mean())<=(3*cust_df.totalQty.std()))]\n",
    "cust_df = cust_df[(np.abs(cust_df.frequency-cust_df.frequency.mean())<=(3*cust_df.frequency.std()))]\n",
    "cust_df = cust_df[(np.abs(cust_df.AvgBasketDollar-cust_df.AvgBasketDollar.mean())<=(3*cust_df.AvgBasketDollar.std()))]\n",
    "cust_df = cust_df[(np.abs(cust_df.AvgBasketQty-cust_df.AvgBasketQty.mean())<=(3*cust_df.AvgBasketQty.std()))]\n",
    "cust_df = cust_df[(np.abs(cust_df.recency-cust_df.recency.mean())<=(3*cust_df.recency.std()))]\n",
    "cust_df.info()"
   ]
  },
  {
   "cell_type": "markdown",
   "metadata": {},
   "source": [
    "## Modeling\n",
    "\n",
    "We use K-means clustering technique on the RFM features extracted above"
   ]
  },
  {
   "cell_type": "markdown",
   "metadata": {},
   "source": [
    "### Standardizing the variables"
   ]
  },
  {
   "cell_type": "code",
   "execution_count": 243,
   "metadata": {
    "colab": {
     "autoexec": {
      "startup": false,
      "wait_interval": 0
     }
    },
    "colab_type": "code",
    "id": "QCVaHXz3mj2d"
   },
   "outputs": [
    {
     "data": {
      "text/plain": [
       "array([[0.10975959, 0.0573755 , 0.05882353, 0.34387681, 0.20877378,\n",
       "        0.87131367],\n",
       "       [0.51571842, 0.52281765, 0.35294118, 0.68991979, 0.67275748,\n",
       "        0.00268097],\n",
       "       [0.2790416 , 0.50066275, 0.17647059, 0.59639746, 0.98209567,\n",
       "        0.19839142],\n",
       "       ...,\n",
       "       [0.12639354, 0.07593259, 0.11764706, 0.37696098, 0.25193798,\n",
       "        0.01876676],\n",
       "       [0.30242803, 0.31433441, 0.88235294, 0.41572845, 0.32084104,\n",
       "        0.0080429 ],\n",
       "       [0.28281297, 0.35769741, 0.11764706, 0.68807209, 0.90732911,\n",
       "        0.11260054]])"
      ]
     },
     "execution_count": 243,
     "metadata": {},
     "output_type": "execute_result"
    }
   ],
   "source": [
    "# Standardize the variables\n",
    "cust_std = cust_df[['totalMonetary','totalQty','frequency','AvgBasketDollar','AvgBasketQty',\n",
    "                    'recency']]\n",
    "scaler = MinMaxScaler()\n",
    "scaler.fit(cust_std)\n",
    "scaler.transform(cust_std)"
   ]
  },
  {
   "cell_type": "markdown",
   "metadata": {},
   "source": [
    "### Elbow-method analysis"
   ]
  },
  {
   "cell_type": "code",
   "execution_count": 244,
   "metadata": {},
   "outputs": [
    {
     "data": {
      "image/png": "[encoded data removed]",
      "text/plain": [
       "<matplotlib.figure.Figure at 0x1a3c9c0208>"
      ]
     },
     "metadata": {},
     "output_type": "display_data"
    }
   ],
   "source": [
    "# Use elbow method to decide on the ideal number of clusters\n",
    "distortions = []\n",
    "for i in range(1, 10):\n",
    "    km = KMeans(n_clusters=i,\n",
    "            init='k-means++',\n",
    "            n_init=10,\n",
    "            max_iter=300,\n",
    "            random_state=0)\n",
    "    km.fit(scaler.transform(cust_std))\n",
    "    distortions.append(km.inertia_)\n",
    "    \n",
    "plt.plot(range(1,10), distortions, marker='o')\n",
    "plt.xlabel('Number of clusters')\n",
    "plt.ylabel('Distortion')\n",
    "plt.title(\"Diamonds Elbow Method Cluster Analysis\")\n",
    "plt.show()"
   ]
  },
  {
   "cell_type": "markdown",
   "metadata": {},
   "source": [
    "### K-means Clustering"
   ]
  },
  {
   "cell_type": "code",
   "execution_count": 245,
   "metadata": {
    "collapsed": true
   },
   "outputs": [],
   "source": [
    "km = KMeans(n_clusters=3,\n",
    "            init='k-means++',\n",
    "            n_init=10,\n",
    "            max_iter=300,\n",
    "            random_state=0)\n",
    "kmeans = km.fit(scaler.transform(cust_std))\n",
    "y_km = km.fit_predict(scaler.transform(cust_std))\n",
    "cust_df['cluster'] = kmeans.labels_"
   ]
  },
  {
   "cell_type": "code",
   "execution_count": 246,
   "metadata": {
    "scrolled": false
   },
   "outputs": [
    {
     "data": {
      "image/png": "[encoded data removed]",
      "text/plain": [
       "<matplotlib.figure.Figure at 0x1a3c7c9438>"
      ]
     },
     "metadata": {},
     "output_type": "display_data"
    }
   ],
   "source": [
    "# Visualizing the clusters\n",
    "sns.set(style=\"whitegrid\", font_scale=1.2)\n",
    "plt.subplots(figsize = (20,15))\n",
    "plt.subplot(2,3,1)\n",
    "sns.boxplot(x='cluster', y='recency', data=cust_df)\n",
    "plt.subplot(2,3,2)\n",
    "sns.boxplot(x='cluster', y='frequency', data=cust_df)\n",
    "plt.subplot(2,3,3)\n",
    "sns.boxplot(x='cluster', y='totalQty', data=cust_df)\n",
    "plt.subplot(2,3,4)\n",
    "sns.boxplot(x='cluster', y='totalMonetary', data=cust_df)\n",
    "plt.subplot(2,3,5)\n",
    "sns.boxplot(x='cluster', y='AvgBasketDollar', data=cust_df)\n",
    "plt.subplot(2,3,6)\n",
    "sns.boxplot(x='cluster', y='AvgBasketQty', data=cust_df)\n",
    "plt.show()"
   ]
  },
  {
   "cell_type": "code",
   "execution_count": 247,
   "metadata": {},
   "outputs": [
    {
     "data": {
      "text/plain": [
       "<seaborn.axisgrid.FacetGrid at 0x1a3c9f81d0>"
      ]
     },
     "execution_count": 247,
     "metadata": {},
     "output_type": "execute_result"
    },
    {
     "data": {
      "image/png": "[encoded data removed]",
      "text/plain": [
       "<matplotlib.figure.Figure at 0x1a3c845f98>"
      ]
     },
     "metadata": {},
     "output_type": "display_data"
    }
   ],
   "source": [
    "sns.lmplot(x=\"recency\", y=\"totalMonetary\", hue=\"cluster\", data=cust_df, fit_reg=False)"
   ]
  },
  {
   "cell_type": "code",
   "execution_count": 248,
   "metadata": {
    "collapsed": true
   },
   "outputs": [],
   "source": [
    "# Silhoutte plot\n",
    "cust_std['y_km'] = y_km\n",
    "df0 = cust_std[cust_std.y_km == 0]\n",
    "df1 = cust_std[cust_std.y_km == 1]\n",
    "df2 = cust_std[cust_std.y_km == 2]\n",
    "final_df = df0.append(df1).append(df2)\n",
    "final_x = final_df.drop('y_km', axis=1)\n",
    "final_y = final_df['y_km']"
   ]
  },
  {
   "cell_type": "code",
   "execution_count": 249,
   "metadata": {},
   "outputs": [
    {
     "data": {
      "image/png": "[encoded data removed]",
      "text/plain": [
       "<matplotlib.figure.Figure at 0x1a3d253eb8>"
      ]
     },
     "metadata": {},
     "output_type": "display_data"
    }
   ],
   "source": [
    "cluster_labels = np.unique(final_y)\n",
    "n_clusters = cluster_labels.shape[0]\n",
    "silhouette_vals = silhouette_samples(scaler.transform(final_x),\n",
    "                                     final_y,\n",
    "                                     metric='euclidean')\n",
    "y_ax_lower, y_ax_upper = 0, 0\n",
    "yticks = []\n",
    "for i, c in enumerate(cluster_labels):\n",
    "    c_silhouette_vals = silhouette_vals[final_y == c]\n",
    "    c_silhouette_vals.sort()\n",
    "    y_ax_upper += len(c_silhouette_vals)\n",
    "    color = cm.jet(float(i)/n_clusters)\n",
    "    plt.barh(range(y_ax_lower, y_ax_upper), c_silhouette_vals, height=1.0, edgecolor='none',color=color)\n",
    "    yticks.append((y_ax_lower + y_ax_upper)/2)\n",
    "    y_ax_lower += len(c_silhouette_vals)\n",
    "silhouette_avg = np.mean(silhouette_vals)\n",
    "plt.axvline(silhouette_avg,\n",
    "            color=\"red\",\n",
    "            linestyle=\"--\")\n",
    "plt.yticks(yticks, cluster_labels + 1)\n",
    "plt.ylabel('Cluster')\n",
    "plt.xlabel('Silhouette coefficient')\n",
    "plt.title('Silhouette Plot Clusters')\n",
    "plt.show()"
   ]
  },
  {
   "cell_type": "markdown",
   "metadata": {
    "colab_type": "text",
    "id": "0Ap3pJUwmiVP"
   },
   "source": [
    "## Reference:\n",
    "- https://www.kaggle.com/esthergloriadawes/customer-segmentation/notebook\n",
    "- http://www.kimberlycoffey.com/blog/2016/8/k-means-clustering-for-customer-segmentation"
   ]
  }
 ],
 "metadata": {
  "colab": {
   "collapsed_sections": [],
   "default_view": {},
   "name": "453-FinalProject-CustSeg.ipynb",
   "provenance": [],
   "version": "0.3.2",
   "views": {}
  },
  "kernelspec": {
   "display_name": "Python 3",
   "language": "python",
   "name": "python3"
  },
  "language_info": {
   "codemirror_mode": {
    "name": "ipython",
    "version": 3
   },
   "file_extension": ".py",
   "mimetype": "text/x-python",
   "name": "python",
   "nbconvert_exporter": "python",
   "pygments_lexer": "ipython3",
   "version": "3.6.3"
  },
  "toc": {
   "nav_menu": {},
   "number_sections": true,
   "sideBar": true,
   "skip_h1_title": true,
   "title_cell": "Table of Contents",
   "title_sidebar": "Contents",
   "toc_cell": true,
   "toc_position": {
    "height": "calc(100% - 180px)",
    "left": "10px",
    "top": "150px",
    "width": "165px"
   },
   "toc_section_display": true,
   "toc_window_display": true
  }
 },
 "nbformat": 4,
 "nbformat_minor": 1
}
